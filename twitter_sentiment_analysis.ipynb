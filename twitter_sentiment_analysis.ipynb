{
  "cells": [
    {
      "cell_type": "markdown",
      "metadata": {
        "id": "X1V_s0Ms8NYY"
      },
      "source": [
        "## Datasets"
      ]
    },
    {
      "cell_type": "code",
      "execution_count": null,
      "metadata": {
        "id": "yQ9P30CSdm-k"
      },
      "outputs": [],
      "source": [
        "## Datasets\n",
        "## 1. Twitter sentiment extraction Kaggle dataset (27k): https://www.kaggle.com/competitions/tweet-sentiment-extraction/overview\n",
        "## 2. Imdb dataset (25k training and 25k testing): http://ai.stanford.edu/~amaas/data/sentiment/aclImdb_v1.tar.gz\n",
        "## 3. Sentiment140 (1.4M): http://cs.stanford.edu/people/alecmgo/trainingandtestdata.zip\n",
        "## 4. Sandars: https://github.com/zfz/twitter_corpus/blob/09afbfb5b580c848062aadbc4491fecc96b0a85a/full-corpus.csv"
      ]
    },
    {
      "cell_type": "markdown",
      "metadata": {
        "id": "Gxj5QBR8ppuL"
      },
      "source": [
        "## Importing libraries and tools"
      ]
    },
    {
      "cell_type": "code",
      "execution_count": null,
      "metadata": {
        "id": "ZU5G1k8akDcy"
      },
      "outputs": [],
      "source": [
        "# import locale\n",
        "# def getpreferredencoding(do_setlocale = True):\n",
        "#     return \"UTF-8\"\n",
        "# locale.getpreferredencoding = getpreferredencoding"
      ]
    },
    {
      "cell_type": "code",
      "execution_count": null,
      "metadata": {
        "id": "pPogQxnhj8Kq"
      },
      "outputs": [],
      "source": [
        "# import locale\n",
        "# print(locale.getpreferredencoding())"
      ]
    },
    {
      "cell_type": "code",
      "execution_count": null,
      "metadata": {
        "id": "uEzaxSvaBlBe"
      },
      "outputs": [],
      "source": []
    },
    {
      "cell_type": "code",
      "execution_count": null,
      "metadata": {
        "colab": {
          "base_uri": "https://localhost:8080/"
        },
        "id": "MKmkoPn6jf9p",
        "outputId": "407c3392-0d16-4759-90ba-5ef7e0c38892"
      },
      "outputs": [
        {
          "name": "stdout",
          "output_type": "stream",
          "text": [
            "Python 3.9.16\n"
          ]
        }
      ],
      "source": [
        "!python --version"
      ]
    },
    {
      "cell_type": "code",
      "execution_count": 2,
      "metadata": {
        "colab": {
          "base_uri": "https://localhost:8080/"
        },
        "id": "rDV_S0t2l6ba",
        "outputId": "69d78cd5-ccce-4cab-850d-9de1fde972fd"
      },
      "outputs": [
        {
          "output_type": "stream",
          "name": "stdout",
          "text": [
            "Looking in indexes: https://pypi.org/simple, https://us-python.pkg.dev/colab-wheels/public/simple/\n",
            "Collecting emoji\n",
            "  Downloading emoji-2.2.0.tar.gz (240 kB)\n",
            "\u001b[2K     \u001b[90m━━━━━━━━━━━━━━━━━━━━━━━━━━━━━━━━━━━━━━━\u001b[0m \u001b[32m240.9/240.9 kB\u001b[0m \u001b[31m5.1 MB/s\u001b[0m eta \u001b[36m0:00:00\u001b[0m\n",
            "\u001b[?25h  Preparing metadata (setup.py) ... \u001b[?25l\u001b[?25hdone\n",
            "Building wheels for collected packages: emoji\n",
            "  Building wheel for emoji (setup.py) ... \u001b[?25l\u001b[?25hdone\n",
            "  Created wheel for emoji: filename=emoji-2.2.0-py3-none-any.whl size=234926 sha256=e6e817dc25f0e5b9a07b121317abc9ea532f4a1236675c4c9308f417717a2eb3\n",
            "  Stored in directory: /root/.cache/pip/wheels/02/3d/88/51a592b9ad17e7899126563698b4e3961983ebe85747228ba6\n",
            "Successfully built emoji\n",
            "Installing collected packages: emoji\n",
            "Successfully installed emoji-2.2.0\n"
          ]
        }
      ],
      "source": [
        "!pip install emoji"
      ]
    },
    {
      "cell_type": "code",
      "execution_count": 3,
      "metadata": {
        "id": "KRyT5x2Fo-nr"
      },
      "outputs": [],
      "source": [
        "import numpy as np\n",
        "import pandas as pd \n",
        "import matplotlib.pyplot as plt\n",
        "import re\n",
        "import csv\n",
        "import os\n",
        "import sys\n",
        "import pickle\n",
        "import subprocess\n",
        "\n",
        "from sklearn.utils import shuffle\n",
        "\n",
        "import tensorflow as tf \n",
        "from tensorflow.keras.preprocessing.text import Tokenizer\n",
        "from tensorflow.keras.preprocessing.sequence import pad_sequences \n",
        "\n",
        "# import spacy\n",
        "import emoji"
      ]
    },
    {
      "cell_type": "code",
      "execution_count": 4,
      "metadata": {
        "colab": {
          "base_uri": "https://localhost:8080/"
        },
        "id": "Op0PMeshCT1l",
        "outputId": "64149d96-a072-4389-8f25-2f64195dabb0"
      },
      "outputs": [
        {
          "output_type": "stream",
          "name": "stdout",
          "text": [
            "Python version: 3.10.11 (main, Apr  5 2023, 14:15:10) [GCC 9.4.0]\n",
            "NumPy version: 1.22.4\n",
            "Pandas version: 1.5.3\n",
            "TensorFlow version: 2.12.0\n"
          ]
        }
      ],
      "source": [
        "## Versions\n",
        "print('Python version:', sys.version)\n",
        "print('NumPy version:', np.__version__)\n",
        "print('Pandas version:', pd.__version__)\n",
        "print('TensorFlow version:', tf.__version__)"
      ]
    },
    {
      "cell_type": "code",
      "execution_count": 5,
      "metadata": {
        "colab": {
          "base_uri": "https://localhost:8080/",
          "height": 107
        },
        "id": "yLQsviX80hUw",
        "outputId": "d90afa1e-f10b-4553-a2e3-4374e0ad8040"
      },
      "outputs": [
        {
          "output_type": "display_data",
          "data": {
            "text/plain": [
              "<IPython.core.display.HTML object>"
            ],
            "text/html": [
              "\n",
              "     <input type=\"file\" id=\"files-59216408-39b5-4b72-a3aa-983582242083\" name=\"files[]\" multiple disabled\n",
              "        style=\"border:none\" />\n",
              "     <output id=\"result-59216408-39b5-4b72-a3aa-983582242083\">\n",
              "      Upload widget is only available when the cell has been executed in the\n",
              "      current browser session. Please rerun this cell to enable.\n",
              "      </output>\n",
              "      <script>// Copyright 2017 Google LLC\n",
              "//\n",
              "// Licensed under the Apache License, Version 2.0 (the \"License\");\n",
              "// you may not use this file except in compliance with the License.\n",
              "// You may obtain a copy of the License at\n",
              "//\n",
              "//      http://www.apache.org/licenses/LICENSE-2.0\n",
              "//\n",
              "// Unless required by applicable law or agreed to in writing, software\n",
              "// distributed under the License is distributed on an \"AS IS\" BASIS,\n",
              "// WITHOUT WARRANTIES OR CONDITIONS OF ANY KIND, either express or implied.\n",
              "// See the License for the specific language governing permissions and\n",
              "// limitations under the License.\n",
              "\n",
              "/**\n",
              " * @fileoverview Helpers for google.colab Python module.\n",
              " */\n",
              "(function(scope) {\n",
              "function span(text, styleAttributes = {}) {\n",
              "  const element = document.createElement('span');\n",
              "  element.textContent = text;\n",
              "  for (const key of Object.keys(styleAttributes)) {\n",
              "    element.style[key] = styleAttributes[key];\n",
              "  }\n",
              "  return element;\n",
              "}\n",
              "\n",
              "// Max number of bytes which will be uploaded at a time.\n",
              "const MAX_PAYLOAD_SIZE = 100 * 1024;\n",
              "\n",
              "function _uploadFiles(inputId, outputId) {\n",
              "  const steps = uploadFilesStep(inputId, outputId);\n",
              "  const outputElement = document.getElementById(outputId);\n",
              "  // Cache steps on the outputElement to make it available for the next call\n",
              "  // to uploadFilesContinue from Python.\n",
              "  outputElement.steps = steps;\n",
              "\n",
              "  return _uploadFilesContinue(outputId);\n",
              "}\n",
              "\n",
              "// This is roughly an async generator (not supported in the browser yet),\n",
              "// where there are multiple asynchronous steps and the Python side is going\n",
              "// to poll for completion of each step.\n",
              "// This uses a Promise to block the python side on completion of each step,\n",
              "// then passes the result of the previous step as the input to the next step.\n",
              "function _uploadFilesContinue(outputId) {\n",
              "  const outputElement = document.getElementById(outputId);\n",
              "  const steps = outputElement.steps;\n",
              "\n",
              "  const next = steps.next(outputElement.lastPromiseValue);\n",
              "  return Promise.resolve(next.value.promise).then((value) => {\n",
              "    // Cache the last promise value to make it available to the next\n",
              "    // step of the generator.\n",
              "    outputElement.lastPromiseValue = value;\n",
              "    return next.value.response;\n",
              "  });\n",
              "}\n",
              "\n",
              "/**\n",
              " * Generator function which is called between each async step of the upload\n",
              " * process.\n",
              " * @param {string} inputId Element ID of the input file picker element.\n",
              " * @param {string} outputId Element ID of the output display.\n",
              " * @return {!Iterable<!Object>} Iterable of next steps.\n",
              " */\n",
              "function* uploadFilesStep(inputId, outputId) {\n",
              "  const inputElement = document.getElementById(inputId);\n",
              "  inputElement.disabled = false;\n",
              "\n",
              "  const outputElement = document.getElementById(outputId);\n",
              "  outputElement.innerHTML = '';\n",
              "\n",
              "  const pickedPromise = new Promise((resolve) => {\n",
              "    inputElement.addEventListener('change', (e) => {\n",
              "      resolve(e.target.files);\n",
              "    });\n",
              "  });\n",
              "\n",
              "  const cancel = document.createElement('button');\n",
              "  inputElement.parentElement.appendChild(cancel);\n",
              "  cancel.textContent = 'Cancel upload';\n",
              "  const cancelPromise = new Promise((resolve) => {\n",
              "    cancel.onclick = () => {\n",
              "      resolve(null);\n",
              "    };\n",
              "  });\n",
              "\n",
              "  // Wait for the user to pick the files.\n",
              "  const files = yield {\n",
              "    promise: Promise.race([pickedPromise, cancelPromise]),\n",
              "    response: {\n",
              "      action: 'starting',\n",
              "    }\n",
              "  };\n",
              "\n",
              "  cancel.remove();\n",
              "\n",
              "  // Disable the input element since further picks are not allowed.\n",
              "  inputElement.disabled = true;\n",
              "\n",
              "  if (!files) {\n",
              "    return {\n",
              "      response: {\n",
              "        action: 'complete',\n",
              "      }\n",
              "    };\n",
              "  }\n",
              "\n",
              "  for (const file of files) {\n",
              "    const li = document.createElement('li');\n",
              "    li.append(span(file.name, {fontWeight: 'bold'}));\n",
              "    li.append(span(\n",
              "        `(${file.type || 'n/a'}) - ${file.size} bytes, ` +\n",
              "        `last modified: ${\n",
              "            file.lastModifiedDate ? file.lastModifiedDate.toLocaleDateString() :\n",
              "                                    'n/a'} - `));\n",
              "    const percent = span('0% done');\n",
              "    li.appendChild(percent);\n",
              "\n",
              "    outputElement.appendChild(li);\n",
              "\n",
              "    const fileDataPromise = new Promise((resolve) => {\n",
              "      const reader = new FileReader();\n",
              "      reader.onload = (e) => {\n",
              "        resolve(e.target.result);\n",
              "      };\n",
              "      reader.readAsArrayBuffer(file);\n",
              "    });\n",
              "    // Wait for the data to be ready.\n",
              "    let fileData = yield {\n",
              "      promise: fileDataPromise,\n",
              "      response: {\n",
              "        action: 'continue',\n",
              "      }\n",
              "    };\n",
              "\n",
              "    // Use a chunked sending to avoid message size limits. See b/62115660.\n",
              "    let position = 0;\n",
              "    do {\n",
              "      const length = Math.min(fileData.byteLength - position, MAX_PAYLOAD_SIZE);\n",
              "      const chunk = new Uint8Array(fileData, position, length);\n",
              "      position += length;\n",
              "\n",
              "      const base64 = btoa(String.fromCharCode.apply(null, chunk));\n",
              "      yield {\n",
              "        response: {\n",
              "          action: 'append',\n",
              "          file: file.name,\n",
              "          data: base64,\n",
              "        },\n",
              "      };\n",
              "\n",
              "      let percentDone = fileData.byteLength === 0 ?\n",
              "          100 :\n",
              "          Math.round((position / fileData.byteLength) * 100);\n",
              "      percent.textContent = `${percentDone}% done`;\n",
              "\n",
              "    } while (position < fileData.byteLength);\n",
              "  }\n",
              "\n",
              "  // All done.\n",
              "  yield {\n",
              "    response: {\n",
              "      action: 'complete',\n",
              "    }\n",
              "  };\n",
              "}\n",
              "\n",
              "scope.google = scope.google || {};\n",
              "scope.google.colab = scope.google.colab || {};\n",
              "scope.google.colab._files = {\n",
              "  _uploadFiles,\n",
              "  _uploadFilesContinue,\n",
              "};\n",
              "})(self);\n",
              "</script> "
            ]
          },
          "metadata": {}
        },
        {
          "output_type": "stream",
          "name": "stdout",
          "text": [
            "Saving train.csv to train.csv\n",
            "Saving test.csv to test.csv\n"
          ]
        }
      ],
      "source": [
        "from google.colab import files\n",
        "file = files.upload()"
      ]
    },
    {
      "cell_type": "markdown",
      "metadata": {
        "id": "KwrqPGbwqPC4"
      },
      "source": [
        "## Utility functions"
      ]
    },
    {
      "cell_type": "code",
      "execution_count": 6,
      "metadata": {
        "id": "gB0q0sox1UCM"
      },
      "outputs": [],
      "source": [
        "# import pandas as pd\n",
        "# import numpy as np\n",
        "# import csv\n",
        "\n",
        "# from sklearn.utils import shuffle\n",
        "\n",
        "# filepath = 'train.csv'\n",
        "def pre_processing(filepath, split_size=None, num_classes=2, training_data=True, random_state=0, selected_text=False):\n",
        "    \"\"\"\n",
        "    Returns the training and validation data lists from the input csv path if training_data is True.\n",
        "    Else it returns testing data from the filepath. \n",
        "\n",
        "    This function is specific to the Twitter Sentiment extraction Kaggle dataset.\n",
        "    Link to data: https://www.kaggle.com/competitions/tweet-sentiment-extraction/overview\n",
        "\n",
        "    Parameters:\n",
        "        filepath (string): path to the data\n",
        "        split_size (float): train and test data ratio\n",
        "        num_classes (int): number of classes in the output labels\n",
        "        random_state (int): random_state for sklearn.shuffle\n",
        "        selected_text (bool): choosing selected text or total text from the train data\n",
        "\n",
        "    Returns:\n",
        "        if split_size is not None:\n",
        "        train_sentences (list): A list of strings for training\n",
        "        train_labels (list): A list of integers representing different classes for training\n",
        "        validation_sentences (list): A list of strings for validation\n",
        "        validation_labels (list): A list of integers representing different classes for validation\n",
        "\n",
        "        if split_size is None:\n",
        "        sentences (list): A list of strings\n",
        "        labels (list): A list of integers representing different classes\n",
        "    \"\"\"\n",
        "\n",
        "    assert num_classes == 3 or num_classes == 2, \"num_classes takes only integer values of 2 or 3\"\n",
        "\n",
        "    if training_data == True:\n",
        "        label_col, text_col = 3, 1\n",
        "    else:\n",
        "        label_col, text_col = 2, 1\n",
        "\n",
        "    sentences = []\n",
        "    labels = [] \n",
        "    with open(filepath) as f:\n",
        "        reader = csv.reader(f)\n",
        "        next(reader)\n",
        "        for row in reader:\n",
        "            if len(row[text_col]) <= 0: # Min number of characters\n",
        "                continue\n",
        "            # Appending classes: positive:1, negative:0, neutral:2\n",
        "            if num_classes == 3:\n",
        "                labels.append(0 if row[label_col]=='negative' else 1 if row[label_col]=='positive' else 2)\n",
        "            elif num_classes == 2:\n",
        "                if row[label_col] == 'neutral': continue\n",
        "                labels.append(0 if row[label_col]=='negative' else 1)\n",
        "            else:\n",
        "                raise ValueError(\"num_classes takes only integer values of 2 or 3\")\n",
        "\n",
        "            sentences.append(row[text_col])\n",
        "\n",
        "    # shuffling the data\n",
        "    sentences, labels = shuffle(sentences, labels, random_state=random_state)\n",
        "\n",
        "    if split_size is not None:\n",
        "        train_size = int(len(sentences) * split_size)\n",
        "\n",
        "        # splitting the data\n",
        "        train_sentences = sentences[:train_size]\n",
        "        train_labels = labels[:train_size]\n",
        "\n",
        "        validation_sentences = sentences[train_size:]\n",
        "        validation_labels = labels[train_size:]\n",
        "\n",
        "        assert len(np.unique(train_labels)) == len(np.unique(validation_labels)), \"Training or Validation sets have missing labels. Try a different random_state.\"\n",
        "        \n",
        "        return train_sentences, train_labels, validation_sentences, validation_labels\n",
        "    \n",
        "    else:\n",
        "        return sentences, labels\n",
        "\n",
        "# Plot Utility\n",
        "def plot_graphs(history, string):\n",
        "    \"\"\"Plots the train or validation losses and accuracies for each epoch.\"\"\"\n",
        "    plt.plot(history.history[string])\n",
        "    plt.plot(history.history['val_'+string])\n",
        "    plt.xlabel(\"Epochs\")\n",
        "    plt.ylabel(string)\n",
        "    plt.legend([string, 'val_'+string])\n",
        "    plt.show()\n",
        "\n",
        "\n",
        "## Saving entire model\n",
        "def save_model_tokenizer(model, tokenizer, name_tag='my', folder='saved_model'):\n",
        "    subprocess.run(\"mkdir -p saved_model\".split())\n",
        "    \n",
        "    # Saving tokenizer\n",
        "    with open('{}/{}_tokenizer.pickle'.format(folder, name_tag), 'wb') as handle:\n",
        "        pickle.dump(tokenizer, handle, protocol=pickle.HIGHEST_PROTOCOL)\n",
        "\n",
        "    # Saving model\n",
        "    model.save(os.path.join(folder, '{}_model'.format(name_tag)))\n",
        "\n",
        "def text_preprocessing(sentences):\n",
        "    # 1. Hastags to words, Emojis to text, replace '_', ':' and '.' with space ' '\n",
        "    cleaned_sentences = [re.sub(r'[_:.]', r' ', emoji.demojize(re.sub(r'#(\\w+)\\b', r'\\1', sentence))) for sentence in sentences]\n",
        "    # # 2. Removing stop words\n",
        "    # en = spacy.load('en_core_web_sm')\n",
        "    # sw_spacy = en.Defaults.stop_words\n",
        "    # cleaned_sentences = [' '.join([word for word in sentence.split() if word not in sw_spacy]) for sentence in cleaned_sentences]\n",
        "    return cleaned_sentences\n",
        "\n",
        "def transform_tweets(tweets, tokenizer, max_length=35):\n",
        "    sequences = tokenizer.texts_to_sequences(tweets)\n",
        "    padded = pad_sequences(sequences,maxlen=max_length)\n",
        "    return padded"
      ]
    },
    {
      "cell_type": "markdown",
      "metadata": {
        "id": "Qv47GAiksrBH"
      },
      "source": [
        "## Understanding data"
      ]
    },
    {
      "cell_type": "code",
      "execution_count": null,
      "metadata": {
        "id": "P5l6AoNv1iR7"
      },
      "outputs": [],
      "source": [
        "df = pd.read_csv('train.csv')"
      ]
    },
    {
      "cell_type": "code",
      "execution_count": null,
      "metadata": {
        "colab": {
          "base_uri": "https://localhost:8080/",
          "height": 215
        },
        "id": "mPeofhfi1oCf",
        "outputId": "e27c4876-0269-499a-846c-3d04a9d6fbc9"
      },
      "outputs": [
        {
          "data": {
            "text/html": [
              "\n",
              "  <div id=\"df-1a6e9888-9f3c-4c7b-9a10-472c2885d143\">\n",
              "    <div class=\"colab-df-container\">\n",
              "      <div>\n",
              "<style scoped>\n",
              "    .dataframe tbody tr th:only-of-type {\n",
              "        vertical-align: middle;\n",
              "    }\n",
              "\n",
              "    .dataframe tbody tr th {\n",
              "        vertical-align: top;\n",
              "    }\n",
              "\n",
              "    .dataframe thead th {\n",
              "        text-align: right;\n",
              "    }\n",
              "</style>\n",
              "<table border=\"1\" class=\"dataframe\">\n",
              "  <thead>\n",
              "    <tr style=\"text-align: right;\">\n",
              "      <th></th>\n",
              "      <th>textID</th>\n",
              "      <th>text</th>\n",
              "      <th>selected_text</th>\n",
              "      <th>sentiment</th>\n",
              "    </tr>\n",
              "  </thead>\n",
              "  <tbody>\n",
              "    <tr>\n",
              "      <th>0</th>\n",
              "      <td>cb774db0d1</td>\n",
              "      <td>I`d have responded, if I were going</td>\n",
              "      <td>I`d have responded, if I were going</td>\n",
              "      <td>neutral</td>\n",
              "    </tr>\n",
              "    <tr>\n",
              "      <th>1</th>\n",
              "      <td>549e992a42</td>\n",
              "      <td>Sooo SAD I will miss you here in San Diego!!!</td>\n",
              "      <td>Sooo SAD</td>\n",
              "      <td>negative</td>\n",
              "    </tr>\n",
              "    <tr>\n",
              "      <th>2</th>\n",
              "      <td>088c60f138</td>\n",
              "      <td>my boss is bullying me...</td>\n",
              "      <td>bullying me</td>\n",
              "      <td>negative</td>\n",
              "    </tr>\n",
              "    <tr>\n",
              "      <th>3</th>\n",
              "      <td>9642c003ef</td>\n",
              "      <td>what interview! leave me alone</td>\n",
              "      <td>leave me alone</td>\n",
              "      <td>negative</td>\n",
              "    </tr>\n",
              "    <tr>\n",
              "      <th>4</th>\n",
              "      <td>358bd9e861</td>\n",
              "      <td>Sons of ****, why couldn`t they put them on t...</td>\n",
              "      <td>Sons of ****,</td>\n",
              "      <td>negative</td>\n",
              "    </tr>\n",
              "  </tbody>\n",
              "</table>\n",
              "</div>\n",
              "      <button class=\"colab-df-convert\" onclick=\"convertToInteractive('df-1a6e9888-9f3c-4c7b-9a10-472c2885d143')\"\n",
              "              title=\"Convert this dataframe to an interactive table.\"\n",
              "              style=\"display:none;\">\n",
              "        \n",
              "  <svg xmlns=\"http://www.w3.org/2000/svg\" height=\"24px\"viewBox=\"0 0 24 24\"\n",
              "       width=\"24px\">\n",
              "    <path d=\"M0 0h24v24H0V0z\" fill=\"none\"/>\n",
              "    <path d=\"M18.56 5.44l.94 2.06.94-2.06 2.06-.94-2.06-.94-.94-2.06-.94 2.06-2.06.94zm-11 1L8.5 8.5l.94-2.06 2.06-.94-2.06-.94L8.5 2.5l-.94 2.06-2.06.94zm10 10l.94 2.06.94-2.06 2.06-.94-2.06-.94-.94-2.06-.94 2.06-2.06.94z\"/><path d=\"M17.41 7.96l-1.37-1.37c-.4-.4-.92-.59-1.43-.59-.52 0-1.04.2-1.43.59L10.3 9.45l-7.72 7.72c-.78.78-.78 2.05 0 2.83L4 21.41c.39.39.9.59 1.41.59.51 0 1.02-.2 1.41-.59l7.78-7.78 2.81-2.81c.8-.78.8-2.07 0-2.86zM5.41 20L4 18.59l7.72-7.72 1.47 1.35L5.41 20z\"/>\n",
              "  </svg>\n",
              "      </button>\n",
              "      \n",
              "  <style>\n",
              "    .colab-df-container {\n",
              "      display:flex;\n",
              "      flex-wrap:wrap;\n",
              "      gap: 12px;\n",
              "    }\n",
              "\n",
              "    .colab-df-convert {\n",
              "      background-color: #E8F0FE;\n",
              "      border: none;\n",
              "      border-radius: 50%;\n",
              "      cursor: pointer;\n",
              "      display: none;\n",
              "      fill: #1967D2;\n",
              "      height: 32px;\n",
              "      padding: 0 0 0 0;\n",
              "      width: 32px;\n",
              "    }\n",
              "\n",
              "    .colab-df-convert:hover {\n",
              "      background-color: #E2EBFA;\n",
              "      box-shadow: 0px 1px 2px rgba(60, 64, 67, 0.3), 0px 1px 3px 1px rgba(60, 64, 67, 0.15);\n",
              "      fill: #174EA6;\n",
              "    }\n",
              "\n",
              "    [theme=dark] .colab-df-convert {\n",
              "      background-color: #3B4455;\n",
              "      fill: #D2E3FC;\n",
              "    }\n",
              "\n",
              "    [theme=dark] .colab-df-convert:hover {\n",
              "      background-color: #434B5C;\n",
              "      box-shadow: 0px 1px 3px 1px rgba(0, 0, 0, 0.15);\n",
              "      filter: drop-shadow(0px 1px 2px rgba(0, 0, 0, 0.3));\n",
              "      fill: #FFFFFF;\n",
              "    }\n",
              "  </style>\n",
              "\n",
              "      <script>\n",
              "        const buttonEl =\n",
              "          document.querySelector('#df-1a6e9888-9f3c-4c7b-9a10-472c2885d143 button.colab-df-convert');\n",
              "        buttonEl.style.display =\n",
              "          google.colab.kernel.accessAllowed ? 'block' : 'none';\n",
              "\n",
              "        async function convertToInteractive(key) {\n",
              "          const element = document.querySelector('#df-1a6e9888-9f3c-4c7b-9a10-472c2885d143');\n",
              "          const dataTable =\n",
              "            await google.colab.kernel.invokeFunction('convertToInteractive',\n",
              "                                                     [key], {});\n",
              "          if (!dataTable) return;\n",
              "\n",
              "          const docLinkHtml = 'Like what you see? Visit the ' +\n",
              "            '<a target=\"_blank\" href=https://colab.research.google.com/notebooks/data_table.ipynb>data table notebook</a>'\n",
              "            + ' to learn more about interactive tables.';\n",
              "          element.innerHTML = '';\n",
              "          dataTable['output_type'] = 'display_data';\n",
              "          await google.colab.output.renderOutput(dataTable, element);\n",
              "          const docLink = document.createElement('div');\n",
              "          docLink.innerHTML = docLinkHtml;\n",
              "          element.appendChild(docLink);\n",
              "        }\n",
              "      </script>\n",
              "    </div>\n",
              "  </div>\n",
              "  "
            ],
            "text/plain": [
              "       textID                                               text  \\\n",
              "0  cb774db0d1                I`d have responded, if I were going   \n",
              "1  549e992a42      Sooo SAD I will miss you here in San Diego!!!   \n",
              "2  088c60f138                          my boss is bullying me...   \n",
              "3  9642c003ef                     what interview! leave me alone   \n",
              "4  358bd9e861   Sons of ****, why couldn`t they put them on t...   \n",
              "\n",
              "                         selected_text sentiment  \n",
              "0  I`d have responded, if I were going   neutral  \n",
              "1                             Sooo SAD  negative  \n",
              "2                          bullying me  negative  \n",
              "3                       leave me alone  negative  \n",
              "4                        Sons of ****,  negative  "
            ]
          },
          "execution_count": 8,
          "metadata": {},
          "output_type": "execute_result"
        }
      ],
      "source": [
        "df.head()"
      ]
    },
    {
      "cell_type": "code",
      "execution_count": null,
      "metadata": {
        "colab": {
          "base_uri": "https://localhost:8080/",
          "height": 175
        },
        "id": "fxVnlOUS1oww",
        "outputId": "b00c7efa-118a-4d0a-abea-e66c82cd6551"
      },
      "outputs": [
        {
          "data": {
            "text/html": [
              "\n",
              "  <div id=\"df-f5859ec0-74e6-4455-b0e1-5a37bcc33550\">\n",
              "    <div class=\"colab-df-container\">\n",
              "      <div>\n",
              "<style scoped>\n",
              "    .dataframe tbody tr th:only-of-type {\n",
              "        vertical-align: middle;\n",
              "    }\n",
              "\n",
              "    .dataframe tbody tr th {\n",
              "        vertical-align: top;\n",
              "    }\n",
              "\n",
              "    .dataframe thead th {\n",
              "        text-align: right;\n",
              "    }\n",
              "</style>\n",
              "<table border=\"1\" class=\"dataframe\">\n",
              "  <thead>\n",
              "    <tr style=\"text-align: right;\">\n",
              "      <th></th>\n",
              "      <th>textID</th>\n",
              "      <th>text</th>\n",
              "      <th>selected_text</th>\n",
              "      <th>sentiment</th>\n",
              "    </tr>\n",
              "  </thead>\n",
              "  <tbody>\n",
              "    <tr>\n",
              "      <th>count</th>\n",
              "      <td>27481</td>\n",
              "      <td>27480</td>\n",
              "      <td>27480</td>\n",
              "      <td>27481</td>\n",
              "    </tr>\n",
              "    <tr>\n",
              "      <th>unique</th>\n",
              "      <td>27481</td>\n",
              "      <td>27480</td>\n",
              "      <td>22463</td>\n",
              "      <td>3</td>\n",
              "    </tr>\n",
              "    <tr>\n",
              "      <th>top</th>\n",
              "      <td>cb774db0d1</td>\n",
              "      <td>I`d have responded, if I were going</td>\n",
              "      <td>good</td>\n",
              "      <td>neutral</td>\n",
              "    </tr>\n",
              "    <tr>\n",
              "      <th>freq</th>\n",
              "      <td>1</td>\n",
              "      <td>1</td>\n",
              "      <td>199</td>\n",
              "      <td>11118</td>\n",
              "    </tr>\n",
              "  </tbody>\n",
              "</table>\n",
              "</div>\n",
              "      <button class=\"colab-df-convert\" onclick=\"convertToInteractive('df-f5859ec0-74e6-4455-b0e1-5a37bcc33550')\"\n",
              "              title=\"Convert this dataframe to an interactive table.\"\n",
              "              style=\"display:none;\">\n",
              "        \n",
              "  <svg xmlns=\"http://www.w3.org/2000/svg\" height=\"24px\"viewBox=\"0 0 24 24\"\n",
              "       width=\"24px\">\n",
              "    <path d=\"M0 0h24v24H0V0z\" fill=\"none\"/>\n",
              "    <path d=\"M18.56 5.44l.94 2.06.94-2.06 2.06-.94-2.06-.94-.94-2.06-.94 2.06-2.06.94zm-11 1L8.5 8.5l.94-2.06 2.06-.94-2.06-.94L8.5 2.5l-.94 2.06-2.06.94zm10 10l.94 2.06.94-2.06 2.06-.94-2.06-.94-.94-2.06-.94 2.06-2.06.94z\"/><path d=\"M17.41 7.96l-1.37-1.37c-.4-.4-.92-.59-1.43-.59-.52 0-1.04.2-1.43.59L10.3 9.45l-7.72 7.72c-.78.78-.78 2.05 0 2.83L4 21.41c.39.39.9.59 1.41.59.51 0 1.02-.2 1.41-.59l7.78-7.78 2.81-2.81c.8-.78.8-2.07 0-2.86zM5.41 20L4 18.59l7.72-7.72 1.47 1.35L5.41 20z\"/>\n",
              "  </svg>\n",
              "      </button>\n",
              "      \n",
              "  <style>\n",
              "    .colab-df-container {\n",
              "      display:flex;\n",
              "      flex-wrap:wrap;\n",
              "      gap: 12px;\n",
              "    }\n",
              "\n",
              "    .colab-df-convert {\n",
              "      background-color: #E8F0FE;\n",
              "      border: none;\n",
              "      border-radius: 50%;\n",
              "      cursor: pointer;\n",
              "      display: none;\n",
              "      fill: #1967D2;\n",
              "      height: 32px;\n",
              "      padding: 0 0 0 0;\n",
              "      width: 32px;\n",
              "    }\n",
              "\n",
              "    .colab-df-convert:hover {\n",
              "      background-color: #E2EBFA;\n",
              "      box-shadow: 0px 1px 2px rgba(60, 64, 67, 0.3), 0px 1px 3px 1px rgba(60, 64, 67, 0.15);\n",
              "      fill: #174EA6;\n",
              "    }\n",
              "\n",
              "    [theme=dark] .colab-df-convert {\n",
              "      background-color: #3B4455;\n",
              "      fill: #D2E3FC;\n",
              "    }\n",
              "\n",
              "    [theme=dark] .colab-df-convert:hover {\n",
              "      background-color: #434B5C;\n",
              "      box-shadow: 0px 1px 3px 1px rgba(0, 0, 0, 0.15);\n",
              "      filter: drop-shadow(0px 1px 2px rgba(0, 0, 0, 0.3));\n",
              "      fill: #FFFFFF;\n",
              "    }\n",
              "  </style>\n",
              "\n",
              "      <script>\n",
              "        const buttonEl =\n",
              "          document.querySelector('#df-f5859ec0-74e6-4455-b0e1-5a37bcc33550 button.colab-df-convert');\n",
              "        buttonEl.style.display =\n",
              "          google.colab.kernel.accessAllowed ? 'block' : 'none';\n",
              "\n",
              "        async function convertToInteractive(key) {\n",
              "          const element = document.querySelector('#df-f5859ec0-74e6-4455-b0e1-5a37bcc33550');\n",
              "          const dataTable =\n",
              "            await google.colab.kernel.invokeFunction('convertToInteractive',\n",
              "                                                     [key], {});\n",
              "          if (!dataTable) return;\n",
              "\n",
              "          const docLinkHtml = 'Like what you see? Visit the ' +\n",
              "            '<a target=\"_blank\" href=https://colab.research.google.com/notebooks/data_table.ipynb>data table notebook</a>'\n",
              "            + ' to learn more about interactive tables.';\n",
              "          element.innerHTML = '';\n",
              "          dataTable['output_type'] = 'display_data';\n",
              "          await google.colab.output.renderOutput(dataTable, element);\n",
              "          const docLink = document.createElement('div');\n",
              "          docLink.innerHTML = docLinkHtml;\n",
              "          element.appendChild(docLink);\n",
              "        }\n",
              "      </script>\n",
              "    </div>\n",
              "  </div>\n",
              "  "
            ],
            "text/plain": [
              "            textID                                  text selected_text  \\\n",
              "count        27481                                 27480         27480   \n",
              "unique       27481                                 27480         22463   \n",
              "top     cb774db0d1   I`d have responded, if I were going          good   \n",
              "freq             1                                     1           199   \n",
              "\n",
              "       sentiment  \n",
              "count      27481  \n",
              "unique         3  \n",
              "top      neutral  \n",
              "freq       11118  "
            ]
          },
          "execution_count": 9,
          "metadata": {},
          "output_type": "execute_result"
        }
      ],
      "source": [
        "df.describe()"
      ]
    },
    {
      "cell_type": "code",
      "execution_count": null,
      "metadata": {
        "colab": {
          "base_uri": "https://localhost:8080/"
        },
        "id": "5ZRlVkcl1zg_",
        "outputId": "9d8cef57-2c51-4f02-94d7-beeb218a30fe"
      },
      "outputs": [
        {
          "name": "stdout",
          "output_type": "stream",
          "text": [
            "DATA POINTS PER CLASS:\n",
            "negative 7781\n",
            "neutral 11118\n",
            "positive 8582\n"
          ]
        }
      ],
      "source": [
        "print('Data points per class:'.upper())\n",
        "for group, df_group in df.groupby('sentiment'):\n",
        "    print(group, len(df_group))"
      ]
    },
    {
      "cell_type": "code",
      "execution_count": null,
      "metadata": {
        "id": "e3a6uakQ5OQu"
      },
      "outputs": [],
      "source": [
        "## Tentative preprocessing steps:\n",
        "## 1. Remove tweets with zero length or below below some threshold.\n",
        "## "
      ]
    },
    {
      "cell_type": "code",
      "execution_count": null,
      "metadata": {
        "colab": {
          "base_uri": "https://localhost:8080/"
        },
        "id": "HkLrep_y2A6y",
        "outputId": "eec058b8-584f-44bf-95bf-4757b0959d23"
      },
      "outputs": [
        {
          "name": "stdout",
          "output_type": "stream",
          "text": [
            "Statistics on length of text and selected_text:\n",
            "Min length: 0 0\n",
            "Max length: 141 141\n",
            "Average length: 68.33 36.71\n"
          ]
        }
      ],
      "source": [
        "print('Statistics on length of text and selected_text:')\n",
        "text_lengths = [len(string) for string in sentences]\n",
        "selected_text_lengths = [len(string) for string in selected_sentences]\n",
        "print('Min length:', np.min(text_lengths), np.min(selected_text_lengths))\n",
        "print('Max length:', np.max(text_lengths), np.max(selected_text_lengths))\n",
        "print('Average length: {:.2f} {:.2f}'.format(np.mean(text_lengths), np.mean(selected_text_lengths)))"
      ]
    },
    {
      "cell_type": "markdown",
      "metadata": {
        "id": "-acu5_Pys1zw"
      },
      "source": [
        "## Modeling: Twitter data"
      ]
    },
    {
      "cell_type": "markdown",
      "metadata": {
        "id": "KldIfj6TQqE1"
      },
      "source": [
        "### Preparing Data"
      ]
    },
    {
      "cell_type": "code",
      "execution_count": null,
      "metadata": {
        "id": "Ol-egFem3gBe"
      },
      "outputs": [],
      "source": [
        "# import tensorflow as tf \n",
        "# from tensorflow.keras.preprocessing.text import Tokenizer\n",
        "# from tensorflow.keras.preprocessing.sequence import pad_sequences "
      ]
    },
    {
      "cell_type": "code",
      "execution_count": 7,
      "metadata": {
        "id": "Msfl5noisJaw"
      },
      "outputs": [],
      "source": [
        "# Global Parameters\n",
        "vocab_size = 10000\n",
        "max_length = 35\n",
        "oov_token = '<OOV>'\n",
        "trunc_type = 'post'\n",
        "padding_type = 'post'"
      ]
    },
    {
      "cell_type": "code",
      "execution_count": 8,
      "metadata": {
        "colab": {
          "base_uri": "https://localhost:8080/"
        },
        "id": "oekbLt5s-U93",
        "outputId": "d4d972a3-9fc6-420f-a9be-f79eea0c0d6c"
      },
      "outputs": [
        {
          "output_type": "stream",
          "name": "stdout",
          "text": [
            "Training examples: 14726\n",
            "\tPositive examples: 7737\n",
            "\tNegative examples: 6989\n",
            "Validation examples: 1637\n",
            "\tPositive examples: 845\n",
            "\tNegative examples: 792\n",
            "Test examples: 2104\n",
            "\tPositive examples: 1103\n",
            "\tNegative examples: 1001\n",
            "Corpus size: 17750\n"
          ]
        }
      ],
      "source": [
        "filepath = 'train.csv'\n",
        "train_sentences, train_labels, validation_sentences, validation_labels = pre_processing(filepath, split_size=0.9, training_data=True)\n",
        "filepath = 'test.csv'\n",
        "test_sentences, test_labels = pre_processing(filepath, training_data=False)\n",
        "\n",
        "print('Training examples:', len(train_sentences))\n",
        "print('\\tPositive examples:', sum([1 for label in train_labels if label == 1 ]))\n",
        "print('\\tNegative examples:', sum([1 for label in train_labels if label == 0 ]))\n",
        "print('Validation examples:', len(validation_sentences))\n",
        "print('\\tPositive examples:', sum([1 for label in validation_labels if label == 1 ]))\n",
        "print('\\tNegative examples:', sum([1 for label in validation_labels if label == 0 ]))\n",
        "print('Test examples:', len(test_sentences))\n",
        "print('\\tPositive examples:', sum([1 for label in test_labels if label == 1 ]))\n",
        "print('\\tNegative examples:', sum([1 for label in test_labels if label == 0 ]))\n",
        "\n",
        "tokenizer = Tokenizer(num_words=vocab_size, oov_token=oov_token)\n",
        "tokenizer.fit_on_texts(train_sentences)\n",
        "\n",
        "word_index = tokenizer.word_index\n",
        "index_word = tokenizer.index_word\n",
        "print('Corpus size:', len(word_index))\n",
        "\n",
        "# Tokenizing training data\n",
        "num_classes = 2\n",
        "train_sequences = tokenizer.texts_to_sequences(train_sentences)\n",
        "padded_train_sequences = pad_sequences(train_sequences, maxlen=max_length, padding=padding_type, truncating=trunc_type)\n",
        "# train_labels = tf.keras.utils.to_categorical(np.array(train_labels), num_classes=num_classes, dtype='float32')\n",
        "\n",
        "# Tokenizing validation data\n",
        "validation_sequences = tokenizer.texts_to_sequences(validation_sentences)\n",
        "padded_validation_sequences = pad_sequences(validation_sequences, maxlen=max_length, padding=padding_type, truncating=trunc_type)\n",
        "# validation_labels = tf.keras.utils.to_categorical(np.array(validation_labels), num_classes=num_classes, dtype='float32')\n",
        "\n",
        "# Tokenizing test data\n",
        "test_sequences = tokenizer.texts_to_sequences(test_sentences)\n",
        "padded_test_sequences = pad_sequences(test_sequences,  maxlen=max_length, padding=padding_type, truncating=trunc_type)\n",
        "# test_labels = tf.keras.utils.to_categorical(np.array(test_labels), num_classes=num_classes, dtype='float32')\n"
      ]
    },
    {
      "cell_type": "code",
      "execution_count": 9,
      "metadata": {
        "id": "mO0xpCmXfRJD"
      },
      "outputs": [],
      "source": [
        "train_labels = np.array(train_labels)\n",
        "validation_labels = np.array(validation_labels)\n",
        "test_labels = np.array(test_labels)"
      ]
    },
    {
      "cell_type": "markdown",
      "metadata": {
        "id": "DIcvQfIYQv46"
      },
      "source": [
        "### Cross-Validation"
      ]
    },
    {
      "cell_type": "code",
      "execution_count": null,
      "metadata": {
        "id": "nJkZriagkito"
      },
      "outputs": [],
      "source": [
        "## Hyperparameters\n",
        "# dropout_rates = [0.4, 0.5, 0.6]\n",
        "# embedding_dims = [16, 32]\n",
        "# lstm_dims = [16, 24, 32, 64]\n",
        "# dense_dims = [16, 24, 32]\n"
      ]
    },
    {
      "cell_type": "code",
      "execution_count": null,
      "metadata": {
        "id": "4siZgmamsdw6"
      },
      "outputs": [],
      "source": [
        "## Hyperparameters\n",
        "dropout_rates = [0.4, 0.6]\n",
        "embedding_dims = [16, 32]\n",
        "lstm_dims = [16, 24, 32]\n",
        "dense_dims = [16, 32]"
      ]
    },
    {
      "cell_type": "code",
      "execution_count": null,
      "metadata": {
        "id": "YbPD6oc6lDDa"
      },
      "outputs": [],
      "source": [
        "\n",
        "def run_model(embedding_dim, lstm_dim, dense_dim, dropout_rate, epochs = 10):\n",
        "    \n",
        "    # Model Definition with LSTM\n",
        "    model_lstm = tf.keras.Sequential([\n",
        "        tf.keras.layers.Embedding(vocab_size, embedding_dim, input_length=max_length),\n",
        "        tf.keras.layers.Bidirectional(tf.keras.layers.LSTM(lstm_dim)),\n",
        "        tf.keras.layers.Dropout(dropout_rate),\n",
        "        tf.keras.layers.Dense(dense_dim, activation='relu'),\n",
        "        tf.keras.layers.Dropout(dropout_rate),\n",
        "        tf.keras.layers.Dense(3, activation='softmax')\n",
        "    ])\n",
        "\n",
        "    # Set the training parameters\n",
        "    model_lstm.compile(loss='categorical_crossentropy',optimizer='adam',metrics=['accuracy'])\n",
        "\n",
        "    # Train the model\n",
        "    history_lstm = model_lstm.fit(padded_train_sequences, train_labels, epochs=epochs, validation_data=(padded_validation_sequences, validation_labels), verbose=2)\n",
        "\n",
        "    model_params.append([embedding_dim, lstm_dim, dense_dim, dropout_rate, epochs])\n",
        "    history.append(history_lstm.history)\n",
        "\n"
      ]
    },
    {
      "cell_type": "code",
      "execution_count": null,
      "metadata": {
        "id": "BSjXm4ppmKSa"
      },
      "outputs": [],
      "source": [
        "count = 0\n",
        "epochs = 15\n",
        "model_params = []\n",
        "history = []\n",
        "for embedding_dim in embedding_dims:\n",
        "    for lstm_dim in lstm_dims:\n",
        "        for dense_dim in dense_dims:\n",
        "            for dropout_rate in dropout_rates:\n",
        "                print('Model Number:', count := count + 1)\n",
        "                print('Model Params:', embedding_dim, lstm_dim, dense_dim, dropout_rate, epochs)\n",
        "                run_model(embedding_dim, lstm_dim, dense_dim, dropout_rate, epochs = epochs)\n",
        " "
      ]
    },
    {
      "cell_type": "code",
      "execution_count": null,
      "metadata": {
        "id": "fIScrRLoR8cR"
      },
      "outputs": [],
      "source": [
        "import json\n",
        "with open('history.json', 'w') as f:\n",
        "    json.dump(history, f)\n",
        "\n",
        "with open('model_params.json', 'w') as f:\n",
        "    json.dump(model_params, f)"
      ]
    },
    {
      "cell_type": "code",
      "execution_count": null,
      "metadata": {
        "id": "vfQuCni16Gcx"
      },
      "outputs": [],
      "source": [
        "history[0]"
      ]
    },
    {
      "cell_type": "code",
      "execution_count": null,
      "metadata": {
        "colab": {
          "base_uri": "https://localhost:8080/",
          "height": 279
        },
        "id": "QhrWZ-Vb5pAs",
        "outputId": "25518261-498b-4aa6-9d5f-6bff46077d46"
      },
      "outputs": [
        {
          "data": {
            "image/png": "[encoded data removed]",
            "text/plain": [
              "<Figure size 432x288 with 2 Axes>"
            ]
          },
          "metadata": {},
          "output_type": "display_data"
        }
      ],
      "source": [
        "import matplotlib.pyplot as plt\n",
        "\n",
        "# Plot Utility\n",
        "# plt.subplots(1, 2)\n",
        "def plot_graphs(history, string):\n",
        "  if string == 'accuracy':\n",
        "    plt.subplot(2, 1, 1)\n",
        "  else: plt.subplot(2, 1, 2) \n",
        "  plt.plot(history[string])\n",
        "  plt.plot(history['val_'+string])\n",
        "  plt.xlabel(\"Epochs\")\n",
        "  plt.ylabel(string)\n",
        "  plt.legend([string, 'val_'+string])\n",
        "#   plt.show()\n",
        "\n",
        "# Plot the accuracy and loss history\n",
        "for h in history:\n",
        "    plot_graphs(h, 'accuracy')\n",
        "    plot_graphs(h, 'loss')"
      ]
    },
    {
      "cell_type": "markdown",
      "metadata": {
        "id": "iOZxxbwQROQn"
      },
      "source": [
        "### Model 1: LSTM Model (without GloVe embeddings)"
      ]
    },
    {
      "cell_type": "code",
      "execution_count": null,
      "metadata": {
        "colab": {
          "base_uri": "https://localhost:8080/"
        },
        "id": "-wyNpseBIDVC",
        "outputId": "c18dfb3c-755a-4e92-cd04-6fbcc4ad67f3"
      },
      "outputs": [
        {
          "name": "stdout",
          "output_type": "stream",
          "text": [
            "Model: \"sequential_5\"\n",
            "_________________________________________________________________\n",
            " Layer (type)                Output Shape              Param #   \n",
            "=================================================================\n",
            " embedding_5 (Embedding)     (None, 35, 16)            160000    \n",
            "                                                                 \n",
            " bidirectional_5 (Bidirectio  (None, 64)               12544     \n",
            " nal)                                                            \n",
            "                                                                 \n",
            " dropout_12 (Dropout)        (None, 64)                0         \n",
            "                                                                 \n",
            " dense_10 (Dense)            (None, 24)                1560      \n",
            "                                                                 \n",
            " dropout_13 (Dropout)        (None, 24)                0         \n",
            "                                                                 \n",
            " dense_11 (Dense)            (None, 3)                 75        \n",
            "                                                                 \n",
            "=================================================================\n",
            "Total params: 174,179\n",
            "Trainable params: 174,179\n",
            "Non-trainable params: 0\n",
            "_________________________________________________________________\n",
            "\n",
            "TRAINING MODEL:\n",
            "Epoch 1/10\n",
            "773/773 [==============================] - 25s 26ms/step - loss: 0.8250 - accuracy: 0.6162 - val_loss: 0.6370 - val_accuracy: 0.7700\n",
            "Epoch 2/10\n",
            "773/773 [==============================] - 7s 9ms/step - loss: 0.5838 - accuracy: 0.7852 - val_loss: 0.4806 - val_accuracy: 0.8261\n",
            "Epoch 3/10\n",
            "773/773 [==============================] - 7s 8ms/step - loss: 0.4684 - accuracy: 0.8407 - val_loss: 0.4681 - val_accuracy: 0.8210\n",
            "Epoch 4/10\n",
            "773/773 [==============================] - 7s 9ms/step - loss: 0.4145 - accuracy: 0.8641 - val_loss: 0.5025 - val_accuracy: 0.8111\n",
            "Epoch 5/10\n",
            "773/773 [==============================] - 6s 8ms/step - loss: 0.3677 - accuracy: 0.8763 - val_loss: 0.5211 - val_accuracy: 0.8166\n",
            "Epoch 6/10\n",
            "773/773 [==============================] - 7s 9ms/step - loss: 0.3467 - accuracy: 0.8906 - val_loss: 0.5671 - val_accuracy: 0.8195\n",
            "Epoch 7/10\n",
            "773/773 [==============================] - 6s 8ms/step - loss: 0.3188 - accuracy: 0.8974 - val_loss: 0.6312 - val_accuracy: 0.8159\n",
            "Epoch 8/10\n",
            "773/773 [==============================] - 7s 9ms/step - loss: 0.2964 - accuracy: 0.9054 - val_loss: 0.6408 - val_accuracy: 0.8068\n",
            "Epoch 9/10\n",
            "773/773 [==============================] - 6s 8ms/step - loss: 0.2771 - accuracy: 0.9111 - val_loss: 0.7911 - val_accuracy: 0.8137\n",
            "Epoch 10/10\n",
            "773/773 [==============================] - 6s 8ms/step - loss: 0.2668 - accuracy: 0.9157 - val_loss: 0.7130 - val_accuracy: 0.8100\n",
            "\n",
            "EVALUATING MODEL ON TEST DATA:\n",
            "111/111 [==============================] - 0s 4ms/step - loss: 2.4677 - accuracy: 0.5716\n"
          ]
        }
      ],
      "source": [
        "def model_one():\n",
        "    # Parameters\n",
        "    # vocab_size = 10000\n",
        "    embedding_dim = 16\n",
        "    lstm_dim = 32\n",
        "    dense_dim = 24\n",
        "\n",
        "    # Model Definition with LSTM\n",
        "    model_lstm = tf.keras.Sequential([\n",
        "        tf.keras.layers.Embedding(vocab_size, embedding_dim, input_length=max_length),\n",
        "        tf.keras.layers.Bidirectional(tf.keras.layers.LSTM(lstm_dim)),\n",
        "        tf.keras.layers.Dropout(0.6),\n",
        "        tf.keras.layers.Dense(dense_dim, activation='relu'),\n",
        "        tf.keras.layers.Dropout(0.6),\n",
        "        tf.keras.layers.Dense(3, activation='softmax')\n",
        "    ])\n",
        "\n",
        "    # Set the training parameters\n",
        "    model_lstm.compile(loss='categorical_crossentropy',optimizer='adam',metrics=['accuracy'])\n",
        "\n",
        "    # Print the model summary\n",
        "    model_lstm.summary()\n",
        "\n",
        "    NUM_EPOCHS = 10\n",
        "\n",
        "    # Train the model\n",
        "    print('\\nTRAINING MODEL:')\n",
        "    history_lstm = model_lstm.fit(padded_train_sequences, train_labels, epochs=NUM_EPOCHS, validation_data=(padded_validation_sequences, validation_labels))\n",
        "\n",
        "    # Evaluating on test data\n",
        "    print('\\nEVALUATING MODEL ON TEST DATA:')\n",
        "    model_lstm.evaluate(padded_test_sequences, test_labels)\n",
        "\n",
        "    return history_lstm\n",
        "\n",
        "history = model_one()\n"
      ]
    },
    {
      "cell_type": "code",
      "execution_count": null,
      "metadata": {
        "colab": {
          "base_uri": "https://localhost:8080/",
          "height": 541
        },
        "id": "uYc68g9kJPcs",
        "outputId": "56cfba19-7c4a-493a-cd63-40f6a9cc6b02"
      },
      "outputs": [
        {
          "data": {
            "image/png": "[encoded data removed]",
            "text/plain": [
              "<Figure size 432x288 with 1 Axes>"
            ]
          },
          "metadata": {},
          "output_type": "display_data"
        },
        {
          "data": {
            "image/png": "[encoded data removed]",
            "text/plain": [
              "<Figure size 432x288 with 1 Axes>"
            ]
          },
          "metadata": {},
          "output_type": "display_data"
        }
      ],
      "source": [
        "# Plot the accuracy and loss history\n",
        "plot_graphs(history, 'accuracy')\n",
        "plot_graphs(history, 'loss')"
      ]
    },
    {
      "cell_type": "markdown",
      "metadata": {
        "id": "o5cro8ErReWv"
      },
      "source": [
        "### Model 2: LSTM-CNN Model (without GloVe embeddings)"
      ]
    },
    {
      "cell_type": "code",
      "execution_count": null,
      "metadata": {
        "colab": {
          "base_uri": "https://localhost:8080/"
        },
        "id": "I1QDGcX6Oukn",
        "outputId": "813bb0a6-88a9-4cf3-a291-83f69c4fc1cc"
      },
      "outputs": [
        {
          "name": "stdout",
          "output_type": "stream",
          "text": [
            "Model: \"sequential_8\"\n",
            "_________________________________________________________________\n",
            " Layer (type)                Output Shape              Param #   \n",
            "=================================================================\n",
            " embedding_8 (Embedding)     (None, 35, 16)            160000    \n",
            "                                                                 \n",
            " bidirectional_8 (Bidirectio  (None, 35, 64)           12544     \n",
            " nal)                                                            \n",
            "                                                                 \n",
            " dropout_18 (Dropout)        (None, 35, 64)            0         \n",
            "                                                                 \n",
            " conv1d_5 (Conv1D)           (None, 31, 128)           41088     \n",
            "                                                                 \n",
            " global_average_pooling1d_5   (None, 128)              0         \n",
            " (GlobalAveragePooling1D)                                        \n",
            "                                                                 \n",
            " dense_16 (Dense)            (None, 24)                3096      \n",
            "                                                                 \n",
            " dropout_19 (Dropout)        (None, 24)                0         \n",
            "                                                                 \n",
            " dense_17 (Dense)            (None, 3)                 75        \n",
            "                                                                 \n",
            "=================================================================\n",
            "Total params: 216,803\n",
            "Trainable params: 216,803\n",
            "Non-trainable params: 0\n",
            "_________________________________________________________________\n",
            "\n",
            "TRAINING MODEL:\n",
            "Epoch 1/10\n",
            "773/773 [==============================] - 24s 26ms/step - loss: 0.8118 - accuracy: 0.6251 - val_loss: 0.7310 - val_accuracy: 0.7289\n",
            "Epoch 2/10\n",
            "773/773 [==============================] - 8s 11ms/step - loss: 0.6688 - accuracy: 0.7379 - val_loss: 0.6446 - val_accuracy: 0.7595\n",
            "Epoch 3/10\n",
            "773/773 [==============================] - 7s 9ms/step - loss: 0.5798 - accuracy: 0.7849 - val_loss: 0.5610 - val_accuracy: 0.8013\n",
            "Epoch 4/10\n",
            "773/773 [==============================] - 8s 10ms/step - loss: 0.4644 - accuracy: 0.8295 - val_loss: 0.5208 - val_accuracy: 0.8046\n",
            "Epoch 5/10\n",
            "773/773 [==============================] - 7s 9ms/step - loss: 0.4144 - accuracy: 0.8514 - val_loss: 0.6074 - val_accuracy: 0.8126\n",
            "Epoch 6/10\n",
            "773/773 [==============================] - 8s 11ms/step - loss: 0.3784 - accuracy: 0.8673 - val_loss: 0.7428 - val_accuracy: 0.8166\n",
            "Epoch 7/10\n",
            "773/773 [==============================] - 8s 10ms/step - loss: 0.3518 - accuracy: 0.8801 - val_loss: 0.8283 - val_accuracy: 0.7918\n",
            "Epoch 8/10\n",
            "773/773 [==============================] - 7s 9ms/step - loss: 0.3211 - accuracy: 0.8895 - val_loss: 0.8050 - val_accuracy: 0.8111\n",
            "Epoch 9/10\n",
            "773/773 [==============================] - 8s 10ms/step - loss: 0.2956 - accuracy: 0.8972 - val_loss: 0.9394 - val_accuracy: 0.8166\n",
            "Epoch 10/10\n",
            "773/773 [==============================] - 8s 10ms/step - loss: 0.2789 - accuracy: 0.9058 - val_loss: 0.9788 - val_accuracy: 0.7984\n",
            "\n",
            "EVALUATING MODEL ON TEST DATA:\n",
            "111/111 [==============================] - 0s 4ms/step - loss: 4.0309 - accuracy: 0.5574\n"
          ]
        }
      ],
      "source": [
        "### LSTM-CNN MODEL\n",
        "def model_two():\n",
        "    # Parameters\n",
        "    # vocab_size = 10000\n",
        "    embedding_dim = 16\n",
        "    lstm_dim = 32\n",
        "    dense_dim = 24\n",
        "\n",
        "    # Model Definition with LSTM\n",
        "    model_lstm_conv = tf.keras.Sequential([\n",
        "        tf.keras.layers.Embedding(vocab_size, embedding_dim, input_length=max_length),\n",
        "        tf.keras.layers.Bidirectional(tf.keras.layers.LSTM(lstm_dim, return_sequences=True)),\n",
        "        tf.keras.layers.Dropout(0.6),\n",
        "        tf.keras.layers.Conv1D(128, 5, activation='relu'),\n",
        "        tf.keras.layers.GlobalAveragePooling1D(),\n",
        "        tf.keras.layers.Dense(dense_dim, activation='relu'),\n",
        "        tf.keras.layers.Dropout(0.6),\n",
        "        tf.keras.layers.Dense(3, activation='softmax')\n",
        "    ])\n",
        "\n",
        "    # Set the training parameters\n",
        "    model_lstm_conv.compile(loss='categorical_crossentropy',optimizer='adam',metrics=['accuracy'])\n",
        "\n",
        "    # Print the model summary\n",
        "    model_lstm_conv.summary()\n",
        "\n",
        "    NUM_EPOCHS = 10\n",
        "\n",
        "    # Train the model\n",
        "    print('\\nTRAINING MODEL:')\n",
        "    history_lstm_conv = model_lstm_conv.fit(padded_train_sequences, train_labels, epochs=NUM_EPOCHS, validation_data=(padded_validation_sequences, validation_labels))\n",
        "\n",
        "    # Evaluating on test data\n",
        "    print('\\nEVALUATING MODEL ON TEST DATA:')\n",
        "    model_lstm_conv.evaluate(padded_test_sequences, test_labels)\n",
        "\n",
        "    return history_lstm_conv \n",
        "\n",
        "history = model_two()"
      ]
    },
    {
      "cell_type": "code",
      "execution_count": null,
      "metadata": {
        "colab": {
          "base_uri": "https://localhost:8080/",
          "height": 541
        },
        "id": "IoxEEJChRqCD",
        "outputId": "8a80a9ed-9b7f-4d01-b9ed-21acec8814b0"
      },
      "outputs": [
        {
          "data": {
            "image/png": "[encoded data removed]",
            "text/plain": [
              "<Figure size 432x288 with 1 Axes>"
            ]
          },
          "metadata": {},
          "output_type": "display_data"
        },
        {
          "data": {
            "image/png": "[encoded data removed]",
            "text/plain": [
              "<Figure size 432x288 with 1 Axes>"
            ]
          },
          "metadata": {},
          "output_type": "display_data"
        }
      ],
      "source": [
        "# Plot the accuracy and loss history\n",
        "plot_graphs(history, 'accuracy')\n",
        "plot_graphs(history, 'loss')"
      ]
    },
    {
      "cell_type": "markdown",
      "metadata": {
        "id": "ksJk5hogSBUX"
      },
      "source": [
        "### Downloading Twitter GloVe Embeddings"
      ]
    },
    {
      "cell_type": "code",
      "execution_count": 10,
      "metadata": {
        "colab": {
          "base_uri": "https://localhost:8080/"
        },
        "id": "WuNLUNY8jAkO",
        "outputId": "936927ff-9eba-4f82-b309-a546e2b814d8"
      },
      "outputs": [
        {
          "output_type": "stream",
          "name": "stdout",
          "text": [
            "--2023-04-29 06:58:13--  https://nlp.stanford.edu/data/glove.twitter.27B.zip\n",
            "Resolving nlp.stanford.edu (nlp.stanford.edu)... 171.64.67.140\n",
            "Connecting to nlp.stanford.edu (nlp.stanford.edu)|171.64.67.140|:443... connected.\n",
            "HTTP request sent, awaiting response... 301 Moved Permanently\n",
            "Location: https://downloads.cs.stanford.edu/nlp/data/glove.twitter.27B.zip [following]\n",
            "--2023-04-29 06:58:13--  https://downloads.cs.stanford.edu/nlp/data/glove.twitter.27B.zip\n",
            "Resolving downloads.cs.stanford.edu (downloads.cs.stanford.edu)... 171.64.64.22\n",
            "Connecting to downloads.cs.stanford.edu (downloads.cs.stanford.edu)|171.64.64.22|:443... connected.\n",
            "HTTP request sent, awaiting response... 200 OK\n",
            "Length: 1520408563 (1.4G) [application/zip]\n",
            "Saving to: ‘glove.twitter.27B.zip’\n",
            "\n",
            "glove.twitter.27B.z 100%[===================>]   1.42G  5.01MB/s    in 4m 44s  \n",
            "\n",
            "2023-04-29 07:02:57 (5.10 MB/s) - ‘glove.twitter.27B.zip’ saved [1520408563/1520408563]\n",
            "\n"
          ]
        }
      ],
      "source": [
        "!wget https://nlp.stanford.edu/data/glove.twitter.27B.zip"
      ]
    },
    {
      "cell_type": "code",
      "execution_count": 11,
      "metadata": {
        "id": "qbn848rZjRKu"
      },
      "outputs": [],
      "source": [
        "!unzip -q glove.twitter.27B.zip"
      ]
    },
    {
      "cell_type": "code",
      "execution_count": null,
      "metadata": {
        "colab": {
          "base_uri": "https://localhost:8080/"
        },
        "id": "Xlj3xQfea4ws",
        "outputId": "d19b8e13-c1ae-4c03-febd-c9278b721fa1"
      },
      "outputs": [
        {
          "name": "stdout",
          "output_type": "stream",
          "text": [
            "72\t./.config/logs/2023.03.23\n",
            "76\t./.config/logs\n",
            "8\t./.config/configurations\n",
            "108\t./.config\n",
            "55508\t./sample_data\n",
            "5301812\t.\n"
          ]
        }
      ],
      "source": [
        "!du ."
      ]
    },
    {
      "cell_type": "code",
      "execution_count": 12,
      "metadata": {
        "id": "gzuMiOAbkb20"
      },
      "outputs": [],
      "source": [
        "glove_embeddings = ['glove.twitter.27B.25d.txt',\n",
        "                    'glove.twitter.27B.50d.txt',\n",
        "                    'glove.twitter.27B.100d.txt',\n",
        "                    'glove.twitter.27B.200d.txt',\n",
        "                    ]\n",
        "                    \n",
        "filepath = glove_embeddings[1]\n",
        "\n",
        "embeddings_index = {}\n",
        "with open(filepath) as f:\n",
        "    for line in f:\n",
        "        word, coefs = line.split(maxsplit=1)\n",
        "        coefs = np.fromstring(coefs, \"f\", sep=\" \")\n",
        "        embeddings_index[word] = coefs"
      ]
    },
    {
      "cell_type": "code",
      "execution_count": null,
      "metadata": {
        "colab": {
          "base_uri": "https://localhost:8080/"
        },
        "id": "-M0TTZP2lXXo",
        "outputId": "7b31dc8e-9f05-43f6-e9bd-0f5bc244d317"
      },
      "outputs": [
        {
          "output_type": "execute_result",
          "data": {
            "text/plain": [
              "1193514"
            ]
          },
          "metadata": {},
          "execution_count": 19
        }
      ],
      "source": [
        "len(embeddings_index)"
      ]
    },
    {
      "cell_type": "markdown",
      "metadata": {
        "id": "gj1DA_4CQ-9N"
      },
      "source": [
        "### Creating the Embedding matrix"
      ]
    },
    {
      "cell_type": "code",
      "execution_count": 13,
      "metadata": {
        "id": "6Zys-nRJl9Gq"
      },
      "outputs": [],
      "source": [
        "# vocab_size = 10000\n",
        "embedding_dim = 50\n",
        "num_tokens = vocab_size + 1\n",
        "\n",
        "embedding_matrix = np.zeros((num_tokens, embedding_dim))\n",
        "for index in range(2, num_tokens):\n",
        "    word = index_word[index]\n",
        "    embedding_vector = embeddings_index.get(word)\n",
        "    if embedding_vector is not None:\n",
        "        embedding_matrix[index] = embedding_vector"
      ]
    },
    {
      "cell_type": "markdown",
      "metadata": {
        "id": "dBlQrRC5TMxx"
      },
      "source": [
        "### Model 3: LSTM Model (GloVe)"
      ]
    },
    {
      "cell_type": "code",
      "execution_count": null,
      "metadata": {
        "colab": {
          "base_uri": "https://localhost:8080/"
        },
        "id": "zYuhVQMhr3xm",
        "outputId": "cf1b1d39-d772-42b6-e1f3-f39034de776b"
      },
      "outputs": [
        {
          "name": "stdout",
          "output_type": "stream",
          "text": [
            "Model: \"sequential_9\"\n",
            "_________________________________________________________________\n",
            " Layer (type)                Output Shape              Param #   \n",
            "=================================================================\n",
            " embedding_9 (Embedding)     (None, 35, 50)            500050    \n",
            "                                                                 \n",
            " bidirectional_9 (Bidirectio  (None, 64)               21248     \n",
            " nal)                                                            \n",
            "                                                                 \n",
            " dropout_20 (Dropout)        (None, 64)                0         \n",
            "                                                                 \n",
            " dense_18 (Dense)            (None, 24)                1560      \n",
            "                                                                 \n",
            " dropout_21 (Dropout)        (None, 24)                0         \n",
            "                                                                 \n",
            " dense_19 (Dense)            (None, 3)                 75        \n",
            "                                                                 \n",
            "=================================================================\n",
            "Total params: 522,933\n",
            "Trainable params: 22,883\n",
            "Non-trainable params: 500,050\n",
            "_________________________________________________________________\n",
            "\n",
            "TRAINING MODEL:\n",
            "Epoch 1/15\n",
            "773/773 [==============================] - 11s 9ms/step - loss: 0.7332 - accuracy: 0.7041 - val_loss: 0.5374 - val_accuracy: 0.7922\n",
            "Epoch 2/15\n",
            "773/773 [==============================] - 6s 7ms/step - loss: 0.5927 - accuracy: 0.7889 - val_loss: 0.5032 - val_accuracy: 0.8006\n",
            "Epoch 3/15\n",
            "773/773 [==============================] - 7s 9ms/step - loss: 0.5586 - accuracy: 0.7994 - val_loss: 0.4796 - val_accuracy: 0.8130\n",
            "Epoch 4/15\n",
            "773/773 [==============================] - 6s 7ms/step - loss: 0.5331 - accuracy: 0.8081 - val_loss: 0.4747 - val_accuracy: 0.8173\n",
            "Epoch 5/15\n",
            "773/773 [==============================] - 6s 8ms/step - loss: 0.5128 - accuracy: 0.8162 - val_loss: 0.4528 - val_accuracy: 0.8319\n",
            "Epoch 6/15\n",
            "773/773 [==============================] - 6s 7ms/step - loss: 0.5009 - accuracy: 0.8202 - val_loss: 0.4433 - val_accuracy: 0.8286\n",
            "Epoch 7/15\n",
            "773/773 [==============================] - 6s 8ms/step - loss: 0.4891 - accuracy: 0.8258 - val_loss: 0.4465 - val_accuracy: 0.8333\n",
            "Epoch 8/15\n",
            "773/773 [==============================] - 5s 7ms/step - loss: 0.4780 - accuracy: 0.8276 - val_loss: 0.4415 - val_accuracy: 0.8402\n",
            "Epoch 9/15\n",
            "773/773 [==============================] - 6s 8ms/step - loss: 0.4742 - accuracy: 0.8307 - val_loss: 0.4295 - val_accuracy: 0.8428\n",
            "Epoch 10/15\n",
            "773/773 [==============================] - 6s 7ms/step - loss: 0.4592 - accuracy: 0.8374 - val_loss: 0.4301 - val_accuracy: 0.8406\n",
            "Epoch 11/15\n",
            "773/773 [==============================] - 6s 8ms/step - loss: 0.4589 - accuracy: 0.8360 - val_loss: 0.4305 - val_accuracy: 0.8450\n",
            "Epoch 12/15\n",
            "773/773 [==============================] - 6s 7ms/step - loss: 0.4472 - accuracy: 0.8417 - val_loss: 0.4308 - val_accuracy: 0.8355\n",
            "Epoch 13/15\n",
            "773/773 [==============================] - 6s 8ms/step - loss: 0.4407 - accuracy: 0.8445 - val_loss: 0.4357 - val_accuracy: 0.8322\n",
            "Epoch 14/15\n",
            "773/773 [==============================] - 6s 7ms/step - loss: 0.4375 - accuracy: 0.8455 - val_loss: 0.4311 - val_accuracy: 0.8352\n",
            "Epoch 15/15\n",
            "773/773 [==============================] - 6s 8ms/step - loss: 0.4235 - accuracy: 0.8508 - val_loss: 0.4366 - val_accuracy: 0.8366\n",
            "\n",
            "EVALUATING MODEL ON TEST DATA:\n",
            "111/111 [==============================] - 0s 4ms/step - loss: 1.3096 - accuracy: 0.5456\n"
          ]
        }
      ],
      "source": [
        "def model_three():\n",
        "    # Parameters\n",
        "    lstm_dim = 32\n",
        "    dense_dim = 24\n",
        "    dropout_rate = 0.6\n",
        "\n",
        "    # Model Definition with LSTM\n",
        "    model_lstm = tf.keras.Sequential([\n",
        "        tf.keras.layers.Embedding(num_tokens, embedding_dim, input_length=max_length, \n",
        "                                embeddings_initializer=tf.keras.initializers.Constant(embedding_matrix),\n",
        "                                trainable=False),\n",
        "        # tf.keras.layers.Bidirectional(tf.keras.layers.LSTM(lstm_dim, return_sequences=True)),\n",
        "        # tf.keras.layers.Dropout(dropout_rate),\n",
        "        tf.keras.layers.Bidirectional(tf.keras.layers.LSTM(lstm_dim)),\n",
        "        tf.keras.layers.Dropout(dropout_rate),\n",
        "        tf.keras.layers.Dense(dense_dim, activation='relu'),\n",
        "        tf.keras.layers.Dropout(dropout_rate),\n",
        "        tf.keras.layers.Dense(3, activation='softmax')\n",
        "    ])\n",
        "\n",
        "    # Set the training parameters\n",
        "    model_lstm.compile(loss='categorical_crossentropy',optimizer='adam',metrics=['accuracy'])\n",
        "\n",
        "    # Print the model summary\n",
        "    model_lstm.summary()\n",
        "\n",
        "    NUM_EPOCHS = 15\n",
        "\n",
        "    # Train the model\n",
        "    print('\\nTRAINING MODEL:')\n",
        "    history_lstm = model_lstm.fit(padded_train_sequences, train_labels, epochs=NUM_EPOCHS, validation_data=(padded_validation_sequences, validation_labels))\n",
        "\n",
        "    # Evaluating on test data\n",
        "    print('\\nEVALUATING MODEL ON TEST DATA:')\n",
        "    model_lstm.evaluate(padded_test_sequences, test_labels)\n",
        "\n",
        "    return history_lstm \n",
        "\n",
        "history = model_three()"
      ]
    },
    {
      "cell_type": "code",
      "execution_count": null,
      "metadata": {
        "colab": {
          "base_uri": "https://localhost:8080/",
          "height": 541
        },
        "id": "otvXxCWrszno",
        "outputId": "a847f58e-e2aa-4a08-b205-ca358c45ba54"
      },
      "outputs": [
        {
          "data": {
            "image/png": "[encoded data removed]",
            "text/plain": [
              "<Figure size 432x288 with 1 Axes>"
            ]
          },
          "metadata": {},
          "output_type": "display_data"
        },
        {
          "data": {
            "image/png": "[encoded data removed]",
            "text/plain": [
              "<Figure size 432x288 with 1 Axes>"
            ]
          },
          "metadata": {},
          "output_type": "display_data"
        }
      ],
      "source": [
        "# Plot the accuracy and loss history\n",
        "plot_graphs(history, 'accuracy')\n",
        "plot_graphs(history, 'loss')"
      ]
    },
    {
      "cell_type": "markdown",
      "metadata": {
        "id": "PwIKGobgTXkw"
      },
      "source": [
        "### Model 4: LSTM-CNN Model (GloVe)"
      ]
    },
    {
      "cell_type": "code",
      "execution_count": null,
      "metadata": {
        "colab": {
          "base_uri": "https://localhost:8080/"
        },
        "id": "e0tMpHXFTWiG",
        "outputId": "3e561085-f2e3-4fe8-f456-4d24233b8117"
      },
      "outputs": [
        {
          "name": "stdout",
          "output_type": "stream",
          "text": [
            "Model: \"sequential\"\n",
            "_________________________________________________________________\n",
            " Layer (type)                Output Shape              Param #   \n",
            "=================================================================\n",
            " embedding (Embedding)       (None, 35, 50)            500050    \n",
            "                                                                 \n",
            " bidirectional (Bidirectiona  (None, 35, 64)           21248     \n",
            " l)                                                              \n",
            "                                                                 \n",
            " dropout (Dropout)           (None, 35, 64)            0         \n",
            "                                                                 \n",
            " conv1d (Conv1D)             (None, 31, 64)            20544     \n",
            "                                                                 \n",
            " global_average_pooling1d (G  (None, 64)               0         \n",
            " lobalAveragePooling1D)                                          \n",
            "                                                                 \n",
            " re_lu (ReLU)                (None, 64)                0         \n",
            "                                                                 \n",
            " dropout_1 (Dropout)         (None, 64)                0         \n",
            "                                                                 \n",
            " dense (Dense)               (None, 24)                1560      \n",
            "                                                                 \n",
            " dropout_2 (Dropout)         (None, 24)                0         \n",
            "                                                                 \n",
            " dense_1 (Dense)             (None, 3)                 75        \n",
            "                                                                 \n",
            "=================================================================\n",
            "Total params: 543,477\n",
            "Trainable params: 43,427\n",
            "Non-trainable params: 500,050\n",
            "_________________________________________________________________\n",
            "\n",
            "TRAINING MODEL:\n",
            "Epoch 1/15\n",
            "461/461 [==============================] - 19s 10ms/step - loss: 0.6364 - accuracy: 0.7045 - val_loss: 0.4540 - val_accuracy: 0.7960\n",
            "Epoch 2/15\n",
            "461/461 [==============================] - 4s 9ms/step - loss: 0.4589 - accuracy: 0.8046 - val_loss: 0.4056 - val_accuracy: 0.8241\n",
            "Epoch 3/15\n",
            "461/461 [==============================] - 4s 10ms/step - loss: 0.4089 - accuracy: 0.8298 - val_loss: 0.3952 - val_accuracy: 0.8400\n",
            "Epoch 4/15\n",
            "461/461 [==============================] - 4s 9ms/step - loss: 0.3770 - accuracy: 0.8444 - val_loss: 0.3556 - val_accuracy: 0.8577\n",
            "Epoch 5/15\n",
            "461/461 [==============================] - 5s 10ms/step - loss: 0.3471 - accuracy: 0.8600 - val_loss: 0.4352 - val_accuracy: 0.8381\n",
            "Epoch 6/15\n",
            "461/461 [==============================] - 4s 9ms/step - loss: 0.3260 - accuracy: 0.8673 - val_loss: 0.3318 - val_accuracy: 0.8815\n",
            "Epoch 7/15\n",
            "461/461 [==============================] - 4s 9ms/step - loss: 0.3134 - accuracy: 0.8734 - val_loss: 0.3217 - val_accuracy: 0.8754\n",
            "Epoch 8/15\n",
            "461/461 [==============================] - 5s 10ms/step - loss: 0.3013 - accuracy: 0.8814 - val_loss: 0.3153 - val_accuracy: 0.8735\n",
            "Epoch 9/15\n",
            "461/461 [==============================] - 4s 9ms/step - loss: 0.2828 - accuracy: 0.8897 - val_loss: 0.3503 - val_accuracy: 0.8742\n",
            "Epoch 10/15\n",
            "461/461 [==============================] - 4s 9ms/step - loss: 0.2716 - accuracy: 0.8943 - val_loss: 0.3069 - val_accuracy: 0.8833\n",
            "Epoch 11/15\n",
            "461/461 [==============================] - 5s 10ms/step - loss: 0.2641 - accuracy: 0.8966 - val_loss: 0.3199 - val_accuracy: 0.8778\n",
            "Epoch 12/15\n",
            "461/461 [==============================] - 5s 11ms/step - loss: 0.2607 - accuracy: 0.9019 - val_loss: 0.3502 - val_accuracy: 0.8699\n",
            "Epoch 13/15\n",
            "461/461 [==============================] - 8s 18ms/step - loss: 0.2521 - accuracy: 0.9043 - val_loss: 0.3119 - val_accuracy: 0.8803\n",
            "Epoch 14/15\n",
            "461/461 [==============================] - 4s 9ms/step - loss: 0.2363 - accuracy: 0.9081 - val_loss: 0.3245 - val_accuracy: 0.8894\n",
            "Epoch 15/15\n",
            "461/461 [==============================] - 4s 9ms/step - loss: 0.2291 - accuracy: 0.9094 - val_loss: 0.3203 - val_accuracy: 0.8907\n",
            "\n",
            "EVALUATING MODEL ON TEST DATA:\n",
            "66/66 [==============================] - 0s 6ms/step - loss: 0.2688 - accuracy: 0.8940\n"
          ]
        }
      ],
      "source": [
        "def model_four():\n",
        "    # Parameters\n",
        "    lstm_dim = 32\n",
        "    dense_dim = 24\n",
        "    conv_filters = 64\n",
        "    dropout_rate = 0.6\n",
        "\n",
        "    # Model Definition with LSTM\n",
        "    model_lstm_conv = tf.keras.Sequential([\n",
        "        tf.keras.layers.Embedding(num_tokens, embedding_dim, input_length=max_length, \n",
        "                                embeddings_initializer=tf.keras.initializers.Constant(embedding_matrix),\n",
        "                                trainable=False),\n",
        "        tf.keras.layers.Bidirectional(tf.keras.layers.LSTM(lstm_dim, return_sequences=True)),\n",
        "        tf.keras.layers.Dropout(dropout_rate),\n",
        "        # tf.keras.layers.Bidirectional(tf.keras.layers.LSTM(lstm_dim)),\n",
        "        # tf.keras.layers.Dropout(dropout_rate),\n",
        "        tf.keras.layers.Conv1D(conv_filters, 5),\n",
        "        tf.keras.layers.GlobalAveragePooling1D(),\n",
        "        tf.keras.layers.ReLU(),\n",
        "        tf.keras.layers.Dropout(dropout_rate),\n",
        "        tf.keras.layers.Dense(dense_dim, activation='relu'),\n",
        "        tf.keras.layers.Dropout(dropout_rate),\n",
        "        tf.keras.layers.Dense(3, activation='softmax'),\n",
        "    ])\n",
        "\n",
        "    # Set the training parameters\n",
        "    model_lstm_conv.compile(loss='categorical_crossentropy', optimizer='adam', metrics=['accuracy'])\n",
        "\n",
        "    # Print the model summary\n",
        "    model_lstm_conv.summary()\n",
        "\n",
        "    NUM_EPOCHS = 15\n",
        "\n",
        "    # Train the model\n",
        "    print('\\nTRAINING MODEL:')\n",
        "    history_lstm_conv = model_lstm_conv.fit(padded_train_sequences, train_labels, epochs=NUM_EPOCHS, validation_data=(padded_validation_sequences, validation_labels))\n",
        "\n",
        "\n",
        "    # Evaluating on test data\n",
        "    print('\\nEVALUATING MODEL ON TEST DATA:')\n",
        "    model_lstm_conv.evaluate(padded_test_sequences, test_labels)\n",
        "\n",
        "    return history_lstm_conv, model_lstm_conv\n",
        "\n",
        "history, model = model_four()"
      ]
    },
    {
      "cell_type": "code",
      "execution_count": null,
      "metadata": {
        "colab": {
          "base_uri": "https://localhost:8080/",
          "height": 542
        },
        "id": "VLbh1CFXU3xV",
        "outputId": "8f0fa06b-9674-4e47-b527-cf93592ab1e4"
      },
      "outputs": [
        {
          "data": {
            "image/png": "[encoded data removed]",
            "text/plain": [
              "<Figure size 432x288 with 1 Axes>"
            ]
          },
          "metadata": {},
          "output_type": "display_data"
        },
        {
          "data": {
            "image/png": "[encoded data removed]",
            "text/plain": [
              "<Figure size 432x288 with 1 Axes>"
            ]
          },
          "metadata": {},
          "output_type": "display_data"
        }
      ],
      "source": [
        "# Plot the accuracy and loss history\n",
        "plot_graphs(history, 'accuracy')\n",
        "plot_graphs(history, 'loss')"
      ]
    },
    {
      "cell_type": "code",
      "execution_count": null,
      "metadata": {
        "id": "ZKEmusEzxwUb"
      },
      "outputs": [],
      "source": [
        "# Utitility functions\n",
        "## Saving entire model\n",
        "import pickle\n",
        "import os\n",
        "import subprocess\n",
        "\n",
        "def save_model_tokenizer(model, tokenizer, name_tag='my', folder='saved_model'):\n",
        "\n",
        "    # Saving tokenizer\n",
        "    with open('{}_tokenizer.pickle'.format(name_tag), 'wb') as handle:\n",
        "        pickle.dump(tokenizer, handle, protocol=pickle.HIGHEST_PROTOCOL)\n",
        "\n",
        "    # Saving model\n",
        "    subprocess.run(\"mkdir -p saved_model\".split())\n",
        "    model.save(os.path.join(folder, '{}_model'.format(name_tag)))"
      ]
    },
    {
      "cell_type": "code",
      "execution_count": null,
      "metadata": {
        "colab": {
          "base_uri": "https://localhost:8080/"
        },
        "id": "UnVauuIChsdR",
        "outputId": "c2e96ba8-6f7a-4340-ee1f-bd45f766ba81"
      },
      "outputs": [
        {
          "name": "stderr",
          "output_type": "stream",
          "text": [
            "WARNING:absl:Found untraced functions such as _jit_compiled_convolution_op, lstm_cell_19_layer_call_fn, lstm_cell_19_layer_call_and_return_conditional_losses, lstm_cell_20_layer_call_fn, lstm_cell_20_layer_call_and_return_conditional_losses while saving (showing 5 of 5). These functions will not be directly callable after loading.\n"
          ]
        }
      ],
      "source": [
        "save_model_tokenizer(model, tokenizer, name_tag='sentiment')"
      ]
    },
    {
      "cell_type": "code",
      "execution_count": null,
      "metadata": {
        "colab": {
          "base_uri": "https://localhost:8080/"
        },
        "id": "7D8R3SGhclJp",
        "outputId": "c5fbcecb-9d88-4fe5-e676-ce389926096e"
      },
      "outputs": [
        {
          "name": "stdout",
          "output_type": "stream",
          "text": [
            "updating: content/saved_model/ (stored 0%)\n",
            "  adding: content/saved_model/sentiment_model/ (stored 0%)\n",
            "  adding: content/saved_model/sentiment_model/variables/ (stored 0%)\n",
            "  adding: content/saved_model/sentiment_model/variables/variables.index (deflated 64%)\n",
            "  adding: content/saved_model/sentiment_model/variables/variables.data-00000-of-00001 (deflated 17%)\n",
            "  adding: content/saved_model/sentiment_model/saved_model.pb (deflated 90%)\n",
            "  adding: content/saved_model/sentiment_model/assets/ (stored 0%)\n",
            "  adding: content/saved_model/sentiment_model/fingerprint.pb (stored 0%)\n",
            "  adding: content/saved_model/sentiment_model/keras_metadata.pb (deflated 61%)\n"
          ]
        }
      ],
      "source": [
        "!zip -r /content/saved_model.zip /content/saved_model"
      ]
    },
    {
      "cell_type": "code",
      "execution_count": null,
      "metadata": {
        "colab": {
          "base_uri": "https://localhost:8080/",
          "height": 17
        },
        "id": "UtFExKFDgjTx",
        "outputId": "832a32dc-96b3-4324-ce92-55a588f92439"
      },
      "outputs": [
        {
          "data": {
            "application/javascript": [
              "\n",
              "    async function download(id, filename, size) {\n",
              "      if (!google.colab.kernel.accessAllowed) {\n",
              "        return;\n",
              "      }\n",
              "      const div = document.createElement('div');\n",
              "      const label = document.createElement('label');\n",
              "      label.textContent = `Downloading \"${filename}\": `;\n",
              "      div.appendChild(label);\n",
              "      const progress = document.createElement('progress');\n",
              "      progress.max = size;\n",
              "      div.appendChild(progress);\n",
              "      document.body.appendChild(div);\n",
              "\n",
              "      const buffers = [];\n",
              "      let downloaded = 0;\n",
              "\n",
              "      const channel = await google.colab.kernel.comms.open(id);\n",
              "      // Send a message to notify the kernel that we're ready.\n",
              "      channel.send({})\n",
              "\n",
              "      for await (const message of channel.messages) {\n",
              "        // Send a message to notify the kernel that we're ready.\n",
              "        channel.send({})\n",
              "        if (message.buffers) {\n",
              "          for (const buffer of message.buffers) {\n",
              "            buffers.push(buffer);\n",
              "            downloaded += buffer.byteLength;\n",
              "            progress.value = downloaded;\n",
              "          }\n",
              "        }\n",
              "      }\n",
              "      const blob = new Blob(buffers, {type: 'application/binary'});\n",
              "      const a = document.createElement('a');\n",
              "      a.href = window.URL.createObjectURL(blob);\n",
              "      a.download = filename;\n",
              "      div.appendChild(a);\n",
              "      a.click();\n",
              "      div.remove();\n",
              "    }\n",
              "  "
            ],
            "text/plain": [
              "<IPython.core.display.Javascript object>"
            ]
          },
          "metadata": {},
          "output_type": "display_data"
        },
        {
          "data": {
            "application/javascript": [
              "download(\"download_4e40277d-6939-49d0-ab3e-9a130fa19a6a\", \"saved_model.zip\", 26628437)"
            ],
            "text/plain": [
              "<IPython.core.display.Javascript object>"
            ]
          },
          "metadata": {},
          "output_type": "display_data"
        },
        {
          "data": {
            "application/javascript": [
              "\n",
              "    async function download(id, filename, size) {\n",
              "      if (!google.colab.kernel.accessAllowed) {\n",
              "        return;\n",
              "      }\n",
              "      const div = document.createElement('div');\n",
              "      const label = document.createElement('label');\n",
              "      label.textContent = `Downloading \"${filename}\": `;\n",
              "      div.appendChild(label);\n",
              "      const progress = document.createElement('progress');\n",
              "      progress.max = size;\n",
              "      div.appendChild(progress);\n",
              "      document.body.appendChild(div);\n",
              "\n",
              "      const buffers = [];\n",
              "      let downloaded = 0;\n",
              "\n",
              "      const channel = await google.colab.kernel.comms.open(id);\n",
              "      // Send a message to notify the kernel that we're ready.\n",
              "      channel.send({})\n",
              "\n",
              "      for await (const message of channel.messages) {\n",
              "        // Send a message to notify the kernel that we're ready.\n",
              "        channel.send({})\n",
              "        if (message.buffers) {\n",
              "          for (const buffer of message.buffers) {\n",
              "            buffers.push(buffer);\n",
              "            downloaded += buffer.byteLength;\n",
              "            progress.value = downloaded;\n",
              "          }\n",
              "        }\n",
              "      }\n",
              "      const blob = new Blob(buffers, {type: 'application/binary'});\n",
              "      const a = document.createElement('a');\n",
              "      a.href = window.URL.createObjectURL(blob);\n",
              "      a.download = filename;\n",
              "      div.appendChild(a);\n",
              "      a.click();\n",
              "      div.remove();\n",
              "    }\n",
              "  "
            ],
            "text/plain": [
              "<IPython.core.display.Javascript object>"
            ]
          },
          "metadata": {},
          "output_type": "display_data"
        },
        {
          "data": {
            "application/javascript": [
              "download(\"download_a03f1f2f-899c-46c7-a35a-48a61fca98fc\", \"sentiment_tokenizer.pickle\", 696449)"
            ],
            "text/plain": [
              "<IPython.core.display.Javascript object>"
            ]
          },
          "metadata": {},
          "output_type": "display_data"
        }
      ],
      "source": [
        "!zip -r /content/saved_model.zip /content/saved_model\n",
        "\n",
        "from google.colab import files\n",
        "files.download(\"/content/saved_model.zip\")\n",
        "files.download('/content/sentiment_tokenizer.pickle')"
      ]
    },
    {
      "cell_type": "code",
      "execution_count": null,
      "metadata": {
        "colab": {
          "base_uri": "https://localhost:8080/"
        },
        "id": "twGpGAxfttyI",
        "outputId": "083beaa9-81e3-40e5-81e8-90a1c9b15824"
      },
      "outputs": [
        {
          "name": "stdout",
          "output_type": "stream",
          "text": [
            "Model: \"sequential\"\n",
            "_________________________________________________________________\n",
            " Layer (type)                Output Shape              Param #   \n",
            "=================================================================\n",
            " embedding (Embedding)       (None, 35, 50)            500050    \n",
            "                                                                 \n",
            " bidirectional (Bidirectiona  (None, 35, 64)           21248     \n",
            " l)                                                              \n",
            "                                                                 \n",
            " dropout (Dropout)           (None, 35, 64)            0         \n",
            "                                                                 \n",
            " conv1d (Conv1D)             (None, 31, 64)            20544     \n",
            "                                                                 \n",
            " global_average_pooling1d (G  (None, 64)               0         \n",
            " lobalAveragePooling1D)                                          \n",
            "                                                                 \n",
            " re_lu (ReLU)                (None, 64)                0         \n",
            "                                                                 \n",
            " dropout_1 (Dropout)         (None, 64)                0         \n",
            "                                                                 \n",
            " dense (Dense)               (None, 24)                1560      \n",
            "                                                                 \n",
            " dropout_2 (Dropout)         (None, 24)                0         \n",
            "                                                                 \n",
            " dense_1 (Dense)             (None, 3)                 75        \n",
            "                                                                 \n",
            "=================================================================\n",
            "Total params: 543,477\n",
            "Trainable params: 43,427\n",
            "Non-trainable params: 500,050\n",
            "_________________________________________________________________\n"
          ]
        }
      ],
      "source": [
        "# Load the saved model\n",
        "new_model = tf.keras.models.load_model('saved_model/my_sentiment_model')\n",
        "\n",
        "# Check its architecture\n",
        "new_model.summary()"
      ]
    },
    {
      "cell_type": "markdown",
      "metadata": {
        "id": "_s9Q5UDpeJcZ"
      },
      "source": [
        "### Model 4.1: LSTM-CNN Model (GloVe, two classes)"
      ]
    },
    {
      "cell_type": "code",
      "execution_count": 14,
      "metadata": {
        "colab": {
          "base_uri": "https://localhost:8080/"
        },
        "id": "4K8UFv79eJcZ",
        "outputId": "b862e5dc-45c9-4d50-ae97-7bd0f0582f91"
      },
      "outputs": [
        {
          "output_type": "stream",
          "name": "stdout",
          "text": [
            "Model: \"sequential\"\n",
            "_________________________________________________________________\n",
            " Layer (type)                Output Shape              Param #   \n",
            "=================================================================\n",
            " embedding (Embedding)       (None, 35, 50)            500050    \n",
            "                                                                 \n",
            " bidirectional (Bidirectiona  (None, 35, 64)           21248     \n",
            " l)                                                              \n",
            "                                                                 \n",
            " dropout (Dropout)           (None, 35, 64)            0         \n",
            "                                                                 \n",
            " conv1d (Conv1D)             (None, 31, 64)            20544     \n",
            "                                                                 \n",
            " global_average_pooling1d (G  (None, 64)               0         \n",
            " lobalAveragePooling1D)                                          \n",
            "                                                                 \n",
            " re_lu (ReLU)                (None, 64)                0         \n",
            "                                                                 \n",
            " dropout_1 (Dropout)         (None, 64)                0         \n",
            "                                                                 \n",
            " dense (Dense)               (None, 24)                1560      \n",
            "                                                                 \n",
            " dropout_2 (Dropout)         (None, 24)                0         \n",
            "                                                                 \n",
            " dense_1 (Dense)             (None, 1)                 25        \n",
            "                                                                 \n",
            "=================================================================\n",
            "Total params: 543,427\n",
            "Trainable params: 43,377\n",
            "Non-trainable params: 500,050\n",
            "_________________________________________________________________\n",
            "\n",
            "TRAINING MODEL:\n",
            "Epoch 1/15\n",
            "461/461 [==============================] - 19s 10ms/step - loss: 0.5303 - accuracy: 0.7189 - val_loss: 0.4195 - val_accuracy: 0.8009\n",
            "Epoch 2/15\n",
            "461/461 [==============================] - 5s 10ms/step - loss: 0.4043 - accuracy: 0.8299 - val_loss: 0.3688 - val_accuracy: 0.8418\n",
            "Epoch 3/15\n",
            "461/461 [==============================] - 4s 8ms/step - loss: 0.3739 - accuracy: 0.8467 - val_loss: 0.3463 - val_accuracy: 0.8552\n",
            "Epoch 4/15\n",
            "461/461 [==============================] - 4s 8ms/step - loss: 0.3469 - accuracy: 0.8609 - val_loss: 0.3334 - val_accuracy: 0.8644\n",
            "Epoch 5/15\n",
            "461/461 [==============================] - 5s 10ms/step - loss: 0.3279 - accuracy: 0.8696 - val_loss: 0.3187 - val_accuracy: 0.8711\n",
            "Epoch 6/15\n",
            "461/461 [==============================] - 4s 8ms/step - loss: 0.3144 - accuracy: 0.8730 - val_loss: 0.3164 - val_accuracy: 0.8693\n",
            "Epoch 7/15\n",
            "461/461 [==============================] - 4s 8ms/step - loss: 0.2995 - accuracy: 0.8818 - val_loss: 0.3160 - val_accuracy: 0.8790\n",
            "Epoch 8/15\n",
            "461/461 [==============================] - 5s 10ms/step - loss: 0.2875 - accuracy: 0.8890 - val_loss: 0.3174 - val_accuracy: 0.8772\n",
            "Epoch 9/15\n",
            "461/461 [==============================] - 4s 8ms/step - loss: 0.2792 - accuracy: 0.8901 - val_loss: 0.3252 - val_accuracy: 0.8784\n",
            "Epoch 10/15\n",
            "461/461 [==============================] - 4s 8ms/step - loss: 0.2714 - accuracy: 0.8922 - val_loss: 0.3473 - val_accuracy: 0.8674\n",
            "Epoch 11/15\n",
            "461/461 [==============================] - 5s 10ms/step - loss: 0.2639 - accuracy: 0.8998 - val_loss: 0.3140 - val_accuracy: 0.8827\n",
            "Epoch 12/15\n",
            "461/461 [==============================] - 4s 8ms/step - loss: 0.2547 - accuracy: 0.9030 - val_loss: 0.3233 - val_accuracy: 0.8797\n",
            "Epoch 13/15\n",
            "461/461 [==============================] - 4s 8ms/step - loss: 0.2439 - accuracy: 0.9054 - val_loss: 0.3102 - val_accuracy: 0.8735\n",
            "Epoch 14/15\n",
            "461/461 [==============================] - 5s 10ms/step - loss: 0.2357 - accuracy: 0.9080 - val_loss: 0.3717 - val_accuracy: 0.8729\n",
            "Epoch 15/15\n",
            "461/461 [==============================] - 4s 9ms/step - loss: 0.2263 - accuracy: 0.9126 - val_loss: 0.3539 - val_accuracy: 0.8778\n",
            "\n",
            "EVALUATING MODEL ON TEST DATA:\n",
            "66/66 [==============================] - 0s 4ms/step - loss: 0.3153 - accuracy: 0.8869\n"
          ]
        }
      ],
      "source": [
        "def model_four():\n",
        "    # Parameters\n",
        "    lstm_dim = 32\n",
        "    dense_dim = 24\n",
        "    conv_filters = 64\n",
        "    dropout_rate = 0.6\n",
        "\n",
        "    # Model Definition with LSTM\n",
        "    model_lstm_conv = tf.keras.Sequential([\n",
        "        tf.keras.layers.Embedding(num_tokens, embedding_dim, input_length=max_length, \n",
        "                                embeddings_initializer=tf.keras.initializers.Constant(embedding_matrix),\n",
        "                                trainable=False),\n",
        "        tf.keras.layers.Bidirectional(tf.keras.layers.LSTM(lstm_dim, return_sequences=True)),\n",
        "        tf.keras.layers.Dropout(dropout_rate),\n",
        "        # tf.keras.layers.Bidirectional(tf.keras.layers.LSTM(lstm_dim)),\n",
        "        # tf.keras.layers.Dropout(dropout_rate),\n",
        "        tf.keras.layers.Conv1D(conv_filters, 5),\n",
        "        tf.keras.layers.GlobalAveragePooling1D(),\n",
        "        tf.keras.layers.ReLU(),\n",
        "        tf.keras.layers.Dropout(dropout_rate),\n",
        "        tf.keras.layers.Dense(dense_dim, activation='relu'),\n",
        "        tf.keras.layers.Dropout(dropout_rate),\n",
        "        tf.keras.layers.Dense(1, activation='sigmoid'),\n",
        "    ])\n",
        "\n",
        "    # Set the training parameters\n",
        "    model_lstm_conv.compile(loss='binary_crossentropy', optimizer='adam', metrics=['accuracy'])\n",
        "\n",
        "    # Print the model summary\n",
        "    model_lstm_conv.summary()\n",
        "\n",
        "    NUM_EPOCHS = 15\n",
        "\n",
        "    # Train the model\n",
        "    print('\\nTRAINING MODEL:')\n",
        "    history_lstm_conv = model_lstm_conv.fit(padded_train_sequences, train_labels, epochs=NUM_EPOCHS, validation_data=(padded_validation_sequences, validation_labels))\n",
        "\n",
        "\n",
        "    # Evaluating on test data\n",
        "    print('\\nEVALUATING MODEL ON TEST DATA:')\n",
        "    model_lstm_conv.evaluate(padded_test_sequences, test_labels)\n",
        "\n",
        "    return history_lstm_conv, model_lstm_conv\n",
        "\n",
        "history, model = model_four()"
      ]
    },
    {
      "cell_type": "code",
      "execution_count": 15,
      "metadata": {
        "colab": {
          "base_uri": "https://localhost:8080/",
          "height": 881
        },
        "id": "jEgFNpIWk4aJ",
        "outputId": "d4c784f4-d1f3-4792-dd0d-dabcf494d083"
      },
      "outputs": [
        {
          "output_type": "display_data",
          "data": {
            "text/plain": [
              "<Figure size 640x480 with 1 Axes>"
            ],
            "image/png": "[encoded data removed]"
          },
          "metadata": {}
        },
        {
          "output_type": "display_data",
          "data": {
            "text/plain": [
              "<Figure size 640x480 with 1 Axes>"
            ],
            "image/png": "[encoded data removed]"
          },
          "metadata": {}
        }
      ],
      "source": [
        "# Plot the accuracy and loss history\n",
        "plot_graphs(history, 'accuracy')\n",
        "plot_graphs(history, 'loss')"
      ]
    },
    {
      "cell_type": "code",
      "source": [
        "from tensorflow.keras.utils import plot_model\n",
        "import pydot\n",
        "plot_model(model, show_shapes=True, show_layer_names=True, to_file='sentiment_model.png')"
      ],
      "metadata": {
        "id": "BInaxZ2ixkfX",
        "colab": {
          "base_uri": "https://localhost:8080/",
          "height": 1000
        },
        "outputId": "6351c7a0-32af-4c34-cf65-9e88f674a823"
      },
      "execution_count": 16,
      "outputs": [
        {
          "output_type": "execute_result",
          "data": {
            "image/png": "[encoded data removed]",
            "text/plain": [
              "<IPython.core.display.Image object>"
            ]
          },
          "metadata": {},
          "execution_count": 16
        }
      ]
    },
    {
      "cell_type": "code",
      "execution_count": 17,
      "metadata": {
        "colab": {
          "base_uri": "https://localhost:8080/"
        },
        "id": "nICqqpApkuid",
        "outputId": "53fec6e1-3514-40a9-d966-e333525d4ec3"
      },
      "outputs": [
        {
          "output_type": "stream",
          "name": "stderr",
          "text": [
            "WARNING:absl:Found untraced functions such as _jit_compiled_convolution_op, lstm_cell_1_layer_call_fn, lstm_cell_1_layer_call_and_return_conditional_losses, lstm_cell_2_layer_call_fn, lstm_cell_2_layer_call_and_return_conditional_losses while saving (showing 5 of 5). These functions will not be directly callable after loading.\n"
          ]
        }
      ],
      "source": [
        "save_model_tokenizer(model, tokenizer, name_tag='sentiment')"
      ]
    },
    {
      "cell_type": "markdown",
      "metadata": {
        "id": "SbkOYAuujrKQ"
      },
      "source": [
        "## Modeling: IMDB dataset"
      ]
    },
    {
      "cell_type": "markdown",
      "metadata": {
        "id": "zijxLVYzj7St"
      },
      "source": [
        "### Preparing Data"
      ]
    },
    {
      "cell_type": "code",
      "execution_count": null,
      "metadata": {
        "id": "191JRCz4s-rs"
      },
      "outputs": [],
      "source": [
        "# 2\n",
        "# !wget http://ai.stanford.edu/~amaas/data/sentiment/aclImdb_v1.tar.gz\n",
        "# !tar -xf /content/aclImdb_v1.tar.gz"
      ]
    },
    {
      "cell_type": "code",
      "execution_count": null,
      "metadata": {
        "id": "yGfMyZyz83Bs"
      },
      "outputs": [],
      "source": [
        "## Common labels used:\n",
        "## Postive = 0, Neutral = 1, Negative = 2"
      ]
    },
    {
      "cell_type": "code",
      "execution_count": null,
      "metadata": {
        "id": "_elb7tEC_R9T"
      },
      "outputs": [],
      "source": [
        "import tensorflow_datasets as tfds"
      ]
    },
    {
      "cell_type": "code",
      "execution_count": null,
      "metadata": {
        "id": "TQ4laSAxA788"
      },
      "outputs": [],
      "source": [
        "# Download the plain text dataset\n",
        "imdb, info = tfds.load('imdb_reviews', with_info=True, as_supervised=True)"
      ]
    },
    {
      "cell_type": "code",
      "execution_count": null,
      "metadata": {
        "id": "mDRouLJ0BAji"
      },
      "outputs": [],
      "source": [
        "# Get the train and test sets\n",
        "train_data, test_data = imdb['train'], imdb['test']\n",
        "\n",
        "# Initialize sentences and labels lists\n",
        "training_sentences = []\n",
        "training_labels = []\n",
        "\n",
        "testing_sentences = []\n",
        "testing_labels = []\n",
        "\n",
        "# Loop over all training examples and save the sentences and labels\n",
        "for s,l in train_data:\n",
        "  training_sentences.append(s.numpy().decode('utf8'))\n",
        "  training_labels.append(l.numpy())\n",
        "\n",
        "# Loop over all test examples and save the sentences and labels\n",
        "for s,l in test_data:\n",
        "  testing_sentences.append(s.numpy().decode('utf8'))\n",
        "  testing_labels.append(l.numpy())\n",
        "\n",
        "# Convert labels lists to numpy array\n",
        "training_labels_final = np.array(training_labels)\n",
        "testing_labels_final = np.array(testing_labels)"
      ]
    },
    {
      "cell_type": "code",
      "execution_count": null,
      "metadata": {
        "id": "73TbC0jEjmSE"
      },
      "outputs": [],
      "source": [
        "!pip install spacy\n",
        "!pip install emoji"
      ]
    },
    {
      "cell_type": "code",
      "execution_count": null,
      "metadata": {
        "id": "Q2Ewu3ZAji16"
      },
      "outputs": [],
      "source": [
        "import spacy\n",
        "import emoji\n",
        "\n",
        "def text_preprocessing(sentences):\n",
        "    cleaned_sentences = [re.sub(r'[_:.]', r' ', emoji.demojize(sentence)) for sentence in sentences]\n",
        "    en = spacy.load('en_core_web_sm')\n",
        "    sw_spacy = en.Defaults.stop_words\n",
        "    cleaned_sentences = [' '.join([word for word in sentence.split() if word not in sw_spacy]) for sentence in cleaned_sentences]\n",
        "    return cleaned_sentences"
      ]
    },
    {
      "cell_type": "code",
      "execution_count": null,
      "metadata": {
        "id": "eRRByuf_di41"
      },
      "outputs": [],
      "source": [
        "training_sentences = text_preprocessing(training_sentences)\n",
        "testing_sentences = text_preprocessing(testing_sentences)"
      ]
    },
    {
      "cell_type": "code",
      "execution_count": null,
      "metadata": {
        "colab": {
          "base_uri": "https://localhost:8080/"
        },
        "id": "oEYDsy6ECFkl",
        "outputId": "1651295f-f27e-4af3-8972-d00de2027a9a"
      },
      "outputs": [
        {
          "data": {
            "text/plain": [
              "array([0, 0, 0])"
            ]
          },
          "execution_count": 10,
          "metadata": {},
          "output_type": "execute_result"
        }
      ],
      "source": [
        "training_labels_final[:3]"
      ]
    },
    {
      "cell_type": "code",
      "execution_count": null,
      "metadata": {
        "colab": {
          "base_uri": "https://localhost:8080/"
        },
        "id": "Mhca9q4gCLkt",
        "outputId": "26b5c351-e4aa-42d6-9fd3-52ada4fc4023"
      },
      "outputs": [
        {
          "data": {
            "text/plain": [
              "[\"This absolutely terrible movie Don't lured Christopher Walken Michael Ironside Both great actors, simply worst role history Even great acting redeem movie's ridiculous storyline This movie early nineties US propaganda piece The pathetic scenes Columbian rebels making cases revolutions Maria Conchita Alonso appeared phony, pseudo-love affair Walken pathetic emotional plug movie devoid real meaning I disappointed movies like this, ruining actor's like Christopher Walken's good I barely sit\",\n",
              " 'I known fall asleep films, usually combination things including, tired, warm comfortable sette having eaten lot However occasion I fell asleep film rubbish The plot development constant Constantly slow boring Things happen, explanation causing I admit, I missed film, watched majority happen accord real concern I cant recommend film',\n",
              " 'Mann photographs Alberta Rocky Mountains superb fashion, Jimmy Stewart Walter Brennan enjoyable performances <br /><br />But come Hollywood - Mountie telling people Dawson City, Yukon elect marshal (yes marshal!) enforce law themselves, gunfighters battling streets control town? <br /><br />Nothing remotely resembling happened Canadian border Klondike gold rush Mr Mann company appear mistaken Dawson City Deadwood, Canadian North American Wild West <br /><br />Canadian viewers prepared Reefer Madness type enjoyable howl ludicrous plot, or, shake head disgust']"
            ]
          },
          "execution_count": 11,
          "metadata": {},
          "output_type": "execute_result"
        }
      ],
      "source": [
        "training_sentences[:3]"
      ]
    },
    {
      "cell_type": "code",
      "execution_count": null,
      "metadata": {
        "colab": {
          "base_uri": "https://localhost:8080/"
        },
        "id": "lIjJPcEUoedY",
        "outputId": "0e00b2b7-eed8-4c70-aba1-0f60a7e21195"
      },
      "outputs": [
        {
          "data": {
            "text/plain": [
              "1421"
            ]
          },
          "execution_count": 12,
          "metadata": {},
          "output_type": "execute_result"
        }
      ],
      "source": [
        "max([len(sentence.split(' ')) for sentence in training_sentences])"
      ]
    },
    {
      "cell_type": "code",
      "execution_count": null,
      "metadata": {
        "id": "Y8jo-g6ssQkI"
      },
      "outputs": [],
      "source": [
        "# Global Parameters\n",
        "vocab_size = 10000\n",
        "max_length = 120\n",
        "oov_token = '<OOV>'\n",
        "trunc_type = 'post'\n",
        "padding_type = 'post'"
      ]
    },
    {
      "cell_type": "code",
      "execution_count": null,
      "metadata": {
        "id": "bd2PNxLgBI3u"
      },
      "outputs": [],
      "source": [
        "# Parameters\n",
        "# vocab_size = 10000\n",
        "# max_length = 120\n",
        "# trunc_type='post'\n",
        "# oov_token = \"<OOV>\"\n",
        "\n",
        "# Initialize the Tokenizer class\n",
        "tokenizer = Tokenizer(num_words = vocab_size, oov_token=oov_token)\n",
        "\n",
        "# Generate the word index dictionary for the training sentences\n",
        "tokenizer.fit_on_texts(training_sentences)\n",
        "word_index = tokenizer.word_index\n",
        "index_word = tokenizer.index_word\n",
        "\n",
        "# Generate and pad the training sequences\n",
        "sequences = tokenizer.texts_to_sequences(training_sentences)\n",
        "padded = pad_sequences(sequences,maxlen=max_length, truncating=trunc_type)\n",
        "\n",
        "# Generate and pad the test sequences\n",
        "testing_sequences = tokenizer.texts_to_sequences(testing_sentences)\n",
        "testing_padded = pad_sequences(testing_sequences,maxlen=max_length)\n"
      ]
    },
    {
      "cell_type": "markdown",
      "metadata": {
        "id": "lThHx8momxly"
      },
      "source": [
        "### Model 5: LSTM Model (without GloVe embeddings)"
      ]
    },
    {
      "cell_type": "code",
      "execution_count": null,
      "metadata": {
        "colab": {
          "base_uri": "https://localhost:8080/"
        },
        "id": "s539JgAkBYPu",
        "outputId": "c70005f3-53f8-4001-9a1d-98afba714d4d"
      },
      "outputs": [
        {
          "name": "stdout",
          "output_type": "stream",
          "text": [
            "Model: \"sequential_11\"\n",
            "_________________________________________________________________\n",
            " Layer (type)                Output Shape              Param #   \n",
            "=================================================================\n",
            " embedding_11 (Embedding)    (None, 120, 16)           160000    \n",
            "                                                                 \n",
            " bidirectional_11 (Bidirecti  (None, 64)               12544     \n",
            " onal)                                                           \n",
            "                                                                 \n",
            " dense_22 (Dense)            (None, 6)                 390       \n",
            "                                                                 \n",
            " dense_23 (Dense)            (None, 1)                 7         \n",
            "                                                                 \n",
            "=================================================================\n",
            "Total params: 172,941\n",
            "Trainable params: 172,941\n",
            "Non-trainable params: 0\n",
            "_________________________________________________________________\n",
            "Epoch 1/10\n",
            "196/196 [==============================] - 31s 131ms/step - loss: 0.5495 - accuracy: 0.6990 - val_loss: 0.3808 - val_accuracy: 0.8384\n",
            "Epoch 2/10\n",
            "196/196 [==============================] - 15s 75ms/step - loss: 0.3146 - accuracy: 0.8708 - val_loss: 0.3978 - val_accuracy: 0.8294\n",
            "Epoch 3/10\n",
            "196/196 [==============================] - 8s 40ms/step - loss: 0.2613 - accuracy: 0.8998 - val_loss: 0.3666 - val_accuracy: 0.8456\n",
            "Epoch 4/10\n",
            "196/196 [==============================] - 6s 30ms/step - loss: 0.2179 - accuracy: 0.9179 - val_loss: 0.3993 - val_accuracy: 0.8358\n",
            "Epoch 5/10\n",
            "196/196 [==============================] - 5s 26ms/step - loss: 0.1868 - accuracy: 0.9312 - val_loss: 0.4303 - val_accuracy: 0.8278\n",
            "Epoch 6/10\n",
            "196/196 [==============================] - 5s 23ms/step - loss: 0.1541 - accuracy: 0.9476 - val_loss: 0.4825 - val_accuracy: 0.8290\n",
            "Epoch 7/10\n",
            "196/196 [==============================] - 5s 25ms/step - loss: 0.1323 - accuracy: 0.9555 - val_loss: 0.5216 - val_accuracy: 0.8189\n",
            "Epoch 8/10\n",
            "196/196 [==============================] - 4s 19ms/step - loss: 0.1118 - accuracy: 0.9645 - val_loss: 0.5584 - val_accuracy: 0.8178\n",
            "Epoch 9/10\n",
            "196/196 [==============================] - 4s 21ms/step - loss: 0.1016 - accuracy: 0.9672 - val_loss: 0.6468 - val_accuracy: 0.8161\n",
            "Epoch 10/10\n",
            "196/196 [==============================] - 5s 25ms/step - loss: 0.0819 - accuracy: 0.9751 - val_loss: 0.7229 - val_accuracy: 0.8051\n"
          ]
        }
      ],
      "source": [
        "# Parameters\n",
        "embedding_dim = 16\n",
        "lstm_dim = 32\n",
        "dense_dim = 6\n",
        "\n",
        "# Model Definition with LSTM\n",
        "model_lstm = tf.keras.Sequential([\n",
        "    tf.keras.layers.Embedding(vocab_size, embedding_dim, input_length=max_length),\n",
        "    tf.keras.layers.Bidirectional(tf.keras.layers.LSTM(lstm_dim)),\n",
        "    tf.keras.layers.Dense(dense_dim, activation='relu'),\n",
        "    tf.keras.layers.Dense(1, activation='sigmoid')\n",
        "])\n",
        "\n",
        "# Set the training parameters\n",
        "model_lstm.compile(loss='binary_crossentropy',optimizer='adam',metrics=['accuracy'])\n",
        "\n",
        "# Print the model summary\n",
        "model_lstm.summary()\n",
        "\n",
        "NUM_EPOCHS = 10\n",
        "BATCH_SIZE = 128\n",
        "\n",
        "# Train the model\n",
        "history_lstm = model_lstm.fit(padded, training_labels_final, batch_size=BATCH_SIZE, epochs=NUM_EPOCHS, validation_data=(testing_padded, testing_labels_final))"
      ]
    },
    {
      "cell_type": "code",
      "execution_count": null,
      "metadata": {
        "colab": {
          "base_uri": "https://localhost:8080/",
          "height": 541
        },
        "id": "svuGQV2mBm4h",
        "outputId": "ff3b5f3d-4515-4a5c-8361-341d2d4cefe2"
      },
      "outputs": [
        {
          "data": {
            "image/png": "[encoded data removed]",
            "text/plain": [
              "<Figure size 432x288 with 1 Axes>"
            ]
          },
          "metadata": {},
          "output_type": "display_data"
        },
        {
          "data": {
            "image/png": "[encoded data removed]",
            "text/plain": [
              "<Figure size 432x288 with 1 Axes>"
            ]
          },
          "metadata": {},
          "output_type": "display_data"
        }
      ],
      "source": [
        "# Plot the accuracy and loss history\n",
        "plot_graphs(history_lstm, 'accuracy')\n",
        "plot_graphs(history_lstm, 'loss')"
      ]
    },
    {
      "cell_type": "markdown",
      "metadata": {
        "id": "6QnE6k-UmhH0"
      },
      "source": [
        "### Creating the Embedding matrix"
      ]
    },
    {
      "cell_type": "code",
      "execution_count": null,
      "metadata": {
        "colab": {
          "base_uri": "https://localhost:8080/"
        },
        "id": "1IyCwfJTmf1U",
        "outputId": "2d7a0d19-a393-4876-aab7-550d503e981f"
      },
      "outputs": [
        {
          "name": "stdout",
          "output_type": "stream",
          "text": [
            "Hits: 9598\n",
            "Misses: 401\n"
          ]
        }
      ],
      "source": [
        "# vocab_size = 10000\n",
        "embedding_dim = 50\n",
        "num_tokens = vocab_size + 1\n",
        "\n",
        "hits, misses = 0, 0\n",
        "embedding_matrix = np.zeros((num_tokens, embedding_dim))\n",
        "for index in range(2, num_tokens):\n",
        "    word = index_word[index]\n",
        "    embedding_vector = embeddings_index.get(word)\n",
        "    if embedding_vector is not None:\n",
        "        embedding_matrix[index] = embedding_vector\n",
        "        hits += 1\n",
        "    else:\n",
        "        misses += 1\n",
        "print('Hits: {}\\nMisses: {}'.format(hits, misses))"
      ]
    },
    {
      "cell_type": "markdown",
      "metadata": {
        "id": "PxJEL8ngxsxF"
      },
      "source": [
        "### Model 6: LSTM-CNN Model (GloVe)"
      ]
    },
    {
      "cell_type": "code",
      "execution_count": null,
      "metadata": {
        "colab": {
          "base_uri": "https://localhost:8080/"
        },
        "id": "MQUJJ8nHrr4M",
        "outputId": "bac9f35e-e121-470c-c9a7-01579574077b"
      },
      "outputs": [
        {
          "name": "stdout",
          "output_type": "stream",
          "text": [
            "Model: \"sequential\"\n",
            "_________________________________________________________________\n",
            " Layer (type)                Output Shape              Param #   \n",
            "=================================================================\n",
            " embedding (Embedding)       (None, 120, 50)           500050    \n",
            "                                                                 \n",
            " bidirectional (Bidirectiona  (None, 120, 64)          21248     \n",
            " l)                                                              \n",
            "                                                                 \n",
            " dropout (Dropout)           (None, 120, 64)           0         \n",
            "                                                                 \n",
            " conv1d (Conv1D)             (None, 116, 64)           20544     \n",
            "                                                                 \n",
            " global_average_pooling1d (G  (None, 64)               0         \n",
            " lobalAveragePooling1D)                                          \n",
            "                                                                 \n",
            " re_lu (ReLU)                (None, 64)                0         \n",
            "                                                                 \n",
            " dropout_1 (Dropout)         (None, 64)                0         \n",
            "                                                                 \n",
            " dense (Dense)               (None, 24)                1560      \n",
            "                                                                 \n",
            " dropout_2 (Dropout)         (None, 24)                0         \n",
            "                                                                 \n",
            " dense_1 (Dense)             (None, 1)                 25        \n",
            "                                                                 \n",
            "=================================================================\n",
            "Total params: 543,427\n",
            "Trainable params: 43,377\n",
            "Non-trainable params: 500,050\n",
            "_________________________________________________________________\n",
            "\n",
            "TRAINING MODEL:\n",
            "Epoch 1/15\n",
            "196/196 [==============================] - 72s 329ms/step - loss: 0.5973 - accuracy: 0.6825 - val_loss: 0.4920 - val_accuracy: 0.7582\n",
            "Epoch 2/15\n",
            "196/196 [==============================] - 71s 363ms/step - loss: 0.5024 - accuracy: 0.7697 - val_loss: 0.4324 - val_accuracy: 0.8015\n",
            "Epoch 3/15\n",
            "196/196 [==============================] - 66s 339ms/step - loss: 0.4697 - accuracy: 0.7930 - val_loss: 0.4176 - val_accuracy: 0.8120\n",
            "Epoch 4/15\n",
            "196/196 [==============================] - 71s 362ms/step - loss: 0.4435 - accuracy: 0.8031 - val_loss: 0.3960 - val_accuracy: 0.8199\n",
            "Epoch 5/15\n",
            "196/196 [==============================] - ETA: 0s - loss: 0.4219 - accuracy: 0.8212"
          ]
        }
      ],
      "source": [
        "# model_six is a binary version of model_four which has 3 classes\n",
        "def model_six(): \n",
        "    # Parameters\n",
        "    lstm_dim = 32\n",
        "    dense_dim = 24\n",
        "    conv_filters = 64\n",
        "    dropout_rate = 0.6\n",
        "\n",
        "    # Model Definition with LSTM\n",
        "    model_lstm_conv = tf.keras.Sequential([\n",
        "        tf.keras.layers.Embedding(num_tokens, embedding_dim, input_length=max_length, \n",
        "                                embeddings_initializer=tf.keras.initializers.Constant(embedding_matrix),\n",
        "                                trainable=False),\n",
        "        tf.keras.layers.Bidirectional(tf.keras.layers.LSTM(lstm_dim, return_sequences=True)),\n",
        "        tf.keras.layers.Dropout(dropout_rate),\n",
        "        # tf.keras.layers.Bidirectional(tf.keras.layers.LSTM(lstm_dim)),\n",
        "        # tf.keras.layers.Dropout(dropout_rate),\n",
        "        tf.keras.layers.Conv1D(conv_filters, 5),\n",
        "        tf.keras.layers.GlobalAveragePooling1D(),\n",
        "        tf.keras.layers.ReLU(),\n",
        "        tf.keras.layers.Dropout(dropout_rate),\n",
        "        tf.keras.layers.Dense(dense_dim, activation='relu'),\n",
        "        tf.keras.layers.Dropout(dropout_rate),\n",
        "        tf.keras.layers.Dense(1, activation='sigmoid')\n",
        "    ])\n",
        "\n",
        "    # Set the training parameters\n",
        "    model_lstm_conv.compile(loss='binary_crossentropy',optimizer='adam',metrics=['accuracy'])\n",
        "\n",
        "    # Print the model summary\n",
        "    model_lstm_conv.summary()\n",
        "\n",
        "    NUM_EPOCHS = 15\n",
        "    BATCH_SIZE = 128\n",
        "\n",
        "    # Train the model\n",
        "    print('\\nTRAINING MODEL:')\n",
        "    history_lstm_conv = model_lstm_conv.fit(padded, training_labels_final, batch_size=BATCH_SIZE, epochs=NUM_EPOCHS, validation_data=(testing_padded, testing_labels_final))\n",
        "\n",
        "    return history_lstm_conv, model_lstm_conv\n",
        "\n",
        "history, model = model_six()"
      ]
    },
    {
      "cell_type": "code",
      "execution_count": null,
      "metadata": {
        "id": "1nAoQBXTxIBc"
      },
      "outputs": [],
      "source": [
        "# Plot the accuracy and loss history\n",
        "plot_graphs(history, 'accuracy')\n",
        "plot_graphs(history, 'loss')"
      ]
    },
    {
      "cell_type": "markdown",
      "metadata": {
        "id": "YcpA6lwW-U-G"
      },
      "source": [
        "## Prediction on latest Tweets"
      ]
    },
    {
      "cell_type": "markdown",
      "metadata": {
        "id": "jlca9zNYtITh"
      },
      "source": [
        "### Scraping tweets"
      ]
    },
    {
      "cell_type": "code",
      "execution_count": null,
      "metadata": {
        "colab": {
          "base_uri": "https://localhost:8080/"
        },
        "id": "fQlmd9vR-eTa",
        "outputId": "a77309f4-69d7-4257-a5a6-2e81e327150e"
      },
      "outputs": [
        {
          "name": "stdout",
          "output_type": "stream",
          "text": [
            "Looking in indexes: https://pypi.org/simple, https://us-python.pkg.dev/colab-wheels/public/simple/\n",
            "Requirement already satisfied: snscrape in /usr/local/lib/python3.9/dist-packages (0.6.2.20230320)\n",
            "Requirement already satisfied: requests[socks] in /usr/local/lib/python3.9/dist-packages (from snscrape) (2.27.1)\n",
            "Requirement already satisfied: beautifulsoup4 in /usr/local/lib/python3.9/dist-packages (from snscrape) (4.11.2)\n",
            "Requirement already satisfied: lxml in /usr/local/lib/python3.9/dist-packages (from snscrape) (4.9.2)\n",
            "Requirement already satisfied: filelock in /usr/local/lib/python3.9/dist-packages (from snscrape) (3.10.7)\n",
            "Requirement already satisfied: soupsieve>1.2 in /usr/local/lib/python3.9/dist-packages (from beautifulsoup4->snscrape) (2.4)\n",
            "Requirement already satisfied: certifi>=2017.4.17 in /usr/local/lib/python3.9/dist-packages (from requests[socks]->snscrape) (2022.12.7)\n",
            "Requirement already satisfied: urllib3<1.27,>=1.21.1 in /usr/local/lib/python3.9/dist-packages (from requests[socks]->snscrape) (1.26.15)\n",
            "Requirement already satisfied: idna<4,>=2.5 in /usr/local/lib/python3.9/dist-packages (from requests[socks]->snscrape) (3.4)\n",
            "Requirement already satisfied: charset-normalizer~=2.0.0 in /usr/local/lib/python3.9/dist-packages (from requests[socks]->snscrape) (2.0.12)\n",
            "Requirement already satisfied: PySocks!=1.5.7,>=1.5.6 in /usr/local/lib/python3.9/dist-packages (from requests[socks]->snscrape) (1.7.1)\n"
          ]
        }
      ],
      "source": [
        "!pip install snscrape"
      ]
    },
    {
      "cell_type": "code",
      "execution_count": null,
      "metadata": {
        "colab": {
          "base_uri": "https://localhost:8080/"
        },
        "id": "CJuxbE_D-UEO",
        "outputId": "f761379d-b263-45b4-902a-f184931dc3f7"
      },
      "outputs": [
        {
          "name": "stdout",
          "output_type": "stream",
          "text": [
            "Getting Twitter Data...\n",
            "['@POTUS The only reason the economy was reeling is because you and the democrats released Covid 19 so that you could rig the election. The democrats are at fault for everything that has happened to the US.', '@WakeAwake1 Without a doubt, the cops already have, remember the covid police', '@POTUS Liar! The Democrats created and unleashed Covid for the specific reason of destroying DJT, and tanking the economy. All you did was turn the faucet on after all the State Democrat Governors turned it off! You know you’re a failure, and so do we!', '@DavidCass_ @lukefairbairn7 Who says fc are skint? They have signed one of the biggest shirt deals for next season once the Hummel garbage is over, the books are balanced baring the covid loan \\U0001fae0', 'COVID-19 Remains #1 Cause of Line-of-Duty Fatalities For U.S. Law Enforcement\\nSource:\\n(1) Latest Fatality Reports - National Law Enforcement Officers Memorial Fund (https://t.co/dzEb3czWOK)\\n(2) 2021 Fatalities Report (https://t.co/dzEb3czWOK)\\n(3) 2020 (https://t.co/t2BzkAYb6Y) https://t.co/jmUOToBU27', \"@mkainerugaba First capture iron sheets thieves, capture corrupt officials in your dad's govt, capture those who stole money for Kabowa hospital, The Katosi road, Kalamoja goats, LC 1 bikes, TV and radio sets your dad promised people, COVID relief etc thereafter we shall capture Kisumu\", \"@POTUS Lol. It's called covid, you wanted everything closed.\", '@mat_schmaltz @jenniferelle_ A reasonable approach to climate change.  What an absolute joke.  It, like covid policy, is a massive transfer of wealth from Canadians to the elite.  Bury your head in the sand.  You will own nothing and you will be happy.', '@deepwithfuture I don’t use ACV only because I keep forgetting to buy some lol. I just started with the turmeric and it’s quickly lightening those spots. I’m gonna do it on my ass. COVID messed with my skin', '@DrEliDavid The WHO has this totally wrong. COVID infections: (i) can hamper the immune system for up to 8 months, making one more vulnerable to other infections, (ii) increase the risk of developing diabetes, and (iii) can damage major organs, incl. the brain &amp; heart, even in mild cases.', \"@iihtishamm Are multiple vaccinated. I've had covid once and everyone in my family who are triple and quadruple vaccinated have had it multiple times and way worse. I've even been sat with them all day and not caught it and i'm unvaccinated. More jabs seems to = impaired immunity\", '@unusual_whales You’d think with all the Covid deaths they would be ahead of the game?🤔', '@Jennife55216657 I’ve heard so many people say they feel weird, go to the doc and the doc says nothing came up but they KNOW their body isn’t feeling right. Covid making a sequel?! 😭', '@AgentTaylorFBI @RapistSpic I was thinking about that trend we had of nurses dancing during covid. I get that their hobby is their phones and they need to decompress and relieve stress after a hard workday, but the lack of self awareness was so uniform it was creepy. It wasn’t a few, hundreds danced psycho', '2020 + 21 - COVID \\n\\n2022 in Dallas, Texas - Could afford it, had nobody to go with.\\n\\n2023 in Los Angeles, California - Could afford it, had nobody to go with.', \"My Dad was Robin Ince and my Mam was Russell Brand. So when I see a covid vaccine, I don't know whether to eat it or shove it up my ass\", '@alexandrosM Thanks :)\\n\\nI feel as if I don\\'t have enough capacity to evaluate COVID-debates (on vaccines, medicines, etc) on the object level.\\n\\nYou thoughtfully thinking Scott is \"off base\" in regards to this is noted :)', \"@Bignole936 I don't think Arkansas is very good. I think the COVID season was a fluke, and we're seeing them fall back to Earth now.\", '@DellAnnaLuca @sdbaral But if you think shooting infected people is too harsh, why not just ban covid infected from going to hospital?\\n\\nThat would have reduced health care load, and @EWoodhouse7 has shown that would have saved lives too.', '@DrLoupis YES WE ARE! Vaccine free &amp; covid free 🙋🏻\\u200d♂️', 'We did. COVID, which killed a MILLION+ people and they bungled it BADLY!', '@DrEliDavid Dude that was so 2020 🙄🙄 now you need to be tested for the covid trans strain.', '@Sinoux21 @RepBowman That\\'s good. They went all crazy Big Brother \"Be in your home in 5 mins\" during COVID. That was scary Thatcher stuff. Too much English influence there for me. I like the defiance in the Yanks, they\\'re a little more like us.I\\'d be thinking of Trevelyan and The Fields Of Athenry!', \"💔💔💔💔\\nThis is what #COVID19 media reporting looks like\\nGood, isn't it?\\nIt's a sad state of affairs that @guardian @Telegraph @MailOnline @thetimes  @Independent  have allowed their innate ableism to stop them reporting the facts.\\n619 Covid Deaths in the past week, up from 605. https://t.co/nw0mQDQ1z9\", '@ttextyler @CentristRally18 @charliekirk11 The Covid-19 vaccine saved literally millions of American lives.', '@SummmertC Lord Fauci would get all the sheep’s attention…this covid/covid vaxx corruption/lie affected the entire world. Fauci should be first‼️ #CrimesAgainstHumanity', '@BrentAWilliams2 Did they take the lessons from Covid propaganda and just swap it out with advocating for child grooming and mutilation?', '@CPRKaaroo Turns out its a covid test...sorry vox', '@beckymontacute @CityWestminster My understanding is that it’s a marginal ward in a marginal council and the 200 boomers that live there get annoyed at any changes. When the old Tory administration did the outdoor dining stuff during Covid Labour got opportunistic and campaigned against it', '@gerryq65 Hearing a rumour brother that a certain Belfast laboratory are going to text Man In Black Mr Robertson to let him know a DUFC player has failed a late covid test.\\n3-0 win awarded to The Rangers due to ineligible player.', 'You\\'re a MORON.  Give full disclosure!  We were in strongest economy bc Trump, then COVID came.  World forced to shut down.  Businesses closed, jobs lost.  Stimulus checks &amp; market recovered ALL BEFORE you arrived.  \\nYou kept printing $ causing \"transitory\" inflation..remember?', 'How much toilet paper do you think the covid hoarders have left?', '@aewadachigboteg @crazy_isnormal @leb4fer @bennyjohnson Joe said he was going to shut down COVID and then more people died under him in a shorter amount of time and he had vaccines. Then he said it was a pandemic of the unvaccinated which was another important lie because more vaccinated people are dying than unvaccinated.', '@726courtown @marksugruek @IrishTimes Correct, but there is no \"only\" about it if you get my drift!\\n\\nAs elderly age is the prime driver of Covid, this 3 years is really significant!\\n\\nRemember, UK ONS data showed that the average \"weeks of life lost\" per death was 7 weeks!', 'Our newly published article sheds light on the growing gun violence problem in the United States and how it was further exacerbated by the COVID-19 pandemic. @AnnaSsentongo #PublicHealth #GunViolence', 'Texas COVID-19 Vaccine Freedom Act (HB 81 and SB 177), by @P_McCulloughMD https://t.co/MTBdUHqUoq', 'I guess this is why they don’t have us test before coming back to work, huh. Day 12 of Covid, 7 days after finishing a course of Paxlovid.\\nIt’s a good thing I mask religiously. https://t.co/jfYo5lOZtR', '@VigilantFox @DowdEdward From I get my COVID vaccine, J&amp;J, I am getting sick, two times COVID, severe cold every month. Increase the asma crises', '@POTUS It’s a shame a healthy young man was forced to inject the COVID vaccine poison into his body.', '@RealEddieHobbs @CarolD82472627 @IrishTimes This makes it clear that the upcoming Covid ‘review’ will not cover vaccination harms and will similarly not deal with issues relating to medical ethics such as  informed consent.', '@stopvaccinating I tested to know if I had a cold/flu or if I had covid and should take my FLCCC scripts + supplements. IVM and HCQ didn’t help  my cold, but 100% cured covid.', \"actually i DESERVE to see red velvet live and front row at that after i couldn't go see them last year because my dumbass got covid\", '@UncleNestor22 3 years of COVID tyranny made it clear there are a lot of people wearing uniforms and carrying guns in the country who never should have been a police officer in the first place.', 'Chris Rock explains how big pharmaceutical and our government works. HIV is as a gold mine and still is. Covid and the vaccines = Billions!!!! #BigPharm #BigHarm https://t.co/fzd7iGF63h', 'Young women who received at least one dose of AstraZeneca’s Covid vaccine might have been more likely to die of a heart problem in the 12 weeks after their vaccination. https://t.co/mA6CZV4Veb', '@fivehundredpou1 @danitasteinberg If you don’t mind risking being infected, or the distinct possibility of Long Covid….unmask. Personally I don’t think it’s such a big deal to mask up to protect ourselves and each other. Covid is STILL out there and still deadly. But you do you.', \"Investigative journalist, Marc Morano, explains how Covid lockdowns were used to prime people for the incoming climate lockdowns, as part of the World Economic Forum's 'Great Reset' agenda. \\n\\n@VishnuFNO https://t.co/SnZSMtaO9V\", '@witnwords1 @emc_mcdonald No, the gist is that she’s saying there’s a minimal the risk of COVID nosocomial infection, which is absolutely untrue.', '@quasiparticles @wildbabylin @OffsetYRN remember when you had covid and was spitting on doorknobs to \"level the playing field\" 🤣', '@Rod__Mason @CitizenFreePres @witchendaswas Anyone comparing flu &amp; COVID mortality is short-sighted &amp; a bad researcher. \\nAnd ignorant of significant factors like long COVID, a nightmare for so many. Even people in their 20’s report ongoing issues like high blood pressure &amp; breathing problems. Don’t be COVID stupid', 'So will the “leaders” apologize to the students they made feel belittled for refusing the unnecessary COVID vaccine?!?!? @mynorthoaks @LionUpAthletics @SLUEnglish @NCAA @SoutheasternSGA @LionUpGolf @LADeptHealth', \"@debra675 @MouthfulBig @MartinDaubney @BillboardChris Yeah I thought since covid yelling in someone's face is attempted murder\", '@SecBlinken @BillGates @USAmbPEPFAR @gatesfoundation So what are you planning next, now that Covid is done?', '@krassenstein Bragg is funded by Soros, the very nature makes him corrupt. For 7 years we have seen the Democrats attack Trump with Lie after Lie at what point will you pop your head out of your ass and see it for what it is? How many covid deaths were under Democrat leadership?', '@JuanJoreyes7 @floquatrin COVID ??', 'So now that everybody agrees that the covid death counts were padded in America can we ask:\\n\\n1. Could the people who cooked the books on Covid deaths also be the same people who released the bio-weapon?\\n\\n2. What country (ies) cooked the books the most?\\n\\n3. Who benefited ?', 'Putin Exterminates “Mad” Covid-19 Vaccine\\xa0Scientist https://t.co/I6Jr4Zccri', '@UtdEra_ covid tax😭😭😭', '@gilli_bee @JaneGreenwich @danwootton Successful vaccine rollout, covid relief, infrastructure bill, rebuilt alliances, renewed support for NATO, lower insulin prices, renew environmental protections, rally western support for Ukraine, pardon marijuana possession convictions, student debt relief, burn pit comp vets', 'Putin Exterminates “Mad” Covid-19 Vaccine\\xa0Scientist https://t.co/M78YoznDuF', '@petron @covid_clarity @GovTimWalz Please tell what gun laws you all want passed that would prevent a shooting or do you believe all guns should be ban?', \"@AlexBerenson @catturd2 And covid still doesn't exist.\", '@therealDGribble The MRNA Gene Therapy Shots aka Covid vaccine have reportedly killed over 20million world wide. So yeah, not even comparable.', 'Alberta Law Firm Prepares Class-Action Lawsuit Against Feds Over COVID Vaccines https://t.co/lRFSDfUc13 https://t.co/KUFWhNkiDA', '@Le_CrocMonsieur @StadiumMainSt @AshaRangappa_ You certainly don’t qualify', '@POTUS Small businesses closed because of forced lockdowns for Covid. Why can’t you admit that. Not a trump fan but it want his fault', '@YakkStack @ABDanielleSmith @Alberta_UCP  if this is true…let’s go ahead and run with it to counter the bs about Covid case interference.', '@drkohilathas What diet did you follow..??\\nI have been suffering from gastric reflux, heartburn, palpitations and burping for close to 8 months now. I had covid 2 years ago.\\nKindly suggest what can be done🙏🙏', 'Post-COVID syndrome is associated with capillary alterations, macrophage infiltration and distinct transcriptomic signatures in skeletal muscles https://t.co/c2vT4pJgWK', '@NoConceptOfTime @NFBUK @BusUsersUK I believe this to be state sanctioned and state promoted ableism\\n\\nHate towards disabled, lies spread about disabled people. And endless policies that make access to essential services harder for disabled ppl\\n\\nTransport Policy\\nThresholds for support raised\\nCovid death rates\\nDNRs', '@POTUS COVID is the only reason President Trump lost in in 2020.', '@edwinhayward Obviously you have chosen to forget that we are also saving £14bn every year from previous EU contributions, plus the £80bn we would have had to contribute to the EU covid bail out, plus another £25bn saving from the EU energy bailout .', 'Met our total debt stock from Nkrumah to Mahama at 120 billion in 2017. Your government added 455 billion in only 6 years and you still have the audacity to blame a 1 yr old war and covid? According to the world bank, covid only exposed your recklessness https://t.co/HtJQcz8Y65', '@DineshDSouza arent you some self-help guru? as such, do you agree with the trumpers that the covid vaccine is a sadistic plot by the worlds doctors to exterminate us all? https://t.co/29N4ymwl0w', '@betterworld_24 @Risemelbourne How could common cold symptoms labeled as COVID cause any injury?\\nDel BigShill is here to answer.', \"@DrPops3 @julia_doubleday @TaylorLorenz My immunocompromised kid got their RN, BSN last May &amp; is a bedside nurse. They buy their own N95s because they can't risk covid--for themselves or me (I'm also immunocompromised). We should be protecting those in healthcare, not putting them at risk of disability or death.\", '@Michael59503746 This man is the poster child for \"covid toxoplasmosis\"', '@AVolkender @LaurenWitzkeDE Yes, and making your own decision about COVID was not prudance, it was SUICIDE!  And you were KILLING GRANDMA!\\n\\nThe enlightenment can be summed up very simply:  after centuries of war, they realized that it was better to let the other guy go to hell than drag him into your heaven', '@Brick_Suit @johncardillo He let him run the Covid response. That was a CDC responsibility but Trump made his little group to respond. He could easily have rectified that but he was “afraid”. That isn’t leadership…', '@slinkobandinko @VigilantFox It’s a fact that COVID hits people with certain illnesses. It can tip the balance. If you are standing on the edge of a cliff and someone pushes you off and you drop to your death. The person that pushed you killed you because of where you were standing at that moment. 1)', 'To think, there was a time when I thought I’d never ever go back to the National Gallery because of COVID vaccine requirements. \\n\\nDid the Met in NYC lift their requirements?', '2023 The psychological experience of nursing students in their internship year during the COVID-19 pandemic in Saudi Arabia. https://t.co/QuwiztFmrx', 'WHO covid vaccine revised roadmap- #WHO #mRNA vaccines and #BigPharma https://t.co/68GsJtv9dN via @YouTube', 'Covid-19: pessoas com comorbidades podem tomar vacina bivalente \\n\\n     (adsbygoogle = window.adsbygoogle || []).push();\\n\\n                                                             ... \\nhttps://t.co/S9fm2e45MH', 'Pilots are dying at Southwest Airlines at over 6X the normal rate after the COVID vaccines rolled out, by @stkirsch https://t.co/MT3PuPu44b', 'If you make a Medical Choose based upon FREEDOM and refuse ANY of these according to the VAX CULT &amp; NOW COVID CULT your antivax...\\n\\nNo logic whatsoever NONE!', '@POTUS Because of the Covid bullshit hoax!', '@queensofbravo I think summer house should go to filming for 3/4 solid weeks like the Covid season. Bring back Danielle, Lindsay, Kyle and the newbies. Amanda and Carl can visit on the weekends if they /have/ to for their SOs. Bring back Andrea and add a few below deck or younger bravolebs', '@AlexBerenson @catturd2 Have you ever seen it prescribed to those with Covid and what it can do? It’s shockingly amazing. It doesn’t hurt them either.', '@POTUS Actually the economy was pretty good......yes we had Covid, but then you chose to shut everyone down, mandate the FAKE vaccine, and hand out money like crazy. Now banks are collapsing, you sold off our oil reserved to China, and are ruining our country! YOU DID THAT!!!!!!!', \"@DrEliDavid Don't forget they have the new Covid suppository! That's a real crowd pleaser. 😂😂\", \"@Sharky_vs_Evil @stkirsch LOL, we all know that eventually he is going to get one lousy dose of Covid. That or he's one of the lucky ones that do get it but it's asymptomatic, with no symptoms at all - until of course he's diagnosed w/post-Covid damage to his lungs, liver, heart or brain.\", 'Covid once gave us ntate marema kere lerete man🤣🤣🤣🤣🤣 https://t.co/v6AVmCqOSk', \"@Conservative_BC @JohnRustad4BC We want: Canadian gas &amp; oil, no transgender men in our women's only spaces, no covid passports and hire back all our Healthcare workers that were fired. Please be a voice of reason for BC residents.\", '@cellabellamcd COVID…. 🦠', '@POTUS Small business owner here. Since you took office it’s been tougher then any other season of our business and many local businesses around. We wer e thriving during COVID. Still working hard; just thought you should know', '@JosephFalco20 @Alka_Lino @TheDailyShow Haha…what?!? You blame Trump even after all of the information we have about the lies with Covid? Partisan, unAmerican hack.', '@escapeportland if you need a racial component to think something is a genocide, maybe this is what Trump and Fauci were preparing us for: \\nhttps://t.co/ePZHaoEemb\\nthey helped collect tons of our DNA with the stupid covid tests. that should help create better viruses.', '@goddeketal @LifeLiberty1976 @aza @tristanharris It was about the few gaining far more technical control and dangerously so over all Earthlings, not just humans. COVID was many things but ultimately it was about more control via their smart grid only slave fools would allow to go in place', '@Azeem_Majeed @DavidAshleyDavi There is no evidence that these jabs decrease the risk of anything. Data from the MHRA showing that the covid jabs are not the cause of any the deaths and serious adverse  effects reported to the Yellow Card since the roll out of these jabs has yet to published.']\n",
            "100\n"
          ]
        }
      ],
      "source": [
        "print('Getting Twitter Data...')\n",
        "\n",
        "import snscrape.modules.twitter as sntwitter\n",
        "\n",
        "query = 'Covid lang:en'\n",
        "\n",
        "tweet_list = []\n",
        "meta_data = []\n",
        "counter = 0\n",
        "for tweet in sntwitter.TwitterSearchScraper(query).get_items():\n",
        "    # print(vars(tweet))\n",
        "    # print(type(tweet))\n",
        "    meta_data.append([tweet.date, tweet.id, tweet.rawContent, tweet.user.username, tweet.url])\n",
        "    tweet_list.append(tweet.rawContent)\n",
        "    counter += 1\n",
        "    if counter >= 100:\n",
        "        break\n",
        "    \n",
        "\n",
        "print(tweet_list)\n",
        "print(len(tweet_list))"
      ]
    },
    {
      "cell_type": "code",
      "execution_count": null,
      "metadata": {
        "colab": {
          "base_uri": "https://localhost:8080/"
        },
        "id": "nfIswe_hC8l5",
        "outputId": "5c96b710-d8ed-4b1c-ce91-33d9b0d6ef20"
      },
      "outputs": [
        {
          "name": "stdout",
          "output_type": "stream",
          "text": [
            "#doctors  are inspiring figures in society; their efforts should be celebrated every day. Wishing you a happy National Doctors' Day! A salute to all doctors for their heroic job, especially when the COVID-19 pandemic hit the world.👩🏻‍⚕️🧑🏻‍⚕️ \n",
            "\n",
            "#nation…https://t.co/WTys3K2udi\n",
            "https://twitter.com/MohammedShanus/status/1641474833623175168\n"
          ]
        }
      ],
      "source": [
        "i = 0\n",
        "print(tweet_list[i])\n",
        "print(meta_data[i][-1])"
      ]
    },
    {
      "cell_type": "code",
      "execution_count": null,
      "metadata": {
        "id": "XMXtqi5fFYVY"
      },
      "outputs": [],
      "source": [
        "## Steps:\n",
        "# 1. Convert all hashtags to words\n",
        "# 2. Convert all emojis to words (probably in camel case)\n",
        "# 3. substitute ':' with ' : '\n",
        "# 4. substitute '_' with ' '\n",
        "# NOTE: Steps 3 and 4 is done by Tokenizer"
      ]
    },
    {
      "cell_type": "code",
      "execution_count": null,
      "metadata": {
        "id": "MNossWlAGQ9d"
      },
      "outputs": [],
      "source": [
        "tweet = tweet_list[i]"
      ]
    },
    {
      "cell_type": "markdown",
      "metadata": {
        "id": "VsmgeotQGEfg"
      },
      "source": [
        "### Preprocessing tweets"
      ]
    },
    {
      "cell_type": "code",
      "execution_count": null,
      "metadata": {
        "id": "xRqzV71WtrSq"
      },
      "outputs": [],
      "source": [
        "# !pip install spacy"
      ]
    },
    {
      "cell_type": "code",
      "execution_count": null,
      "metadata": {
        "id": "SoFp3-WUWYol"
      },
      "outputs": [],
      "source": [
        "# import spacy\n",
        "import emoji\n",
        "import re\n",
        "\n",
        "def text_preprocessing(sentences):\n",
        "    # 1. Hastags to words, Emojis to text, replace '_', ':' and '.' with space ' '\n",
        "    cleaned_sentences = [re.sub(r'[_:.]', r' ', emoji.demojize(re.sub(r'#(\\w+)\\b', r'\\1', sentence))) for sentence in sentences]\n",
        "    # # 2. Removing stop words\n",
        "    # en = spacy.load('en_core_web_sm')\n",
        "    # sw_spacy = en.Defaults.stop_words\n",
        "    # cleaned_sentences = [' '.join([word for word in sentence.split() if word not in sw_spacy]) for sentence in cleaned_sentences]\n",
        "    return cleaned_sentences\n",
        "\n",
        "def transform_tweets(tweets, tokenizer, max_length=35):\n",
        "    sequences = tokenizer.texts_to_sequences(tweets)\n",
        "    padded = pad_sequences(sequences,maxlen=max_length)\n",
        "    return padded\n"
      ]
    },
    {
      "cell_type": "code",
      "execution_count": null,
      "metadata": {
        "colab": {
          "base_uri": "https://localhost:8080/"
        },
        "id": "MQVqVlepx-ih",
        "outputId": "1e1f255f-3571-4df9-d594-254a77002f7c"
      },
      "outputs": [
        {
          "name": "stdout",
          "output_type": "stream",
          "text": [
            "[\"doctors  are inspiring figures in society; their efforts should be celebrated every day  Wishing you a happy National Doctors' Day! A salute to all doctors for their heroic job, especially when the COVID-19 pandemic hit the world  woman health worker light skin tone  health worker light skin tone  \\n\\nnation…https //t co/WTys3K2udi\", '\"I want to return to the position and fully implement the remaining part of my strategy that was interrupted by COVID-19  We were active for two years instead of four \"\\n\\n@SamaEmme @KayangweGodwin @UgandaRugby @WomensRugbyInUg\\n@ugrugbyfans\\nhttps //t co/2TDD7Dz5QR', '@Tea13Sweet @robreiner @POTUS Just like trump Biden chose politics over people  Several times he has said Covid was over  Hundreds of Americans still dying everyday  Thousands more exposed to life long disability from repeat infections  And Biden pretends the threat is over because he wants to win elections ', 'Class-size limits, charter school changes, ban on COVID shot mandates in North Caroilna House budget  GOP plan could also lead to changes in recently revised social studies standards  nced ncpol ncga https //t co/8OmOgdBX77', \"@LpistoIero I've said countless times the goverments overreaction to covid was disgraceful  An abuse of money and power  \\n\\nThat doesn't mean that we should not call out the spread of a barbaric religion that has no place in the western world \", '@NEWSMAX Climate change or covid?', '@maxfawcett People can be pronouns now? Jesus, so hard to keep up  Also I’m opposed, because science matters, there’s 2 genders  I bet you were a big fan of following science when it was supporting Covid shots, but opposed when it comes to genders?', \"@jiminsworlds I'll send it to you  fire  this recipe is AMAZING I've made it so many times during covid bro  weary face \", 'Everybody wants to be oppressed so they can play victim now that COVID is no longer an excuse', 'I have lost 5 lbs already bc of this stupid Covid and I AM SCREAMING BC WHEN CAN I GO TO THE GYM AGAIN HELP WHAT IF MY ASS GAINS RUN AWAY ARGHHHHHHHHHHH WHAT IF I BECOME A WEAKLING AGAIN????  weary face  weary face  weary face ', '@SwipaCam @jordandan53 Of course you leave out how Embiid was way better that year and the season was shorted due to covid', '@WaitinToWin I had to justify using a line ex45th said during the massive out break of Covid-19  Drinking from a white container   Crazy stuff indeed ', 'Freedom of speech in the west was always sketchy   But after events like Occupy Wall Street, Wikileaks on Iraq war &amp; Snowden leaks it started going downhill   Tyranny started escalating as a response to populism - Trump &amp; Brexit and the transformation was complete with Covid  ', \" France  Covid-19  the French government will lift the vaccination requirement for caregivers\\n\\nIt's been a long time, \\nVery long,\\nToo long \\n\\nIncredible Macron in panic?  face screaming in fear \\nIt won't change his karma situation face with open eyes and hand over mouth \\n\\nhttps //t co/atCpn47uDw\", 'Covid over fasho the jehovas witnesses are back out on the block wit it', 'Covid Boy needs to stfu', \"@S24764067 @mountvi1 @EssexPR Basically, yes  It's a janky jab, but it helped slow the spread of Covid, and is still far less unpleasant than the disease itself  The tech will get better as it matures, because it always does  In the meantime, people with health problems get to live their lives \", '@davidjthunder And Canada', '@LarrySchweikart @JesseKellyDC What percentage of the 81% regret it now? Most got Covid so feel conned  The 19% holdouts were among the biggest Trump supporters  Me and my handful of non-vaxxed friends are no longer Trump supporters  We appreciate what DeSantis did in Florida by forcing the nation back open ', 'Ocean View SD COVID Case Count as of  09 17 on 03-30-2023\\n\\nTotal Active Cases  5 (+1)\\n\\nSource  https //t co/O2MMwq4WID', \"Its been three years and I haven't got covid yet \\n\\nThe courts rolled back LGBTQ and abortion Rights  (the left blew it in 2016) yet lets blame dems for what the GOP had done \\n\\nI'm not gonna beg or kiss the asses of folks like you as I did in 2016 \\n\\nSo       https //t co/cq8OMs2YfX\", '@sheencr @britsocimm Very helpful, thank you  What I don’t understand is that flu is seasonal but kills and some can get the flu jab or pay for it  Covid 19 - all seasons, kills but only a few can get it and no one can pay for it  Where is the sense?? I would save for my family!!', '@BlackTomThePyr8 Okay, then how does Covid downregulate MHC-I?', '@davidicke So they could get $$$$ for each patient that they claim they died of Covid!', \"@KRMD3 @TheView No, no one ever did you couldn't get COVID again\\nThat is just more lies from the liars at Fox\\nWhy do people keep believing those people after they openly admit they lie for ratings?\", 'New Analysis Shows How the CDC Spread False Information That Exaggerated the Severity of Covid\\nhttps //t co/kGlAgSRXGq', 'Frontline Workers, Hospitals in UP Asked to Remain on ‘Alert Mode’ as Covid Cases\\xa0Rise https //t co/GsF9UBpVcn', '@AmaioAlfred @originalname4u I, for one, stood up over Covid and the jabs  Spent tons of time in FB jail and was permanently booted from this platform for my voice, that turned out to be 100% accurate ', \"@sankyFCB @brfootball MF Cristiano was winning ballon d'ors \\nRamos was injured most of the times during contract talks\\nAnd season before that in the season when madrid won laliga there were rumours of him getting contract extension but covid delayed it\", 'Capitalism Facebooking Game Theory  (The Capitalism has a Hitler mustache ) (with COVID-19) ', '@TheNBACentral Don’t forget COVID', \"@StormyDaniels I apologise Stormy it's my fault  I was on duty, got distracted and he escaped his cell  We are in the progress of subduing him and getting him back on his meds  My bad eyes  face with crossed-out eyes  face with spiral eyes  zany face  face with hand over mouth  face with tears of joy  \\n\\n[On a serious note, huge fan of yours, strong woman &amp; troll slayer  Keep fighting the good fight] https //t co/vMqz9KjdSz\", 'I think there’s a lot of valuable lessons to take away from the development of the kid line they are all obviously incredibly talented but development is difficult and circumstances like COVID and David Quinn certainly didn’t help we’re seeing the signs of development now', \"@StephenKing So Stevie, are you aware what happened to Australians after guns were confiscated there??? Nasty, brutal Covid lockdowns, house arrests, beatings for removing a mask in public, &amp; ISOLATION CAMPS for Covid! Thanks but I'll keep my personal protection &amp; you can stick your woke BS \", '@DaddyLiberty  @rweingarten No he didn’t  face with tears of joy ', 'The CDC can no longer say if you get the Covid shot you will not get covid they also cannot say that if you get the Covid booster that you won’t be able to transmit it to other people they can no longer say this ', 'Husband has Covid and has to quarantine at our house  Which means I get to stay with the kids at my parents’ house  https //t co/jZ3qtcL8Ko', '@JudiciaryGOP What a disgrace of a party \\n\\nStill trying to coverup enabling Trump to ignore and politicize COVID while Americans died ', 'Vaccinated People Make Up Majority of COVID-19 Deaths  CDC Data https //t co/a3E9lfsoeh', '@juliekjulieb @senatorduff Let’s see some proof that unvaccinated people spread Covid-19? Please show me ', '@3 under scores  @bread fixer Would love to isolate what if that might be excess mortality from COVID in places like outer borough immigrant neighborhoods ', '@NutsMcGee7 @AaronWo62591828 @NBCNews Let me put it more simply for you  Should we have let covid take its natural path and do absolutely nothing  about covid?', '@TheChiefNerd @DoctorJanette Stop  stop sign  the Covid shots &amp; boosters', 'Virginia  trident emblem  COVID-19 current stats for Thu Mar 30 2023\\n\\nCases  2,294,840\\nDeaths  23,678\\nRecovered  0\\nActive  18,484\\nTests  19,172,533\\nDoses  19,517,865\\n\\ncovid virginia\\nhttps //t co/yzN6W4cKRb https //t co/J4cLU0pTcg', '@WindowsByTheSea COVID was a man made bio weapon engineered in Wuhan and funded by 5 countries including the US ', '@ipauland @johnsweeneyroar @rustyrockets @P Kallioniemi Covid conspiracy theorists have been majority MAGA led by Trump himself &amp; here we see him literally with Trumps  Some people don’t believe their own eyes  Adios ', '@markusoff She asks the two questions she is legally entitled To ask   The criminal defendant was arrested for feeding the hungry and praying during Covid you are disgusting for the way you are portraying this event', \"Opening day? Like opening my mouth for your    \\n\\nOh     it's just baseball\", 'Young women face 3 5 times the risk of cardiac death after taking AstraZeneca COVID shot  data - LifeSite https //t co/7u3zjDMfkM', '@chriswarden420 @iamjondraper Two nights was a disastrous decisions  It was good for a one time Covid emergency  But now it’s killed the event ', '@SolNataMD I’m eating in the car in the parking lot ', 'In his email-newsletter, StevenKirsch asks \\n\"Why is US Senator DianeFeinstein hiding her medical history w r t  shingles?\\nSenator Feinstein\\'s office would not disclose her shingles and/or COVID vaccine status  Why  ? How does keeping it secret protect the public?\"\\nPolitics', 'Profits over People https //t co/CJiz7IiHHl', '@paulgulyas I’m pretty sure I read this quite a while back… when covid was still really bad  If so, it was phenomenal  (Cornering the market on masks  face with tears of joy  face with tears of joy ) ', 'BREAKING NEWS  EricSchmitt Gives Bombshell Testimony How Biden Administration  Colluded  With @Facebook and Other Social Media To Suppress Nonconformists Regarding Covid and Elections    https //t co/PwxuAQJJMS via @YouTube', 'The models for Covid were all completely wrong, so this is, too   Lies, lies, and more lies   I believe NOTHING the government says anymore ', '@peterdevietien @Lily4Liberty Covid showed us clearly who really wants authoritarianism ', '@made4tv @nickcamper @kfor Maybe he will resign or @GovStitt will fire him   ', 'COVID-19 ranked 3rd killer disease between 2020-2022 behind hear disease and cancer  NorthShore University HealthSystem data analysis dataanalytics dataanalysistraining\\nhttps //t co/g6mx5i3Tgj @DatapottAnalytics @DataCamp @Dhananjay @DataAnalyst  @DodgeData https //t co/L5pkgESKCz', '@kaiviti cam Tova is nothing but an egotistical bitch  I watched her \"interview\" with a person during the covid scamdemic  Wanted to puke ', 'Hi @AngelaRayner \\n\\n1 9M people in the U K  have long Covid \\n\\nThe number of children with long Covid is increasing \\n\\nThis isn’t acceptable  You should be challenging the Govt and demanding clean air for all schools \\n\\nYou should also ask them to reinstate the ONS infection survey', '@withorpe And shook hands with covid sufferers, showing off ', '@porcinophilia @ShaneyWright I’m not sure  I had RLS before covid and fibro  So hard to tell what this is  But it feels completely different lately  My arms started going numb for a few hours randomly every once in a few weeks or so before reinfection then got more frequent, but now it’s been constant', '@JennaEllisEsq I will never support Freemasons and Globalists that push the one world government agenda thru covid mandates and lockdowns, WEF Smart Cities, endless immigration, restrictions on free speech and gun rights   That is EXACTLY what that Frat Boy from Yale, DeSantis, is doing ', '3 organizations to get COVID-19 money\\nhttps //t co/CoCBtmlaqp', \"@NeilSandersMC @BrentLeeSDCIC Yeah, far fewer A&amp;E admissions, increase in dementia and Alzheimer's deaths, diabetes deaths, deaths from heart disease, excess deaths not attributable to Covid, additional cancer deaths, and a drop in cancer screening, was all utter shite and a fantasy \", '@revhowardarson @PippengerHarlo what successes has liberalism had these past 40 years? You expanded Medicaid? Covid emergency measures which are now gone  You held back Republicans? (and yet allowd Trump to be elected)  You have little to show which is why Bernie and AOC was/is popular ', '@Australia &amp; @newzealand citizens were subjugated to severe Covid restriction because their citizens have no firearms to defend themselves  They had internment caps, concentration camps and civil rights violations  Is that okay with you @JoyVBehar', '@rustysh15977107 @mericanTalents He didn’t start in any games   This was the Mickey Mouse COVID one as well right?', \"That really sums it up  I may be a coward but I don't want to take these risks  I do eat raw cookie dough and skydive, but these are both rather safe compared to the long list of things that can go wrong after having Covid\", '@VishalBhargava5 Luxury real estate market has got no chill  Arbour Project by DLF saw whooping 8k crs of sale in just 3 days of launch  \\nAfter covid we have seen a lot of these deals happening ', '@michaelmina lab @vvalkyri @SkyDirigible 1/ Serious Q   I honestly don’t understand why we would want to do this w/ Covid \\n\\nProbably our biggest PH gains have come from keeping harmful pathogens AWAY FROM people, eg, water/food/pest borne diseases, TB, VD, nosocomial, rabies, Ebola - isn’t this traditional PH approach?', \"Almost everything you thought you knew about 'long-hauler' COVID is being revised https //t co/wtgbWWBtFm via @GeneticLiteracy\", 'X-files ve covid 19?', '@SkySportsNews Really  did the covid-19 measures work in the first place    ', \"@Michael59503746 Gee whiz, you barely tweeted it and a sycophantic troll popped up right away to try to shame you  I am not voting for Covid-Hitler again  Never  I don't care who the oligarchy runs against him \", '@iheartmindy @elonmusk They got a nice taste of power during covid and now running hard with it ', '@SenateGOP @SenJohnBarrasso @RogerMarshallMD @SenBillCassidy @JohnBoozman @SenRandPaul You mean like calling everything Covid and prescribing drugs based on big pharma rep kickbacks?  Many of those drugs are dangerous and less effective than holistic medicine ', '@ChrisAlvino Same  My asthma was as good as gone for 15 years prior to covid  Now I use two inhalers each day ', 'Lets Go Mets!! my last time at citified was during covid  Lgm https //t co/GjhnpIi0x1', \"@liberty kevlar @TexasAmerica @Iraqveteran8888 Imagine if Obama did ban guns  Covid would have been a lot different  They would have tried to round up those who didn't get vaccinated and cart them off to who knows where \", 'ONS self-report Long Covid survey is out \\n\\nYes, despite multiple large waves, totals aren’t increasing—the opposite  \\n\\nHowever those whose lives are affected a lot and ill for years are NOT getting better—“affected a lot” is 0 6% of *entire* UK  That’s a large number  A crisis ', '@KevinKileyCA @DrJBhattacharya Covid insanity really? Tell that to the million plus American families that lost loved ones  If it had been up to you republican and your heard immunity, it would have been much much more  Guns, banning books, and lgbtq hate is what you republican stand for ', '@beerbarge @CalltoActivism Biden never did rallies because we were in the middle of Covid, he cares about his constituents  Trump cares about Trump! How many of his fans died from going to his rallies  I just got Covid for 1st time going to Concert  I’m vaxed so it wasn’t bad ', '@HowardSteen4 What remains odd is just how keenly most academics cling to the standard narrative, even academics who were multiply jabbed and who have also, nearly without exception, had multiple bouts of Covid   \\n\\nPerhaps the shots (and repeated illness) altered their acuity ', '@GaryHenault “Buy a gun it’s Covid proof ” What does that even mean?', '@juneslater17 Just covid fascist then', \"The Chinese government's quick response to Covid policy appears to be unleashing long-suppressed energy in the economy, as shown by the March Sales Managers Survey  economicpolicy COVIDresponse China  https //t co/xu7ObBE9uu\", 'Have decided post graduation to the bar exam I will not be shaving or getting a hair cut  Caveman Covid Johnny shall return', 'Tested positive for Covid again  face with rolling eyes  face with rolling eyes ', '@jwskss @dlqnt eth @stillgray I live in Indonesia and endured COVId lockdowns for two years  Guess what? Nothing bad happened to me  Stop listening to conspiracy theories', '@marwilliamson Marianne— you lost millions of us when you did not stand up against vaccine mandates  Anyone with higher discernment knew something was “off” with both the vaxx &amp; the whole COVID narrative  You became just another journeyman politician during all that  Bye bye ', \"i have anger issues  a little too much from how much an average human being has, more than every average aries out there\\nit used to be even worse before the covid era but now it's fine ig (it's not)\\ni'm not a saint who's meditating in peace tho\", 'The most outrageous breakout of statist excess in US history happened on Trump’s watch with his full complicity  In turn, Covid-lockdown assaults on normal economic function transformed a mediocre economic record into a complete disaster  @DA Stockman https //t co/6ntWkV9BGT', 'Arizona  cactus  COVID-19 current stats for Thu Mar 30 2023\\n\\nCases  2,454,320\\nDeaths  33,225\\nRecovered  0\\nActive  14,021\\nTests  22,288,887\\nDoses  14,563,731\\n\\ncovid arizona\\nhttps //t co/W4vqLoYVQ7 https //t co/MKMnL6kPEu', 'Thanks so much to the Be-Prepared consortium for this roundtable highlighting the need for cross national comparisons regarding psycho behavioral aspects of COVID-19 \\n@maartvansteen @VincentYzerbyt @olivier klein @Watjoa @pascalinevo @SofieMorbee @matschmitz @MarieBrisbois', '@StephenKing Do you know how many gun regulations are on the books? I doubt it  Democrats are all about my body my choice unless they’re talking covid vaccines ', '@ogilville1 @sammy44231 @richykirsh @arsibd @tomsirolimus @SariellaForever @JasonRCravens @TonyBaduy @JKelleyK @LummHandy @JonathanHannah @Pouldeau61 @WebGuyTV @MaureenStroud @TakethatCt @Monstercoyliar @of zeitgeist @Scary7Dr @doom37455413 @mcfunny @pawley robert @ConsequentialBr @SkepticalMutant @JimeeLiberty @Kathmarval @Jaytee116James @IdunsDaughter @kevinoler @ShawnHereth @provaxtexan @nuhope2022 @paramaniac9 @goz421 @JordanDoll7 @doritmi @jtmayes3 @ZeetubesII @WendyOrent @Frenchg11623069 @TheRoyalRant @ACMEAtomicAce @giannmi @saluce65 @reacharoundu @dense evi @Sasquatch4eva @RickeyH64219156 @GiveABJGoToJail The facts that Covid vaccines save lives and have caused very little in the way of harm ', '@scattrgun @kinsellawarren Low voter turnout &amp; his boss’ ability to terrify &amp; divide its citizens during covid ', \"COVID-19 - LONG COVID KIDS - 5TH MARCH figures from ONS \\n\\nLet's keep it simple    \\n\\n62,000 children now living with Long Covid\\n\\n53,000 children living with Long Covid for at least a year\\n\\nKIDS ( (where's the workforce HUNT?) staying home to care for their KIDS)\\n\\nLongCovidKids\"]\n"
          ]
        }
      ],
      "source": [
        "# pre-processing\n",
        "tweet_list = text_preprocessing(tweet_list)\n",
        "print(tweet_list)\n",
        "\n",
        "# # loading tokenizer\n",
        "# with open('tokenizer.pickle', 'rb') as handle:\n",
        "#     tokenizer = pickle.load(handle)\n",
        "\n",
        "# test_input = transform_tweets(tweet_list, tokenizer, max_length=35)\n",
        "\n",
        "# # Checking tokenization\n",
        "# print([index_word[index] for index in test_input[0] if index != 0])"
      ]
    },
    {
      "cell_type": "markdown",
      "metadata": {
        "id": "4E87hqwJ26Ww"
      },
      "source": [
        "### Loading the model and making predictions"
      ]
    },
    {
      "cell_type": "code",
      "execution_count": null,
      "metadata": {
        "id": "Z9mrmi7n9Oy3"
      },
      "outputs": [],
      "source": [
        "# Utility functions\n",
        "class TSAClassifier:\n",
        "    def __init__(self, model_path, tokenizer_path, max_length=35, print_summary=False):\n",
        "        self.model = tf.keras.models.load_model(model_path)\n",
        "        with open(tokenizer_path, 'rb') as handle:\n",
        "            self.tokenizer = pickle.load(handle)\n",
        "        if print_summary == True:\n",
        "            model.summary()\n",
        "        self.max_length = max_length\n",
        "    \n",
        "    def predict(self, input_sentences, round_results=False):\n",
        "        input_sentences = [re.sub(r'[_:.]', r' ', emoji.demojize(re.sub(r'#(\\w+)\\b', r'\\1', sentence))) for sentence in input_sentences]\n",
        "        sequences = self.tokenizer.texts_to_sequences(input_sentences)\n",
        "        padded_sequences = pad_sequences(sequences, maxlen=self.max_length)\n",
        "        if round_results:\n",
        "                return np.round(self.model.predict(padded_sequences)).tolist()\n",
        "        return self.model.predict(padded_sequences).tolist()"
      ]
    },
    {
      "cell_type": "code",
      "execution_count": null,
      "metadata": {
        "colab": {
          "background_save": true
        },
        "id": "o-NJVpMsyyyq"
      },
      "outputs": [],
      "source": [
        "# Load the saved model\n",
        "model_path = 'content/saved_model/sentiment_model'\n",
        "tokenizer_path = 'content/saved_model/sentiment_tokenizer.pickle'\n",
        "\n",
        "sentiment_model = TSAClassifier(model_path, tokenizer_path, max_length=35)"
      ]
    },
    {
      "cell_type": "code",
      "execution_count": null,
      "metadata": {
        "colab": {
          "base_uri": "https://localhost:8080/"
        },
        "id": "08n3I51ts2JN",
        "outputId": "b365ec79-f796-419c-a8d9-1c73e11c9d16"
      },
      "outputs": [
        {
          "name": "stdout",
          "output_type": "stream",
          "text": [
            "4/4 [==============================] - 5s 15ms/step\n",
            "[[0.]\n",
            " [0.]\n",
            " [0.]\n",
            " [0.]\n",
            " [0.]]\n"
          ]
        }
      ],
      "source": [
        "sentiment_preds = sentiment_model.predict(tweet_list)\n",
        "sentiment_preds = np.round(sentiment_preds)\n",
        "print(sentiment_preds[:5])"
      ]
    },
    {
      "cell_type": "code",
      "execution_count": null,
      "metadata": {
        "id": "lozatTf8BvmH"
      },
      "outputs": [],
      "source": [
        "# If more than two classes we take argmax\n",
        "# predictions = np.argmax(predictions, axis=1)\n",
        "# print(test_predictions)"
      ]
    },
    {
      "cell_type": "code",
      "execution_count": null,
      "metadata": {
        "colab": {
          "base_uri": "https://localhost:8080/"
        },
        "id": "WZWASxR6C5hO",
        "outputId": "d24dfb61-7f4e-427f-9aae-8d21e09253c1"
      },
      "outputs": [
        {
          "name": "stdout",
          "output_type": "stream",
          "text": [
            "9.0\n",
            "91.0\n"
          ]
        }
      ],
      "source": [
        "postive_count = np.sum(sentiment_preds)\n",
        "negative_count = np.sum(1 - sentiment_preds)\n",
        "\n",
        "print(postive_count)\n",
        "print(negative_count)"
      ]
    },
    {
      "cell_type": "code",
      "execution_count": null,
      "metadata": {
        "id": "8vXXw4jEDcoC"
      },
      "outputs": [],
      "source": [
        "# Load the saved model\n",
        "model_path = 'content/saved_model/sarcasm_model'\n",
        "tokenizer_path = 'content/saved_model/sarcasm_tokenizer.pickle'\n",
        "\n",
        "sarcasm_model = TSAClassifier(model_path, tokenizer_path, max_length=35)"
      ]
    },
    {
      "cell_type": "code",
      "execution_count": null,
      "metadata": {
        "colab": {
          "base_uri": "https://localhost:8080/"
        },
        "id": "dkSpCHNXUZqL",
        "outputId": "418f7966-7098-401f-db40-672bc25aad30"
      },
      "outputs": [
        {
          "name": "stdout",
          "output_type": "stream",
          "text": [
            "4/4 [==============================] - 1s 4ms/step\n",
            "[[1.]\n",
            " [1.]\n",
            " [1.]\n",
            " [1.]\n",
            " [1.]]\n"
          ]
        }
      ],
      "source": [
        "sarcasm_preds = sarcasm_model.predict(tweet_list)\n",
        "sarcasm_preds = np.round(sarcasm_preds)\n",
        "print(sarcasm_preds[:5])"
      ]
    },
    {
      "cell_type": "code",
      "execution_count": null,
      "metadata": {
        "colab": {
          "base_uri": "https://localhost:8080/"
        },
        "id": "1AiEZn4Yt8to",
        "outputId": "e1363da9-fc2b-4592-c1f6-c97c15d8c12d"
      },
      "outputs": [
        {
          "name": "stdout",
          "output_type": "stream",
          "text": [
            "44.0\n",
            "56.0\n"
          ]
        }
      ],
      "source": [
        "postive_count = np.sum(sarcasm_preds)\n",
        "negative_count = np.sum(1 - sarcasm_preds)\n",
        "\n",
        "print(postive_count)\n",
        "print(negative_count)"
      ]
    },
    {
      "cell_type": "code",
      "execution_count": null,
      "metadata": {
        "colab": {
          "base_uri": "https://localhost:8080/"
        },
        "id": "YrS921TatzIL",
        "outputId": "962f6d76-187f-4fbe-fec0-51125574df32"
      },
      "outputs": [
        {
          "name": "stdout",
          "output_type": "stream",
          "text": [
            "47\n",
            "53\n"
          ]
        }
      ],
      "source": [
        "## combined predictions:\n",
        "combined_preds = np.array([int(i)^int(j) for i, j in zip(sentiment_preds, sarcasm_preds)])\n",
        "\n",
        "postive_count = np.sum(combined_preds)\n",
        "negative_count = np.sum(1 - combined_preds)\n",
        "\n",
        "print(postive_count)\n",
        "print(negative_count)"
      ]
    },
    {
      "cell_type": "markdown",
      "metadata": {
        "id": "zEsQFQVR7fTk"
      },
      "source": [
        "## Sentiment140 dataset"
      ]
    },
    {
      "cell_type": "code",
      "execution_count": null,
      "metadata": {
        "colab": {
          "base_uri": "https://localhost:8080/"
        },
        "id": "kQBcpuy8drcY",
        "outputId": "d0c0337f-0735-406c-b1a9-aaa2fa1eba4c"
      },
      "outputs": [
        {
          "name": "stdout",
          "output_type": "stream",
          "text": [
            "--2023-03-11 12:35:59--  http://cs.stanford.edu/people/alecmgo/trainingandtestdata.zip\n",
            "Resolving cs.stanford.edu (cs.stanford.edu)... 171.64.64.64\n",
            "Connecting to cs.stanford.edu (cs.stanford.edu)|171.64.64.64|:80... connected.\n",
            "HTTP request sent, awaiting response... 301 Moved Permanently\n",
            "Location: https://cs.stanford.edu/people/alecmgo/trainingandtestdata.zip [following]\n",
            "--2023-03-11 12:35:59--  https://cs.stanford.edu/people/alecmgo/trainingandtestdata.zip\n",
            "Connecting to cs.stanford.edu (cs.stanford.edu)|171.64.64.64|:443... connected.\n",
            "HTTP request sent, awaiting response... 200 OK\n",
            "Length: 81363704 (78M) [application/zip]\n",
            "Saving to: ‘trainingandtestdata.zip’\n",
            "\n",
            "trainingandtestdata 100%[===================>]  77.59M  16.8MB/s    in 5.8s    \n",
            "\n",
            "2023-03-11 12:36:05 (13.3 MB/s) - ‘trainingandtestdata.zip’ saved [81363704/81363704]\n",
            "\n"
          ]
        }
      ],
      "source": [
        "## 3\n",
        "!wget http://cs.stanford.edu/people/alecmgo/trainingandtestdata.zip"
      ]
    },
    {
      "cell_type": "code",
      "execution_count": null,
      "metadata": {
        "id": "aZQAINex5VKC"
      },
      "outputs": [],
      "source": [
        "!unzip -q trainingandtestdata.zip"
      ]
    },
    {
      "cell_type": "code",
      "execution_count": null,
      "metadata": {
        "colab": {
          "base_uri": "https://localhost:8080/"
        },
        "id": "kddPB0Rq5w5x",
        "outputId": "b262996f-61d5-4947-f1c0-ead6c84a12e0"
      },
      "outputs": [
        {
          "name": "stdout",
          "output_type": "stream",
          "text": [
            "['0', '1467810369', 'Mon Apr 06 22:19:45 PDT 2009', 'NO_QUERY', '_TheSpecialOne_', \"@switchfoot http://twitpic.com/2y1zl - Awww, that's a bummer.  You shoulda got David Carr of Third Day to do it. ;D\"]\n"
          ]
        }
      ],
      "source": [
        "## Exploratory: \n",
        "import csv\n",
        "filepath = '/content/training.1600000.processed.noemoticon.csv'\n",
        "## sentiment140: 0-negative, 2-neutral, 4-positive\n",
        "with open(filepath, 'r') as f:\n",
        "    reader = csv.reader(f)\n",
        "    for row in reader:\n",
        "        print(row)\n",
        "        break"
      ]
    },
    {
      "cell_type": "code",
      "execution_count": null,
      "metadata": {
        "id": "BxFELAek6WTS"
      },
      "outputs": [],
      "source": [
        "import pandas as pd\n",
        "import numpy as np\n",
        "import csv\n",
        "\n",
        "from sklearn.utils import shuffle\n",
        "\n",
        "def pre_processing(filepath, split_size=0.9, random_state=0):\n",
        "    \"\"\"Returns the training and validation data lists from the input csv path to twitter data\"\"\"\n",
        "    ## Important variables:\n",
        "    label_col = 0\n",
        "    text_col = 5\n",
        "    sentences = []\n",
        "    labels = [] \n",
        "    with open(filepath) as f:\n",
        "        reader = csv.reader(f)\n",
        "        next(reader)\n",
        "        count = 0\n",
        "        for row in reader:\n",
        "            # print(2, end='')\n",
        "            if len(row[text_col]) > 0: # Min number of characters\n",
        "                sentences.append(row[text_col])\n",
        "                # negative:0, neutral:2, positive:4\n",
        "                labels.append(0 if row[label_col]=='4' else 1 if row[label_col]=='2' else 2) \n",
        "            if count == 100000*2:\n",
        "                break\n",
        "            count += 1\n",
        "    \n",
        "    train_size = int(len(sentences) * split_size)\n",
        "\n",
        "    \n",
        "    # shuffling the data\n",
        "    sentences, labels = shuffle(sentences, labels, random_state=random_state)\n",
        "\n",
        "    # splitting the data\n",
        "    train_sentences = sentences[:train_size]\n",
        "    train_labels = labels[:train_size]\n",
        "\n",
        "    validation_sentences = sentences[train_size:]\n",
        "    validation_labels = labels[train_size:]\n",
        "\n",
        "    assert len(np.unique(train_labels)) == len(np.unique(validation_labels)), \"Training or Validation sets have missing labels. Try a different random_state.\"\n",
        "    \n",
        "    return train_sentences, train_labels, validation_sentences, validation_labels\n"
      ]
    },
    {
      "cell_type": "code",
      "execution_count": null,
      "metadata": {
        "id": "BiRBs9Zar_k4"
      },
      "outputs": [],
      "source": [
        "import tensorflow as tf \n",
        "from tensorflow.keras.preprocessing.text import Tokenizer\n",
        "from tensorflow.keras.preprocessing.sequence import pad_sequences "
      ]
    },
    {
      "cell_type": "code",
      "execution_count": null,
      "metadata": {
        "colab": {
          "base_uri": "https://localhost:8080/"
        },
        "id": "vUya8lZy9hG6",
        "outputId": "5167e417-ca45-4f83-e198-05e5cb0fb2cd"
      },
      "outputs": [
        {
          "name": "stdout",
          "output_type": "stream",
          "text": [
            "Corpus size: 127526\n"
          ]
        }
      ],
      "source": [
        "filepath = '/content/training.1600000.processed.noemoticon.csv'\n",
        "train_sentences, train_labels, validation_sentences, validation_labels = pre_processing(filepath, split_size=0.9, random_state=0)\n",
        "\n",
        "\n",
        "vocab_size = 10000\n",
        "max_length = 35\n",
        "oov_token = '<OOV>'\n",
        "trunc_type = 'post'\n",
        "padding_type = 'post'\n",
        "\n",
        "\n",
        "tokenizer = Tokenizer(num_words=vocab_size, oov_token=oov_token)\n",
        "tokenizer.fit_on_texts(train_sentences)\n",
        "\n",
        "word_index = tokenizer.word_index\n",
        "index_word = tokenizer.index_word\n",
        "print('Corpus size:', len(word_index))\n",
        "\n",
        "train_sequences = tokenizer.texts_to_sequences(train_sentences)\n",
        "padded_train_sequences = pad_sequences(train_sequences, maxlen=max_length, padding=padding_type, truncating=trunc_type)\n",
        "train_labels = tf.keras.utils.to_categorical(np.array(train_labels), num_classes=3, dtype='float32')\n",
        "\n",
        "validation_sequences = tokenizer.texts_to_sequences(validation_sentences)\n",
        "padded_validation_sequences = pad_sequences(validation_sequences, maxlen=max_length, padding=padding_type, truncating=trunc_type)\n",
        "validation_labels = tf.keras.utils.to_categorical(np.array(validation_labels), num_classes=3, dtype='float32')\n"
      ]
    },
    {
      "cell_type": "code",
      "execution_count": null,
      "metadata": {
        "id": "J82Y_gSvrenk"
      },
      "outputs": [],
      "source": [
        "vocab_size = 10000\n",
        "embedding_dim = 50\n",
        "num_tokens = vocab_size + 1\n",
        "\n",
        "embedding_matrix = np.zeros((num_tokens, embedding_dim))\n",
        "hits, misses = 0, 0\n",
        "for index in range(2, num_tokens):\n",
        "    word = index_word[index]\n",
        "    embedding_vector = embeddings_index.get(word)\n",
        "    if embedding_vector is not None:\n",
        "        hits += 1\n",
        "        embedding_matrix[index] = embedding_vector\n",
        "    else:\n",
        "        misses += 1\n",
        "print(f'{hits} hits and {misses} misses')"
      ]
    },
    {
      "cell_type": "code",
      "execution_count": null,
      "metadata": {
        "id": "0MmA8OALxQf_"
      },
      "outputs": [],
      "source": [
        "class myCallback(tf.keras.callbacks.Callback):\n",
        "        # Define the correct function signature for on_epoch_end\n",
        "        def on_epoch_end(self, epoch, logs={}):\n",
        "            if logs.get('accuracy') is not None and logs.get('accuracy') > 0.99:\n",
        "                print(\"\\nReached 99% accuracy so cancelling training!\") \n",
        "                \n",
        "                # Stop training once the above condition is met\n",
        "                self.model.stop_training = True"
      ]
    },
    {
      "cell_type": "code",
      "execution_count": null,
      "metadata": {
        "colab": {
          "base_uri": "https://localhost:8080/"
        },
        "id": "b0tFRBfJuovB",
        "outputId": "d835d24e-f09a-41cc-b546-3847a4147439"
      },
      "outputs": [
        {
          "name": "stdout",
          "output_type": "stream",
          "text": [
            "Model: \"sequential_1\"\n",
            "_________________________________________________________________\n",
            " Layer (type)                Output Shape              Param #   \n",
            "=================================================================\n",
            " embedding_1 (Embedding)     (None, 35, 50)            500050    \n",
            "                                                                 \n",
            " bidirectional_1 (Bidirectio  (None, 64)               21248     \n",
            " nal)                                                            \n",
            "                                                                 \n",
            " dropout_2 (Dropout)         (None, 64)                0         \n",
            "                                                                 \n",
            " dense_2 (Dense)             (None, 24)                1560      \n",
            "                                                                 \n",
            " dropout_3 (Dropout)         (None, 24)                0         \n",
            "                                                                 \n",
            " dense_3 (Dense)             (None, 3)                 75        \n",
            "                                                                 \n",
            "=================================================================\n",
            "Total params: 522,933\n",
            "Trainable params: 22,883\n",
            "Non-trainable params: 500,050\n",
            "_________________________________________________________________\n",
            "Epoch 1/15\n",
            "5625/5625 [==============================] - ETA: 0s - loss: 0.0095 - accuracy: 0.9970\n",
            "Reached 99% accuracy so cancelling training!\n",
            "5625/5625 [==============================] - 51s 8ms/step - loss: 0.0095 - accuracy: 0.9970 - val_loss: 0.0000e+00 - val_accuracy: 1.0000\n"
          ]
        }
      ],
      "source": [
        "# Parameters\n",
        "lstm_dim = 32\n",
        "dense_dim = 24\n",
        "dropout_rate = 0.6\n",
        "\n",
        "callbacks = myCallback()\n",
        "\n",
        "# Model Definition with LSTM\n",
        "model_lstm = tf.keras.Sequential([\n",
        "    tf.keras.layers.Embedding(num_tokens, embedding_dim, input_length=max_length, \n",
        "                              embeddings_initializer=tf.keras.initializers.Constant(embedding_matrix),\n",
        "                              trainable=False),\n",
        "    # tf.keras.layers.Bidirectional(tf.keras.layers.LSTM(lstm_dim, return_sequences=True)),\n",
        "    # tf.keras.layers.Dropout(dropout_rate),\n",
        "    tf.keras.layers.Bidirectional(tf.keras.layers.LSTM(lstm_dim)),\n",
        "    tf.keras.layers.Dropout(dropout_rate),\n",
        "    tf.keras.layers.Dense(dense_dim, activation='relu'),\n",
        "    tf.keras.layers.Dropout(dropout_rate),\n",
        "    tf.keras.layers.Dense(3, activation='softmax')\n",
        "])\n",
        "\n",
        "# Set the training parameters\n",
        "model_lstm.compile(loss='categorical_crossentropy',optimizer='adam',metrics=['accuracy'])\n",
        "\n",
        "# Print the model summary\n",
        "model_lstm.summary()\n",
        "\n",
        "NUM_EPOCHS = 15\n",
        "\n",
        "# Train the model\n",
        "history_lstm = model_lstm.fit(padded_train_sequences, train_labels, \n",
        "                              epochs=NUM_EPOCHS, \n",
        "                              validation_data=(padded_validation_sequences, validation_labels),\n",
        "                              callbacks=[callbacks])\n"
      ]
    },
    {
      "cell_type": "code",
      "execution_count": null,
      "metadata": {
        "colab": {
          "base_uri": "https://localhost:8080/",
          "height": 107
        },
        "id": "VR1LlH0ax--O",
        "outputId": "7040f7d5-c984-4e8a-a5b3-18cb9a42261c"
      },
      "outputs": [
        {
          "data": {
            "text/html": [
              "\n",
              "     <input type=\"file\" id=\"files-944f3e3f-bb69-4854-93ed-d33c8230bc3f\" name=\"files[]\" multiple disabled\n",
              "        style=\"border:none\" />\n",
              "     <output id=\"result-944f3e3f-bb69-4854-93ed-d33c8230bc3f\">\n",
              "      Upload widget is only available when the cell has been executed in the\n",
              "      current browser session. Please rerun this cell to enable.\n",
              "      </output>\n",
              "      <script>// Copyright 2017 Google LLC\n",
              "//\n",
              "// Licensed under the Apache License, Version 2.0 (the \"License\");\n",
              "// you may not use this file except in compliance with the License.\n",
              "// You may obtain a copy of the License at\n",
              "//\n",
              "//      http://www.apache.org/licenses/LICENSE-2.0\n",
              "//\n",
              "// Unless required by applicable law or agreed to in writing, software\n",
              "// distributed under the License is distributed on an \"AS IS\" BASIS,\n",
              "// WITHOUT WARRANTIES OR CONDITIONS OF ANY KIND, either express or implied.\n",
              "// See the License for the specific language governing permissions and\n",
              "// limitations under the License.\n",
              "\n",
              "/**\n",
              " * @fileoverview Helpers for google.colab Python module.\n",
              " */\n",
              "(function(scope) {\n",
              "function span(text, styleAttributes = {}) {\n",
              "  const element = document.createElement('span');\n",
              "  element.textContent = text;\n",
              "  for (const key of Object.keys(styleAttributes)) {\n",
              "    element.style[key] = styleAttributes[key];\n",
              "  }\n",
              "  return element;\n",
              "}\n",
              "\n",
              "// Max number of bytes which will be uploaded at a time.\n",
              "const MAX_PAYLOAD_SIZE = 100 * 1024;\n",
              "\n",
              "function _uploadFiles(inputId, outputId) {\n",
              "  const steps = uploadFilesStep(inputId, outputId);\n",
              "  const outputElement = document.getElementById(outputId);\n",
              "  // Cache steps on the outputElement to make it available for the next call\n",
              "  // to uploadFilesContinue from Python.\n",
              "  outputElement.steps = steps;\n",
              "\n",
              "  return _uploadFilesContinue(outputId);\n",
              "}\n",
              "\n",
              "// This is roughly an async generator (not supported in the browser yet),\n",
              "// where there are multiple asynchronous steps and the Python side is going\n",
              "// to poll for completion of each step.\n",
              "// This uses a Promise to block the python side on completion of each step,\n",
              "// then passes the result of the previous step as the input to the next step.\n",
              "function _uploadFilesContinue(outputId) {\n",
              "  const outputElement = document.getElementById(outputId);\n",
              "  const steps = outputElement.steps;\n",
              "\n",
              "  const next = steps.next(outputElement.lastPromiseValue);\n",
              "  return Promise.resolve(next.value.promise).then((value) => {\n",
              "    // Cache the last promise value to make it available to the next\n",
              "    // step of the generator.\n",
              "    outputElement.lastPromiseValue = value;\n",
              "    return next.value.response;\n",
              "  });\n",
              "}\n",
              "\n",
              "/**\n",
              " * Generator function which is called between each async step of the upload\n",
              " * process.\n",
              " * @param {string} inputId Element ID of the input file picker element.\n",
              " * @param {string} outputId Element ID of the output display.\n",
              " * @return {!Iterable<!Object>} Iterable of next steps.\n",
              " */\n",
              "function* uploadFilesStep(inputId, outputId) {\n",
              "  const inputElement = document.getElementById(inputId);\n",
              "  inputElement.disabled = false;\n",
              "\n",
              "  const outputElement = document.getElementById(outputId);\n",
              "  outputElement.innerHTML = '';\n",
              "\n",
              "  const pickedPromise = new Promise((resolve) => {\n",
              "    inputElement.addEventListener('change', (e) => {\n",
              "      resolve(e.target.files);\n",
              "    });\n",
              "  });\n",
              "\n",
              "  const cancel = document.createElement('button');\n",
              "  inputElement.parentElement.appendChild(cancel);\n",
              "  cancel.textContent = 'Cancel upload';\n",
              "  const cancelPromise = new Promise((resolve) => {\n",
              "    cancel.onclick = () => {\n",
              "      resolve(null);\n",
              "    };\n",
              "  });\n",
              "\n",
              "  // Wait for the user to pick the files.\n",
              "  const files = yield {\n",
              "    promise: Promise.race([pickedPromise, cancelPromise]),\n",
              "    response: {\n",
              "      action: 'starting',\n",
              "    }\n",
              "  };\n",
              "\n",
              "  cancel.remove();\n",
              "\n",
              "  // Disable the input element since further picks are not allowed.\n",
              "  inputElement.disabled = true;\n",
              "\n",
              "  if (!files) {\n",
              "    return {\n",
              "      response: {\n",
              "        action: 'complete',\n",
              "      }\n",
              "    };\n",
              "  }\n",
              "\n",
              "  for (const file of files) {\n",
              "    const li = document.createElement('li');\n",
              "    li.append(span(file.name, {fontWeight: 'bold'}));\n",
              "    li.append(span(\n",
              "        `(${file.type || 'n/a'}) - ${file.size} bytes, ` +\n",
              "        `last modified: ${\n",
              "            file.lastModifiedDate ? file.lastModifiedDate.toLocaleDateString() :\n",
              "                                    'n/a'} - `));\n",
              "    const percent = span('0% done');\n",
              "    li.appendChild(percent);\n",
              "\n",
              "    outputElement.appendChild(li);\n",
              "\n",
              "    const fileDataPromise = new Promise((resolve) => {\n",
              "      const reader = new FileReader();\n",
              "      reader.onload = (e) => {\n",
              "        resolve(e.target.result);\n",
              "      };\n",
              "      reader.readAsArrayBuffer(file);\n",
              "    });\n",
              "    // Wait for the data to be ready.\n",
              "    let fileData = yield {\n",
              "      promise: fileDataPromise,\n",
              "      response: {\n",
              "        action: 'continue',\n",
              "      }\n",
              "    };\n",
              "\n",
              "    // Use a chunked sending to avoid message size limits. See b/62115660.\n",
              "    let position = 0;\n",
              "    do {\n",
              "      const length = Math.min(fileData.byteLength - position, MAX_PAYLOAD_SIZE);\n",
              "      const chunk = new Uint8Array(fileData, position, length);\n",
              "      position += length;\n",
              "\n",
              "      const base64 = btoa(String.fromCharCode.apply(null, chunk));\n",
              "      yield {\n",
              "        response: {\n",
              "          action: 'append',\n",
              "          file: file.name,\n",
              "          data: base64,\n",
              "        },\n",
              "      };\n",
              "\n",
              "      let percentDone = fileData.byteLength === 0 ?\n",
              "          100 :\n",
              "          Math.round((position / fileData.byteLength) * 100);\n",
              "      percent.textContent = `${percentDone}% done`;\n",
              "\n",
              "    } while (position < fileData.byteLength);\n",
              "  }\n",
              "\n",
              "  // All done.\n",
              "  yield {\n",
              "    response: {\n",
              "      action: 'complete',\n",
              "    }\n",
              "  };\n",
              "}\n",
              "\n",
              "scope.google = scope.google || {};\n",
              "scope.google.colab = scope.google.colab || {};\n",
              "scope.google.colab._files = {\n",
              "  _uploadFiles,\n",
              "  _uploadFilesContinue,\n",
              "};\n",
              "})(self);\n",
              "</script> "
            ],
            "text/plain": [
              "<IPython.core.display.HTML object>"
            ]
          },
          "metadata": {},
          "output_type": "display_data"
        },
        {
          "name": "stdout",
          "output_type": "stream",
          "text": [
            "Saving test.csv to test.csv\n",
            "Saving train.csv to train.csv\n"
          ]
        }
      ],
      "source": [
        "from google.colab import files\n",
        "file = files.upload()"
      ]
    },
    {
      "cell_type": "code",
      "execution_count": null,
      "metadata": {
        "id": "h6Vb4hsgvFg9"
      },
      "outputs": [],
      "source": [
        "## Evaluation:\n",
        "import pandas as pd\n",
        "import numpy as np\n",
        "import csv\n",
        "\n",
        "from sklearn.utils import shuffle\n",
        "\n",
        "\n",
        "filepath = 'train.csv'\n",
        "def pre_processing_test(filepath, random_state=0, selected_text=False):\n",
        "    \"\"\"Returns the training and validation data lists from the input csv path to twitter data\"\"\"\n",
        "    sentences = []\n",
        "    # selected_sentences = []\n",
        "    labels = [] \n",
        "    with open(filepath) as f:\n",
        "        reader = csv.reader(f)\n",
        "        next(reader)\n",
        "        for row in reader:\n",
        "            if len(row[2]) > 0: # Min number of characters\n",
        "                if selected_text == False:\n",
        "                    sentences.append(row[1])\n",
        "                else:\n",
        "                    sentences.append(row[2])\n",
        "                # positive:0, neutral:1, negative:2\n",
        "                labels.append(0 if row[3]=='positive' else 1 if row[3]=='neutral' else 2) \n",
        "    \n",
        "    # train_size = int(len(sentences) * split_size)\n",
        "\n",
        "    \n",
        "    # shuffling the data\n",
        "    sentences, labels = shuffle(sentences, labels, random_state=random_state)\n",
        "    \n",
        "    return sentences, labels\n",
        "\n",
        "test_sentences, test_labels = pre_processing_test(filepath, random_state=0, selected_text=False)\n",
        "\n",
        "test_sequences = tokenizer.texts_to_sequences(test_sentences)\n",
        "padded_test_sequences = pad_sequences(test_sequences, maxlen=max_length, padding=padding_type, truncating=trunc_type)\n",
        "test_labels = tf.keras.utils.to_categorical(np.array(test_labels), num_classes=3, dtype='float32')\n"
      ]
    },
    {
      "cell_type": "code",
      "execution_count": null,
      "metadata": {
        "colab": {
          "base_uri": "https://localhost:8080/"
        },
        "id": "L1q3yWWbwno1",
        "outputId": "52c1771f-8efd-4a98-b3bf-4030b5c8682c"
      },
      "outputs": [
        {
          "name": "stdout",
          "output_type": "stream",
          "text": [
            "859/859 [==============================] - 5s 5ms/step - loss: 38.1720 - accuracy: 0.2832\n"
          ]
        },
        {
          "data": {
            "text/plain": [
              "[38.172019958496094, 0.28315138816833496]"
            ]
          },
          "execution_count": 39,
          "metadata": {},
          "output_type": "execute_result"
        }
      ],
      "source": [
        "model_lstm.evaluate(padded_test_sequences, test_labels)"
      ]
    },
    {
      "cell_type": "markdown",
      "metadata": {
        "id": "RzxqOc42FGE5"
      },
      "source": [
        "## 4. Sandars data"
      ]
    },
    {
      "cell_type": "code",
      "execution_count": null,
      "metadata": {
        "colab": {
          "base_uri": "https://localhost:8080/"
        },
        "id": "T9phvqfx93rw",
        "outputId": "e120eebb-7c73-46ab-f885-c6657db69971"
      },
      "outputs": [
        {
          "name": "stdout",
          "output_type": "stream",
          "text": [
            "--2023-03-11 09:51:21--  https://github.com/zfz/twitter_corpus/blob/09afbfb5b580c848062aadbc4491fecc96b0a85a/full-corpus.csv\n",
            "Resolving github.com (github.com)... 140.82.121.3\n",
            "Connecting to github.com (github.com)|140.82.121.3|:443... connected.\n",
            "HTTP request sent, awaiting response... 200 OK\n",
            "Length: unspecified [text/html]\n",
            "Saving to: ‘full-corpus.csv’\n",
            "\n",
            "full-corpus.csv         [ <=>                ]   2.44M  --.-KB/s    in 0.05s   \n",
            "\n",
            "2023-03-11 09:51:22 (46.2 MB/s) - ‘full-corpus.csv’ saved [2559780]\n",
            "\n"
          ]
        }
      ],
      "source": [
        "# 4 \n",
        "!wget https://github.com/zfz/twitter_corpus/blob/09afbfb5b580c848062aadbc4491fecc96b0a85a/full-corpus.csv"
      ]
    },
    {
      "cell_type": "code",
      "execution_count": null,
      "metadata": {
        "colab": {
          "base_uri": "https://localhost:8080/"
        },
        "id": "bb50qRJ5GIy2",
        "outputId": "bf069d81-b0c1-4e56-be30-f8af1040c39f"
      },
      "outputs": [
        {
          "name": "stdout",
          "output_type": "stream",
          "text": [
            "Cloning into 'twitter_corpus'...\n",
            "remote: Enumerating objects: 8, done.\u001b[K\n",
            "remote: Total 8 (delta 0), reused 0 (delta 0), pack-reused 8\u001b[K\n",
            "Unpacking objects: 100% (8/8), 1.04 MiB | 4.31 MiB/s, done.\n"
          ]
        }
      ],
      "source": [
        "!git clone https://github.com/zfz/twitter_corpus.git"
      ]
    },
    {
      "cell_type": "code",
      "execution_count": null,
      "metadata": {
        "colab": {
          "base_uri": "https://localhost:8080/"
        },
        "id": "O6gZQmlSFPle",
        "outputId": "6ea7d413-19ec-4a60-cb68-dc5d3c95a08a"
      },
      "outputs": [
        {
          "name": "stdout",
          "output_type": "stream",
          "text": [
            "['Topic', 'Sentiment', 'TweetId', 'TweetDate', 'TweetText']\n",
            "['apple', 'positive', '126415614616154112', 'Tue Oct 18 21:53:25 +0000 2011', 'Now all @Apple has to do is get swype on the iphone and it will be crack. Iphone that is']\n"
          ]
        }
      ],
      "source": [
        "## Exploratory: \n",
        "import csv\n",
        "filepath = '/content/twitter_corpus/full-corpus.csv'\n",
        "## sentiment140: 0-negative, 2-neutral, 4-positive\n",
        "with open(filepath, 'r') as f:\n",
        "    reader = csv.reader(f)\n",
        "    count = 0\n",
        "    for row in reader:\n",
        "        print(row)\n",
        "        count += 1\n",
        "        if count == 2:\n",
        "            break"
      ]
    },
    {
      "cell_type": "code",
      "execution_count": null,
      "metadata": {
        "id": "XsKZasImFZj3"
      },
      "outputs": [],
      "source": [
        "import pandas as pd\n",
        "import numpy as np\n",
        "import csv\n",
        "\n",
        "from sklearn.utils import shuffle\n",
        "\n",
        "def pre_processing(filepath, split_size=0.9, random_state=0):\n",
        "    \"\"\"Returns the training and validation data lists from the input csv path to twitter data\"\"\"\n",
        "    ## Important variables:\n",
        "    label_col = 1\n",
        "    text_col = 4\n",
        "    sentences = []\n",
        "    labels = [] \n",
        "    with open(filepath) as f:\n",
        "        reader = csv.reader(f)\n",
        "        next(reader)\n",
        "        for row in reader:\n",
        "            if len(row[text_col]) > 0: # Min number of characters\n",
        "                sentences.append(row[text_col])\n",
        "                labels.append(0 if row[label_col]=='positive' else 1 if row[label_col]=='neutral' else 2) \n",
        "    \n",
        "    train_size = int(len(sentences) * split_size)\n",
        "\n",
        "    \n",
        "    # shuffling the data\n",
        "    sentences, labels = shuffle(sentences, labels, random_state=random_state)\n",
        "\n",
        "    # splitting the data\n",
        "    train_sentences = sentences[:train_size]\n",
        "    train_labels = labels[:train_size]\n",
        "\n",
        "    validation_sentences = sentences[train_size:]\n",
        "    validation_labels = labels[train_size:]\n",
        "\n",
        "    assert len(np.unique(train_labels)) == len(np.unique(validation_labels)), \"Training or Validation sets have missing labels. Try a different random_state.\"\n",
        "    \n",
        "    return train_sentences, train_labels, validation_sentences, validation_labels\n"
      ]
    },
    {
      "cell_type": "code",
      "execution_count": null,
      "metadata": {
        "id": "efIwOrI3HAgu"
      },
      "outputs": [],
      "source": [
        "filepath = '/content/twitter_corpus/full-corpus.csv'\n",
        "train_sentences, train_labels, validation_sentences, validation_labels = pre_processing(filepath, split_size=0.9, random_state=0)"
      ]
    },
    {
      "cell_type": "code",
      "execution_count": null,
      "metadata": {
        "colab": {
          "base_uri": "https://localhost:8080/"
        },
        "id": "slh48vn1HFsa",
        "outputId": "97e95cd3-7209-48da-d57b-fc42cd1be76c"
      },
      "outputs": [
        {
          "data": {
            "text/plain": [
              "4601"
            ]
          },
          "execution_count": 23,
          "metadata": {},
          "output_type": "execute_result"
        }
      ],
      "source": [
        "len(train_sentences)"
      ]
    },
    {
      "cell_type": "code",
      "execution_count": null,
      "metadata": {
        "colab": {
          "base_uri": "https://localhost:8080/"
        },
        "id": "Oki86ZhIHI-h",
        "outputId": "379c66c9-c6b4-4771-da38-b94134349932"
      },
      "outputs": [
        {
          "data": {
            "text/plain": [
              "512"
            ]
          },
          "execution_count": 24,
          "metadata": {},
          "output_type": "execute_result"
        }
      ],
      "source": [
        "len(validation_sentences)"
      ]
    },
    {
      "cell_type": "markdown",
      "metadata": {
        "id": "SGb2uxEaNrIt"
      },
      "source": [
        "## Sarcasm Detection"
      ]
    },
    {
      "cell_type": "markdown",
      "metadata": {
        "id": "X6dH_AAAOdpL"
      },
      "source": [
        "### Preparing Data"
      ]
    },
    {
      "cell_type": "code",
      "execution_count": 18,
      "metadata": {
        "colab": {
          "base_uri": "https://localhost:8080/"
        },
        "id": "8yJtiaGOHNvr",
        "outputId": "a5dea7c2-1332-4fc4-f3fa-5cedf461c704"
      },
      "outputs": [
        {
          "output_type": "stream",
          "name": "stdout",
          "text": [
            "--2023-04-29 07:10:13--  https://storage.googleapis.com/tensorflow-1-public/course3/sarcasm.json\n",
            "Resolving storage.googleapis.com (storage.googleapis.com)... 142.251.161.128, 74.125.126.128, 74.125.70.128, ...\n",
            "Connecting to storage.googleapis.com (storage.googleapis.com)|142.251.161.128|:443... connected.\n",
            "HTTP request sent, awaiting response... 200 OK\n",
            "Length: 5643545 (5.4M) [application/json]\n",
            "Saving to: ‘sarcasm.json’\n",
            "\n",
            "\rsarcasm.json          0%[                    ]       0  --.-KB/s               \rsarcasm.json        100%[===================>]   5.38M  --.-KB/s    in 0.05s   \n",
            "\n",
            "2023-04-29 07:10:14 (113 MB/s) - ‘sarcasm.json’ saved [5643545/5643545]\n",
            "\n"
          ]
        }
      ],
      "source": [
        "# Download the dataset\n",
        "!wget https://storage.googleapis.com/tensorflow-1-public/course3/sarcasm.json"
      ]
    },
    {
      "cell_type": "code",
      "execution_count": 19,
      "metadata": {
        "colab": {
          "base_uri": "https://localhost:8080/"
        },
        "id": "rh9-YquONyoS",
        "outputId": "5e2ce7dd-39f1-4214-cbc6-bd5b2326eedf"
      },
      "outputs": [
        {
          "output_type": "stream",
          "name": "stdout",
          "text": [
            "Dataset size: 17310\n"
          ]
        }
      ],
      "source": [
        "import json\n",
        "\n",
        "# Load the JSON file\n",
        "with open(\"./sarcasm.json\", 'r') as f:\n",
        "    datastore = json.load(f)\n",
        "\n",
        "# Initialize the lists\n",
        "sentences = []\n",
        "labels = []\n",
        "\n",
        "# Collect sentences and labels into the lists\n",
        "for item in datastore:\n",
        "    if item['is_sarcastic'] == 1 and np.random.choice([0, 1], p=[0.8, 0.2]):\n",
        "        sentences.append(item['headline'])\n",
        "        labels.append(item['is_sarcastic'])\n",
        "    elif item['is_sarcastic'] == 0: \n",
        "        sentences.append(item['headline'])\n",
        "        labels.append(item['is_sarcastic'])\n",
        "\n",
        "print('Dataset size:', len(sentences))"
      ]
    },
    {
      "cell_type": "code",
      "execution_count": 24,
      "metadata": {
        "id": "2q7nOK2uOGeM"
      },
      "outputs": [],
      "source": [
        "training_size = int(len(sentences)*0.9)\n",
        "\n",
        "# Split the sentences\n",
        "training_sentences = sentences[0:training_size]\n",
        "testing_sentences = sentences[training_size:]\n",
        "\n",
        "# Split the labels\n",
        "training_labels = labels[0:training_size]\n",
        "testing_labels = labels[training_size:]"
      ]
    },
    {
      "cell_type": "code",
      "source": [
        "train_labels = training_labels\n",
        "validation_labels = testing_labels\n",
        "train_sentences = training_sentences\n",
        "validation_sentences = testing_sentences\n",
        "print('Training examples:', len(train_sentences))\n",
        "print('\\tPositive examples:', sum([1 for label in train_labels if label == 1 ]))\n",
        "print('\\tNegative examples:', sum([1 for label in train_labels if label == 0 ]))\n",
        "print('Validation examples:', len(validation_sentences))\n",
        "print('\\tPositive examples:', sum([1 for label in validation_labels if label == 1 ]))\n",
        "print('\\tNegative examples:', sum([1 for label in validation_labels if label == 0 ]))\n",
        "# print('Test examples:', len(test_sentences))\n",
        "# print('\\tPositive examples:', sum([1 for label in test_labels if label == 1 ]))\n",
        "# print('\\tNegative examples:', sum([1 for label in test_labels if label == 0 ]))"
      ],
      "metadata": {
        "colab": {
          "base_uri": "https://localhost:8080/"
        },
        "id": "YgGfjkFGBCKN",
        "outputId": "df7838cb-584c-4b04-85a1-c99c0dd35a47"
      },
      "execution_count": 25,
      "outputs": [
        {
          "output_type": "stream",
          "name": "stdout",
          "text": [
            "Training examples: 15579\n",
            "\tPositive examples: 2095\n",
            "\tNegative examples: 13484\n",
            "Validation examples: 1731\n",
            "\tPositive examples: 230\n",
            "\tNegative examples: 1501\n"
          ]
        }
      ]
    },
    {
      "cell_type": "markdown",
      "metadata": {
        "id": "ptRY-QvNOjMp"
      },
      "source": [
        "### Pre-processing"
      ]
    },
    {
      "cell_type": "code",
      "execution_count": 26,
      "metadata": {
        "id": "1NrHaZAeOTSm"
      },
      "outputs": [],
      "source": [
        "import numpy as np\n",
        "from tensorflow.keras.preprocessing.text import Tokenizer\n",
        "from tensorflow.keras.preprocessing.sequence import pad_sequences\n",
        "\n",
        "vocab_size = 10000\n",
        "max_length = 35\n",
        "trunc_type='post'\n",
        "padding_type='post'\n",
        "oov_tok = \"<OOV>\"\n",
        "\n",
        "# Initialize the Tokenizer class\n",
        "tokenizer = Tokenizer(num_words=vocab_size, oov_token=oov_tok)\n",
        "\n",
        "# Generate the word index dictionary\n",
        "tokenizer.fit_on_texts(training_sentences)\n",
        "word_index = tokenizer.word_index\n",
        "index_word = tokenizer.index_word\n",
        "\n",
        "# Generate and pad the training sequences\n",
        "training_sequences = tokenizer.texts_to_sequences(training_sentences)\n",
        "training_padded = pad_sequences(training_sequences, maxlen=max_length, padding=padding_type, truncating=trunc_type)\n",
        "\n",
        "# Generate and pad the testing sequences\n",
        "testing_sequences = tokenizer.texts_to_sequences(testing_sentences)\n",
        "testing_padded = pad_sequences(testing_sequences, maxlen=max_length, padding=padding_type, truncating=trunc_type)\n",
        "\n",
        "# Convert the labels lists into numpy arrays\n",
        "training_labels = np.array(training_labels)\n",
        "testing_labels = np.array(testing_labels)"
      ]
    },
    {
      "cell_type": "markdown",
      "metadata": {
        "id": "a2ETC3yfOr6Q"
      },
      "source": [
        "### Modeling"
      ]
    },
    {
      "cell_type": "markdown",
      "metadata": {
        "id": "LcseC7enO4ev"
      },
      "source": [
        "#### Model 1: LSTM Model (without GloVe embeddings)"
      ]
    },
    {
      "cell_type": "code",
      "execution_count": null,
      "metadata": {
        "colab": {
          "base_uri": "https://localhost:8080/"
        },
        "id": "f-M2yyl8OmMT",
        "outputId": "99f51a88-c878-4531-fa11-7d9373b9da54"
      },
      "outputs": [
        {
          "name": "stdout",
          "output_type": "stream",
          "text": [
            "Model: \"sequential_2\"\n",
            "_________________________________________________________________\n",
            " Layer (type)                Output Shape              Param #   \n",
            "=================================================================\n",
            " embedding_2 (Embedding)     (None, 30, 16)            160000    \n",
            "                                                                 \n",
            " bidirectional_2 (Bidirectio  (None, 64)               12544     \n",
            " nal)                                                            \n",
            "                                                                 \n",
            " dense_4 (Dense)             (None, 24)                1560      \n",
            "                                                                 \n",
            " dense_5 (Dense)             (None, 1)                 25        \n",
            "                                                                 \n",
            "=================================================================\n",
            "Total params: 174,129\n",
            "Trainable params: 174,129\n",
            "Non-trainable params: 0\n",
            "_________________________________________________________________\n"
          ]
        }
      ],
      "source": [
        "import tensorflow as tf\n",
        "\n",
        "# Parameters\n",
        "embedding_dim = 16\n",
        "lstm_dim = 32\n",
        "dense_dim = 24\n",
        "\n",
        "# Model Definition with LSTM\n",
        "model_lstm = tf.keras.Sequential([\n",
        "    tf.keras.layers.Embedding(vocab_size, embedding_dim, input_length=max_length),\n",
        "    tf.keras.layers.Bidirectional(tf.keras.layers.LSTM(lstm_dim)),\n",
        "    tf.keras.layers.Dense(dense_dim, activation='relu'),\n",
        "    tf.keras.layers.Dense(1, activation='sigmoid')\n",
        "])\n",
        "\n",
        "# Set the training parameters\n",
        "model_lstm.compile(loss='binary_crossentropy',optimizer='adam',metrics=['accuracy'])\n",
        "\n",
        "# Print the model summary\n",
        "model_lstm.summary()"
      ]
    },
    {
      "cell_type": "code",
      "execution_count": null,
      "metadata": {
        "colab": {
          "base_uri": "https://localhost:8080/"
        },
        "id": "TFl439pkOtlk",
        "outputId": "804ee4bf-8ccd-4804-f665-106921c7101a"
      },
      "outputs": [
        {
          "name": "stdout",
          "output_type": "stream",
          "text": [
            "Epoch 1/10\n",
            "625/625 [==============================] - 70s 105ms/step - loss: 0.4303 - accuracy: 0.7916 - val_loss: 0.3307 - val_accuracy: 0.8518\n",
            "Epoch 2/10\n",
            "625/625 [==============================] - 57s 91ms/step - loss: 0.2248 - accuracy: 0.9076 - val_loss: 0.3502 - val_accuracy: 0.8542\n",
            "Epoch 3/10\n",
            "625/625 [==============================] - 58s 93ms/step - loss: 0.1519 - accuracy: 0.9424 - val_loss: 0.3848 - val_accuracy: 0.8484\n",
            "Epoch 4/10\n",
            "625/625 [==============================] - 63s 100ms/step - loss: 0.0977 - accuracy: 0.9650 - val_loss: 0.4697 - val_accuracy: 0.8413\n",
            "Epoch 5/10\n",
            "625/625 [==============================] - 58s 92ms/step - loss: 0.0609 - accuracy: 0.9788 - val_loss: 0.5480 - val_accuracy: 0.8439\n",
            "Epoch 6/10\n",
            "625/625 [==============================] - 55s 88ms/step - loss: 0.0392 - accuracy: 0.9868 - val_loss: 0.6880 - val_accuracy: 0.8386\n",
            "Epoch 7/10\n",
            "625/625 [==============================] - 57s 92ms/step - loss: 0.0253 - accuracy: 0.9922 - val_loss: 0.8068 - val_accuracy: 0.8371\n",
            "Epoch 8/10\n",
            "625/625 [==============================] - 57s 92ms/step - loss: 0.0176 - accuracy: 0.9948 - val_loss: 0.8405 - val_accuracy: 0.8362\n",
            "Epoch 9/10\n",
            "625/625 [==============================] - 58s 93ms/step - loss: 0.0130 - accuracy: 0.9962 - val_loss: 1.0025 - val_accuracy: 0.8348\n",
            "Epoch 10/10\n",
            "625/625 [==============================] - 60s 96ms/step - loss: 0.0099 - accuracy: 0.9972 - val_loss: 1.0195 - val_accuracy: 0.8290\n"
          ]
        }
      ],
      "source": [
        "NUM_EPOCHS = 10\n",
        "\n",
        "# Train the model\n",
        "history_lstm = model_lstm.fit(training_padded, training_labels, epochs=NUM_EPOCHS, validation_data=(testing_padded, testing_labels))"
      ]
    },
    {
      "cell_type": "code",
      "execution_count": null,
      "metadata": {
        "colab": {
          "base_uri": "https://localhost:8080/",
          "height": 541
        },
        "id": "0Z2Qb1LcPAps",
        "outputId": "c595abdd-4d58-4b11-adbe-3c25d312168a"
      },
      "outputs": [
        {
          "data": {
            "image/png": "[encoded data removed]",
            "text/plain": [
              "<Figure size 432x288 with 1 Axes>"
            ]
          },
          "metadata": {},
          "output_type": "display_data"
        },
        {
          "data": {
            "image/png": "[encoded data removed]",
            "text/plain": [
              "<Figure size 432x288 with 1 Axes>"
            ]
          },
          "metadata": {},
          "output_type": "display_data"
        }
      ],
      "source": [
        "import matplotlib.pyplot as plt\n",
        "\n",
        "# # Plot Utility\n",
        "def plot_graphs(history, string):\n",
        "  plt.plot(history.history[string])\n",
        "  plt.plot(history.history['val_'+string])\n",
        "  plt.xlabel(\"Epochs\")\n",
        "  plt.ylabel(string)\n",
        "  plt.legend([string, 'val_'+string])\n",
        "  plt.show()\n",
        "\n",
        "# Plot the accuracy and loss history\n",
        "plot_graphs(history_lstm, 'accuracy')\n",
        "plot_graphs(history_lstm, 'loss')"
      ]
    },
    {
      "cell_type": "markdown",
      "metadata": {
        "id": "eOtVayKSPVcZ"
      },
      "source": [
        "#### Model 2: LSTM Model (GloVe)"
      ]
    },
    {
      "cell_type": "code",
      "execution_count": 27,
      "metadata": {
        "id": "xXCFtWbQPDJn"
      },
      "outputs": [],
      "source": [
        "# vocab_size = 10000\n",
        "embedding_dim = 50\n",
        "num_tokens = vocab_size + 1\n",
        "\n",
        "embedding_matrix = np.zeros((num_tokens, embedding_dim))\n",
        "for index in range(2, num_tokens):\n",
        "    word = index_word[index]\n",
        "    embedding_vector = embeddings_index.get(word)\n",
        "    if embedding_vector is not None:\n",
        "        embedding_matrix[index] = embedding_vector"
      ]
    },
    {
      "cell_type": "code",
      "execution_count": 28,
      "metadata": {
        "colab": {
          "base_uri": "https://localhost:8080/"
        },
        "id": "mujFvtBAP-qR",
        "outputId": "28bf4224-532a-469d-c3fc-280bfdf2f8a8"
      },
      "outputs": [
        {
          "output_type": "stream",
          "name": "stdout",
          "text": [
            "Model: \"sequential_1\"\n",
            "_________________________________________________________________\n",
            " Layer (type)                Output Shape              Param #   \n",
            "=================================================================\n",
            " embedding_1 (Embedding)     (None, 35, 50)            500050    \n",
            "                                                                 \n",
            " bidirectional_1 (Bidirectio  (None, 64)               21248     \n",
            " nal)                                                            \n",
            "                                                                 \n",
            " dropout_3 (Dropout)         (None, 64)                0         \n",
            "                                                                 \n",
            " dense_2 (Dense)             (None, 24)                1560      \n",
            "                                                                 \n",
            " dropout_4 (Dropout)         (None, 24)                0         \n",
            "                                                                 \n",
            " dense_3 (Dense)             (None, 1)                 25        \n",
            "                                                                 \n",
            "=================================================================\n",
            "Total params: 522,883\n",
            "Trainable params: 22,833\n",
            "Non-trainable params: 500,050\n",
            "_________________________________________________________________\n",
            "Epoch 1/15\n",
            "487/487 [==============================] - 10s 11ms/step - loss: 0.4024 - accuracy: 0.8544 - recall: 0.0616 - precision: 0.2993 - val_loss: 0.3181 - val_accuracy: 0.8723 - val_recall: 0.0609 - val_precision: 0.7368\n",
            "Epoch 2/15\n",
            "487/487 [==============================] - 4s 8ms/step - loss: 0.3308 - accuracy: 0.8736 - recall: 0.1666 - precision: 0.6101 - val_loss: 0.2759 - val_accuracy: 0.8879 - val_recall: 0.2348 - val_precision: 0.7500\n",
            "Epoch 3/15\n",
            "487/487 [==============================] - 4s 8ms/step - loss: 0.2966 - accuracy: 0.8875 - recall: 0.3308 - precision: 0.6638 - val_loss: 0.2656 - val_accuracy: 0.8972 - val_recall: 0.2913 - val_precision: 0.8171\n",
            "Epoch 4/15\n",
            "487/487 [==============================] - 5s 9ms/step - loss: 0.2731 - accuracy: 0.8944 - recall: 0.3804 - precision: 0.6967 - val_loss: 0.2520 - val_accuracy: 0.9012 - val_recall: 0.3087 - val_precision: 0.8554\n",
            "Epoch 5/15\n",
            "487/487 [==============================] - 4s 8ms/step - loss: 0.2558 - accuracy: 0.8994 - recall: 0.4282 - precision: 0.7080 - val_loss: 0.2370 - val_accuracy: 0.9099 - val_recall: 0.5043 - val_precision: 0.7342\n",
            "Epoch 6/15\n",
            "487/487 [==============================] - 4s 8ms/step - loss: 0.2408 - accuracy: 0.9080 - recall: 0.4654 - precision: 0.7564 - val_loss: 0.2353 - val_accuracy: 0.9093 - val_recall: 0.4739 - val_precision: 0.7517\n",
            "Epoch 7/15\n",
            "487/487 [==============================] - 5s 10ms/step - loss: 0.2293 - accuracy: 0.9082 - recall: 0.4716 - precision: 0.7536 - val_loss: 0.2742 - val_accuracy: 0.9053 - val_recall: 0.4000 - val_precision: 0.7797\n",
            "Epoch 8/15\n",
            "487/487 [==============================] - 4s 8ms/step - loss: 0.2180 - accuracy: 0.9115 - recall: 0.5112 - precision: 0.7511 - val_loss: 0.2339 - val_accuracy: 0.9035 - val_recall: 0.3217 - val_precision: 0.8706\n",
            "Epoch 9/15\n",
            "487/487 [==============================] - 4s 8ms/step - loss: 0.2095 - accuracy: 0.9196 - recall: 0.5446 - precision: 0.7929 - val_loss: 0.2338 - val_accuracy: 0.9070 - val_recall: 0.4435 - val_precision: 0.7556\n",
            "Epoch 10/15\n",
            "487/487 [==============================] - 5s 9ms/step - loss: 0.1976 - accuracy: 0.9228 - recall: 0.5704 - precision: 0.7983 - val_loss: 0.2434 - val_accuracy: 0.9105 - val_recall: 0.4783 - val_precision: 0.7586\n",
            "Epoch 11/15\n",
            "487/487 [==============================] - 4s 8ms/step - loss: 0.1917 - accuracy: 0.9260 - recall: 0.5995 - precision: 0.8000 - val_loss: 0.2972 - val_accuracy: 0.9070 - val_recall: 0.3739 - val_precision: 0.8350\n",
            "Epoch 12/15\n",
            "487/487 [==============================] - 4s 9ms/step - loss: 0.1833 - accuracy: 0.9300 - recall: 0.6119 - precision: 0.8218 - val_loss: 0.2563 - val_accuracy: 0.9018 - val_recall: 0.6478 - val_precision: 0.6261\n",
            "Epoch 13/15\n",
            "487/487 [==============================] - 7s 15ms/step - loss: 0.1755 - accuracy: 0.9318 - recall: 0.6296 - precision: 0.8218 - val_loss: 0.2282 - val_accuracy: 0.9151 - val_recall: 0.4783 - val_precision: 0.8029\n",
            "Epoch 14/15\n",
            "487/487 [==============================] - 5s 9ms/step - loss: 0.1610 - accuracy: 0.9366 - recall: 0.6659 - precision: 0.8294 - val_loss: 0.2439 - val_accuracy: 0.9128 - val_recall: 0.4696 - val_precision: 0.7883\n",
            "Epoch 15/15\n",
            "487/487 [==============================] - 7s 13ms/step - loss: 0.1530 - accuracy: 0.9391 - recall: 0.6850 - precision: 0.8324 - val_loss: 0.2588 - val_accuracy: 0.9081 - val_recall: 0.5522 - val_precision: 0.6940\n"
          ]
        }
      ],
      "source": [
        "# Parameters\n",
        "lstm_dim = 32\n",
        "dense_dim = 24\n",
        "dropout_rate = 0.6\n",
        "\n",
        "# Model Definition with LSTM\n",
        "model_lstm = tf.keras.Sequential([\n",
        "    tf.keras.layers.Embedding(num_tokens, embedding_dim, input_length=max_length, \n",
        "                              embeddings_initializer=tf.keras.initializers.Constant(embedding_matrix),\n",
        "                              trainable=False),\n",
        "    # tf.keras.layers.Bidirectional(tf.keras.layers.LSTM(lstm_dim, return_sequences=True)),\n",
        "    # tf.keras.layers.Dropout(dropout_rate),\n",
        "    tf.keras.layers.Bidirectional(tf.keras.layers.LSTM(lstm_dim)),\n",
        "    tf.keras.layers.Dropout(dropout_rate),\n",
        "    tf.keras.layers.Dense(dense_dim, activation='relu'),\n",
        "    tf.keras.layers.Dropout(dropout_rate),\n",
        "    tf.keras.layers.Dense(1, activation='sigmoid')\n",
        "])\n",
        "\n",
        "# Set the training parameters\n",
        "model_lstm.compile(loss='binary_crossentropy',optimizer='adam',metrics=['accuracy', tf.keras.metrics.Recall(), tf.keras.metrics.Precision()])\n",
        "\n",
        "# Print the model summary\n",
        "model_lstm.summary()\n",
        "\n",
        "NUM_EPOCHS = 15\n",
        "\n",
        "# Train the model\n",
        "history_lstm = model_lstm.fit(training_padded, training_labels, epochs=NUM_EPOCHS, validation_data=(testing_padded, testing_labels))\n"
      ]
    },
    {
      "cell_type": "code",
      "execution_count": 29,
      "metadata": {
        "colab": {
          "base_uri": "https://localhost:8080/",
          "height": 881
        },
        "id": "SBxgs5etSsCQ",
        "outputId": "e6e25e0f-5c6a-481b-e04f-7525860a954a"
      },
      "outputs": [
        {
          "output_type": "display_data",
          "data": {
            "text/plain": [
              "<Figure size 640x480 with 1 Axes>"
            ],
            "image/png": "[encoded data removed]"
          },
          "metadata": {}
        },
        {
          "output_type": "display_data",
          "data": {
            "text/plain": [
              "<Figure size 640x480 with 1 Axes>"
            ],
            "image/png": "[encoded data removed]"
          },
          "metadata": {}
        }
      ],
      "source": [
        "import matplotlib.pyplot as plt\n",
        "\n",
        "# Plot Utility\n",
        "def plot_graphs(history, string):\n",
        "  plt.plot(history.history[string])\n",
        "  plt.plot(history.history['val_'+string])\n",
        "  plt.xlabel(\"Epochs\")\n",
        "  plt.ylabel(string)\n",
        "  plt.legend([string, 'val_'+string])\n",
        "  plt.show()\n",
        "\n",
        "# Plot the accuracy and loss history\n",
        "plot_graphs(history_lstm, 'accuracy')\n",
        "plot_graphs(history_lstm, 'loss')"
      ]
    },
    {
      "cell_type": "code",
      "source": [
        "from tensorflow.keras.utils import plot_model\n",
        "import pydot\n",
        "plot_model(model, show_shapes=True, show_layer_names=True, to_file='sarcasm_model.png')"
      ],
      "metadata": {
        "colab": {
          "base_uri": "https://localhost:8080/",
          "height": 1000
        },
        "id": "TRKQ1HPo2cXl",
        "outputId": "ace35110-0ec5-4648-ce98-c0c6fe1e26b0"
      },
      "execution_count": 30,
      "outputs": [
        {
          "output_type": "execute_result",
          "data": {
            "image/png": "[encoded data removed]",
            "text/plain": [
              "<IPython.core.display.Image object>"
            ]
          },
          "metadata": {},
          "execution_count": 30
        }
      ]
    },
    {
      "cell_type": "code",
      "execution_count": 31,
      "metadata": {
        "colab": {
          "base_uri": "https://localhost:8080/"
        },
        "id": "gj1O2N1Au_av",
        "outputId": "1e9ca29a-e781-4b46-d7ff-f74066382fba"
      },
      "outputs": [
        {
          "output_type": "stream",
          "name": "stderr",
          "text": [
            "WARNING:absl:Found untraced functions such as lstm_cell_4_layer_call_fn, lstm_cell_4_layer_call_and_return_conditional_losses, lstm_cell_5_layer_call_fn, lstm_cell_5_layer_call_and_return_conditional_losses while saving (showing 4 of 4). These functions will not be directly callable after loading.\n"
          ]
        }
      ],
      "source": [
        "save_model_tokenizer(model_lstm, tokenizer, name_tag='sarcasm')"
      ]
    },
    {
      "cell_type": "code",
      "execution_count": null,
      "metadata": {
        "colab": {
          "base_uri": "https://localhost:8080/",
          "height": 166
        },
        "id": "Yc8BnWKeRRoL",
        "outputId": "81ecee5b-8f50-4b44-980a-b2a32b38d8ee"
      },
      "outputs": [
        {
          "ename": "NameError",
          "evalue": "ignored",
          "output_type": "error",
          "traceback": [
            "\u001b[0;31m---------------------------------------------------------------------------\u001b[0m",
            "\u001b[0;31mNameError\u001b[0m                                 Traceback (most recent call last)",
            "\u001b[0;32m<ipython-input-8-c1987622b305>\u001b[0m in \u001b[0;36m<cell line: 1>\u001b[0;34m()\u001b[0m\n\u001b[0;32m----> 1\u001b[0;31m \u001b[0mmodel\u001b[0m\u001b[0;34m.\u001b[0m\u001b[0msave_weights\u001b[0m\u001b[0;34m(\u001b[0m\u001b[0;34m'./checkpoints/my_checkpoint'\u001b[0m\u001b[0;34m)\u001b[0m\u001b[0;34m\u001b[0m\u001b[0;34m\u001b[0m\u001b[0m\n\u001b[0m",
            "\u001b[0;31mNameError\u001b[0m: name 'model' is not defined"
          ]
        }
      ],
      "source": [
        "model.save_weights('./checkpoints/my_checkpoint')"
      ]
    },
    {
      "cell_type": "code",
      "execution_count": null,
      "metadata": {
        "colab": {
          "base_uri": "https://localhost:8080/",
          "height": 191
        },
        "id": "sg8iWGUHpwpu",
        "outputId": "8cf08960-6588-4929-b050-6f4dfa934a35"
      },
      "outputs": [
        {
          "output_type": "stream",
          "name": "stdout",
          "text": [
            "tar: Removing leading `/' from member names\n",
            "/content/saved_model/\n",
            "/content/saved_model/sarcasm_model/\n",
            "/content/saved_model/sarcasm_model/saved_model.pb\n",
            "/content/saved_model/sarcasm_model/keras_metadata.pb\n",
            "/content/saved_model/sarcasm_model/fingerprint.pb\n",
            "/content/saved_model/sarcasm_model/variables/\n",
            "/content/saved_model/sarcasm_model/variables/variables.index\n",
            "/content/saved_model/sarcasm_model/variables/variables.data-00000-of-00001\n",
            "/content/saved_model/sarcasm_model/assets/\n"
          ]
        },
        {
          "output_type": "display_data",
          "data": {
            "text/plain": [
              "<IPython.core.display.Javascript object>"
            ],
            "application/javascript": [
              "\n",
              "    async function download(id, filename, size) {\n",
              "      if (!google.colab.kernel.accessAllowed) {\n",
              "        return;\n",
              "      }\n",
              "      const div = document.createElement('div');\n",
              "      const label = document.createElement('label');\n",
              "      label.textContent = `Downloading \"${filename}\": `;\n",
              "      div.appendChild(label);\n",
              "      const progress = document.createElement('progress');\n",
              "      progress.max = size;\n",
              "      div.appendChild(progress);\n",
              "      document.body.appendChild(div);\n",
              "\n",
              "      const buffers = [];\n",
              "      let downloaded = 0;\n",
              "\n",
              "      const channel = await google.colab.kernel.comms.open(id);\n",
              "      // Send a message to notify the kernel that we're ready.\n",
              "      channel.send({})\n",
              "\n",
              "      for await (const message of channel.messages) {\n",
              "        // Send a message to notify the kernel that we're ready.\n",
              "        channel.send({})\n",
              "        if (message.buffers) {\n",
              "          for (const buffer of message.buffers) {\n",
              "            buffers.push(buffer);\n",
              "            downloaded += buffer.byteLength;\n",
              "            progress.value = downloaded;\n",
              "          }\n",
              "        }\n",
              "      }\n",
              "      const blob = new Blob(buffers, {type: 'application/binary'});\n",
              "      const a = document.createElement('a');\n",
              "      a.href = window.URL.createObjectURL(blob);\n",
              "      a.download = filename;\n",
              "      div.appendChild(a);\n",
              "      a.click();\n",
              "      div.remove();\n",
              "    }\n",
              "  "
            ]
          },
          "metadata": {}
        },
        {
          "output_type": "display_data",
          "data": {
            "text/plain": [
              "<IPython.core.display.Javascript object>"
            ],
            "application/javascript": [
              "download(\"download_ba87d18b-82e6-441e-abcf-1332a834ea55\", \"tweet_classification_models.tar.gz\", 13293543)"
            ]
          },
          "metadata": {}
        }
      ],
      "source": [
        "# !zip -r /content/tweet_classification_models.zip /content/saved_model\n",
        "!tar -czvf /content/tweet_classification_models.tar.gz /content/saved_model\n",
        "\n",
        "from google.colab import files\n",
        "files.download(\"/content/tweet_classification_models.tar.gz\")"
      ]
    },
    {
      "cell_type": "code",
      "execution_count": null,
      "metadata": {
        "colab": {
          "base_uri": "https://localhost:8080/"
        },
        "id": "i0JeoS7hO0rD",
        "outputId": "34e1ff72-0e3e-4249-b588-ce7e8256b40a"
      },
      "outputs": [
        {
          "name": "stdout",
          "output_type": "stream",
          "text": [
            "content/saved_model/\n",
            "content/saved_model/sarcasm_tokenizer.pickle\n",
            "content/saved_model/sentiment_model/\n",
            "content/saved_model/sentiment_model/assets/\n",
            "content/saved_model/sentiment_model/fingerprint.pb\n",
            "content/saved_model/sentiment_model/saved_model.pb\n",
            "content/saved_model/sentiment_model/variables/\n",
            "content/saved_model/sentiment_model/variables/variables.data-00000-of-00001\n",
            "content/saved_model/sentiment_model/variables/variables.index\n",
            "content/saved_model/sentiment_model/keras_metadata.pb\n",
            "content/saved_model/sentiment_tokenizer.pickle\n",
            "content/saved_model/sarcasm_model/\n",
            "content/saved_model/sarcasm_model/assets/\n",
            "content/saved_model/sarcasm_model/fingerprint.pb\n",
            "content/saved_model/sarcasm_model/saved_model.pb\n",
            "content/saved_model/sarcasm_model/variables/\n",
            "content/saved_model/sarcasm_model/variables/variables.data-00000-of-00001\n",
            "content/saved_model/sarcasm_model/variables/variables.index\n",
            "content/saved_model/sarcasm_model/keras_metadata.pb\n"
          ]
        }
      ],
      "source": [
        "!tar -xzvf /content/tweet_classification_models.tar.gz"
      ]
    },
    {
      "cell_type": "code",
      "execution_count": null,
      "metadata": {
        "colab": {
          "base_uri": "https://localhost:8080/"
        },
        "id": "3R2OrbZ6uEb5",
        "outputId": "4a34e5c0-e1bc-478a-ffd1-058e60d23150"
      },
      "outputs": [
        {
          "name": "stdout",
          "output_type": "stream",
          "text": [
            "1/1 [==============================] - 2s 2s/step\n"
          ]
        },
        {
          "data": {
            "text/plain": [
              "array([[0.49698642]], dtype=float32)"
            ]
          },
          "execution_count": 37,
          "metadata": {},
          "output_type": "execute_result"
        }
      ],
      "source": [
        "test_sequences = tokenizer.texts_to_sequences([['How late can this actually get?']])\n",
        "test_sequences = pad_sequences(test_sequences, maxlen=max_length, padding=padding_type, truncating=trunc_type)\n",
        "new_model.predict(test_sequences)"
      ]
    },
    {
      "cell_type": "code",
      "execution_count": null,
      "metadata": {
        "colab": {
          "base_uri": "https://localhost:8080/"
        },
        "id": "rf6zQesDuXFp",
        "outputId": "80a365b2-6617-436d-b1df-1f49d34fb3c4"
      },
      "outputs": [
        {
          "data": {
            "text/plain": [
              "1"
            ]
          },
          "execution_count": 1,
          "metadata": {},
          "output_type": "execute_result"
        }
      ],
      "source": [
        "1 ^ 0"
      ]
    },
    {
      "cell_type": "markdown",
      "source": [
        "## Combined Model performance "
      ],
      "metadata": {
        "id": "UFg2088Xx2Dh"
      }
    },
    {
      "cell_type": "code",
      "source": [
        "# Note: Make sure the paths to the model and Sentiment data are correct below in the 'load_model' function\n",
        "# and 'filepath' variables"
      ],
      "metadata": {
        "id": "d7jQ0Wyz5iCt"
      },
      "execution_count": null,
      "outputs": []
    },
    {
      "cell_type": "code",
      "source": [
        "import emoji\n",
        "# import snscrape.modules.twitter as sntwitter\n",
        "\n",
        "import os\n",
        "import sys\n",
        "import re\n",
        "import pickle\n",
        "import json\n",
        "\n",
        "import numpy as np\n",
        "import tensorflow as tf \n",
        "from tensorflow.keras.preprocessing.text import Tokenizer\n",
        "from tensorflow.keras.preprocessing.sequence import pad_sequences "
      ],
      "metadata": {
        "id": "Kmp9VKjnyZMG"
      },
      "execution_count": 53,
      "outputs": []
    },
    {
      "cell_type": "code",
      "source": [
        "class TSAClassifier:\n",
        "    def __init__(self, model_path, tokenizer_path, max_length=35, print_summary=False):\n",
        "        self.model = tf.keras.models.load_model(model_path)\n",
        "        with open(tokenizer_path, 'rb') as handle:\n",
        "            self.tokenizer = pickle.load(handle)\n",
        "        if print_summary == True:\n",
        "            model.summary()\n",
        "        self.max_length = max_length\n",
        "    \n",
        "    def predict(self, input_sentences, round_results=True):\n",
        "        input_sentences = [re.sub(r'[_:.]', r' ', emoji.demojize(re.sub(r'#(\\w+)\\b', r'\\1', sentence))) for sentence in input_sentences]\n",
        "        sequences = self.tokenizer.texts_to_sequences(input_sentences)\n",
        "        padded_sequences = pad_sequences(sequences, maxlen=self.max_length)\n",
        "        if round_results:\n",
        "                return np.round(self.model.predict(padded_sequences))#.tolist()\n",
        "        return self.model.predict(padded_sequences)#.tolist()\n",
        "\n",
        "def load_model():\n",
        "    model_path = os.path.join(os.getcwd(), 'saved_model', 'sentiment_model')\n",
        "    tokenizer_path = os.path.join(os.getcwd(), 'saved_model', 'sentiment_tokenizer.pickle')\n",
        "\n",
        "    sentiment_model = TSAClassifier(model_path, tokenizer_path, max_length=35)\n",
        "\n",
        "    model_path = os.path.join(os.getcwd(), 'saved_model', 'sarcasm_model')\n",
        "    tokenizer_path = os.path.join(os.getcwd(), 'saved_model', 'sarcasm_tokenizer.pickle')\n",
        "\n",
        "    sarcasm_model = TSAClassifier(model_path, tokenizer_path, max_length=35)\n",
        "\n",
        "    return sentiment_model, sarcasm_model"
      ],
      "metadata": {
        "id": "CadAkMpBya5p"
      },
      "execution_count": 54,
      "outputs": []
    },
    {
      "cell_type": "code",
      "source": [
        "sentiment_model, sarcasm_model = load_model()"
      ],
      "metadata": {
        "id": "7Y1R9731yiHN"
      },
      "execution_count": 55,
      "outputs": []
    },
    {
      "cell_type": "code",
      "source": [
        "# Loading Sentiment data\n",
        "filepath = 'train.csv'\n",
        "train_sentences, train_labels, validation_sentences, validation_labels = pre_processing(filepath, split_size=0.9, training_data=True)\n",
        "filepath = 'test.csv'\n",
        "test_sentences, test_labels = pre_processing(filepath, training_data=False)"
      ],
      "metadata": {
        "id": "8jqc62JC6eKH"
      },
      "execution_count": null,
      "outputs": []
    },
    {
      "cell_type": "code",
      "source": [
        "# Checking examples\n",
        "index = 2\n",
        "print(validation_sentences[index])\n",
        "print(validation_sequences[index])\n",
        "print(validation_labels[index])"
      ],
      "metadata": {
        "colab": {
          "base_uri": "https://localhost:8080/"
        },
        "id": "EOGz54F42jkw",
        "outputId": "7739bc78-3d9a-4dd9-b636-912993687460"
      },
      "execution_count": null,
      "outputs": [
        {
          "output_type": "stream",
          "name": "stdout",
          "text": [
            "how do i teach my girls to love their bodies when i hate mine?\n",
            "[17, 17, 36, 3, 27, 26, 111, 165, 251, 219, 2157, 405]\n",
            "0\n"
          ]
        }
      ]
    },
    {
      "cell_type": "code",
      "source": [
        "# Loading Sarcasm data\n",
        "!wget https://storage.googleapis.com/tensorflow-1-public/course3/sarcasm.json\n",
        "import json\n",
        "\n",
        "# Load the JSON file\n",
        "with open(\"./sarcasm.json\", 'r') as f:\n",
        "    datastore = json.load(f)\n",
        "\n",
        "# Initialize the lists\n",
        "sentences = []\n",
        "labels = []\n",
        "\n",
        "# Collect sentences and labels into the lists\n",
        "for item in datastore:\n",
        "    if item['is_sarcastic'] == 1 and np.random.choice([0, 1], p=[0.8, 0.2]):\n",
        "        sentences.append(item['headline'])\n",
        "        labels.append(item['is_sarcastic'])\n",
        "    elif item['is_sarcastic'] == 0: \n",
        "        sentences.append(item['headline'])\n",
        "        labels.append(item['is_sarcastic'])\n",
        "\n",
        "# print('Dataset size:', len(sentences))\n",
        "\n",
        "training_size = int(len(sentences)*0.9)\n",
        "\n",
        "# Split the sentences\n",
        "training_sentences = sentences[0:training_size]\n",
        "testing_sentences = sentences[training_size:]\n",
        "\n",
        "# Split the labels\n",
        "training_labels = labels[0:training_size]\n",
        "testing_labels = labels[training_size:]"
      ],
      "metadata": {
        "id": "3_oWqx0A6yI_"
      },
      "execution_count": null,
      "outputs": []
    },
    {
      "cell_type": "code",
      "execution_count": 49,
      "metadata": {
        "id": "N_y_rhPWNXRW",
        "colab": {
          "base_uri": "https://localhost:8080/"
        },
        "outputId": "fcd6398f-d38f-4412-c4ad-172c919e094c"
      },
      "outputs": [
        {
          "output_type": "stream",
          "name": "stdout",
          "text": [
            "66/66 [==============================] - 0s 3ms/step\n",
            "66/66 [==============================] - 0s 3ms/step\n",
            "Sentiment Prediction: [0. 0. 1. ... 1. 1. 1.]\n",
            "Sarcasm Prediction: [0. 0. 0. ... 0. 0. 0.]\n",
            "Combined Prediction: [0 0 1 ... 1 1 1]\n"
          ]
        }
      ],
      "source": [
        "# Use this to check accuracy on validation set of Sentiment data. You can change\n",
        "# variables to check for appropriate data you need from above cells.\n",
        "tweet_list = validation_sentences\n",
        "tweet_labels = validation_labels\n",
        "\n",
        "\n",
        "sentiment_preds = np.squeeze(sentiment_model.predict(tweet_list, round_results=True))\n",
        "sarcasm_preds = np.squeeze(sarcasm_model.predict(tweet_list, round_results=True))\n",
        "\n",
        "if sentiment_preds.shape == ():\n",
        "    sentiment_preds, sarcasm_preds = [int(sentiment_preds)], [int(sarcasm_preds)]\n",
        "    # combined_preds = sentiment_preds ^ sarcasm_preds\n",
        "combined_preds = np.array([int(i)^int(j) for i, j in zip(sentiment_preds, sarcasm_preds)])\n",
        "\n",
        "print('Sentiment Prediction:', sentiment_preds)\n",
        "print('Sarcasm Prediction:', sarcasm_preds)\n",
        "print('Combined Prediction:', combined_preds)"
      ]
    },
    {
      "cell_type": "code",
      "source": [
        "# Accuracy\n",
        "print('Combined model accuracy:', np.sum(tweet_labels == combined_preds) / len(tweet_labels))"
      ],
      "metadata": {
        "colab": {
          "base_uri": "https://localhost:8080/"
        },
        "id": "BtUinVmw3exQ",
        "outputId": "3615bd8e-7d95-4065-e348-d318c19a589e"
      },
      "execution_count": 51,
      "outputs": [
        {
          "output_type": "stream",
          "name": "stdout",
          "text": [
            "Combined model accuracy: 0.7804182509505704\n"
          ]
        }
      ]
    },
    {
      "cell_type": "code",
      "source": [],
      "metadata": {
        "id": "KbIjX0By4QlT"
      },
      "execution_count": null,
      "outputs": []
    }
  ],
  "metadata": {
    "accelerator": "GPU",
    "colab": {
      "collapsed_sections": [
        "Qv47GAiksrBH"
      ],
      "provenance": [],
      "toc_visible": true
    },
    "gpuClass": "standard",
    "kernelspec": {
      "display_name": "Python 3",
      "name": "python3"
    },
    "language_info": {
      "name": "python"
    }
  },
  "nbformat": 4,
  "nbformat_minor": 0
}