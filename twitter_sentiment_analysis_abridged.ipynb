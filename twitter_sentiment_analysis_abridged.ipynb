{
  "cells": [
    {
      "cell_type": "markdown",
      "metadata": {
        "id": "X1V_s0Ms8NYY"
      },
      "source": [
        "## Datasets"
      ]
    },
    {
      "cell_type": "code",
      "source": [
        "# !rm -r saved_model\n",
        "# !rm tweet_classification_models.tar.gz"
      ],
      "metadata": {
        "id": "2E9Te5lvYhmt"
      },
      "execution_count": 95,
      "outputs": []
    },
    {
      "cell_type": "code",
      "execution_count": null,
      "metadata": {
        "id": "yQ9P30CSdm-k"
      },
      "outputs": [],
      "source": [
        "## Datasets\n",
        "## 1. Twitter sentiment extraction Kaggle dataset (27k): https://www.kaggle.com/competitions/tweet-sentiment-extraction/overview\n",
        "## 2. Imdb dataset (25k training and 25k testing): http://ai.stanford.edu/~amaas/data/sentiment/aclImdb_v1.tar.gz\n",
        "## 3. Sentiment140 (1.4M): http://cs.stanford.edu/people/alecmgo/trainingandtestdata.zip\n",
        "## 4. Sandars: https://github.com/zfz/twitter_corpus/blob/09afbfb5b580c848062aadbc4491fecc96b0a85a/full-corpus.csv"
      ]
    },
    {
      "cell_type": "markdown",
      "metadata": {
        "id": "Gxj5QBR8ppuL"
      },
      "source": [
        "## Importing libraries and tools"
      ]
    },
    {
      "cell_type": "code",
      "execution_count": 48,
      "metadata": {
        "colab": {
          "base_uri": "https://localhost:8080/"
        },
        "id": "rDV_S0t2l6ba",
        "outputId": "05b81516-0175-4bdf-cca1-7241dcd11cdb"
      },
      "outputs": [
        {
          "output_type": "stream",
          "name": "stdout",
          "text": [
            "Looking in indexes: https://pypi.org/simple, https://us-python.pkg.dev/colab-wheels/public/simple/\n",
            "Requirement already satisfied: emoji in /usr/local/lib/python3.10/dist-packages (2.2.0)\n",
            "Looking in indexes: https://pypi.org/simple, https://us-python.pkg.dev/colab-wheels/public/simple/\n",
            "Requirement already satisfied: contractions in /usr/local/lib/python3.10/dist-packages (0.1.73)\n",
            "Requirement already satisfied: textsearch>=0.0.21 in /usr/local/lib/python3.10/dist-packages (from contractions) (0.0.24)\n",
            "Requirement already satisfied: anyascii in /usr/local/lib/python3.10/dist-packages (from textsearch>=0.0.21->contractions) (0.3.2)\n",
            "Requirement already satisfied: pyahocorasick in /usr/local/lib/python3.10/dist-packages (from textsearch>=0.0.21->contractions) (2.0.0)\n"
          ]
        }
      ],
      "source": [
        "!pip install emoji\n",
        "!pip install contractions"
      ]
    },
    {
      "cell_type": "code",
      "execution_count": 96,
      "metadata": {
        "id": "KRyT5x2Fo-nr"
      },
      "outputs": [],
      "source": [
        "import numpy as np\n",
        "import pandas as pd \n",
        "import matplotlib.pyplot as plt\n",
        "import re\n",
        "import csv\n",
        "import os\n",
        "import sys\n",
        "import pickle\n",
        "import subprocess\n",
        "\n",
        "from sklearn.utils import shuffle\n",
        "\n",
        "import tensorflow as tf \n",
        "from tensorflow.keras.preprocessing.text import Tokenizer\n",
        "from tensorflow.keras.preprocessing.sequence import pad_sequences \n",
        "\n",
        "# import spacy\n",
        "import emoji\n",
        "import contractions"
      ]
    },
    {
      "cell_type": "code",
      "execution_count": 97,
      "metadata": {
        "colab": {
          "base_uri": "https://localhost:8080/"
        },
        "id": "Op0PMeshCT1l",
        "outputId": "e255407e-319d-4506-e6df-487904e14bc8"
      },
      "outputs": [
        {
          "output_type": "stream",
          "name": "stdout",
          "text": [
            "Python version: 3.10.11 (main, Apr  5 2023, 14:15:10) [GCC 9.4.0]\n",
            "NumPy version: 1.22.4\n",
            "Pandas version: 1.5.3\n",
            "TensorFlow version: 2.12.0\n"
          ]
        }
      ],
      "source": [
        "## Versions\n",
        "print('Python version:', sys.version)\n",
        "print('NumPy version:', np.__version__)\n",
        "print('Pandas version:', pd.__version__)\n",
        "print('TensorFlow version:', tf.__version__)"
      ]
    },
    {
      "cell_type": "code",
      "execution_count": null,
      "metadata": {
        "colab": {
          "base_uri": "https://localhost:8080/",
          "height": 107
        },
        "id": "yLQsviX80hUw",
        "outputId": "c787ae2e-8936-44d2-f1c8-c5e20905b008"
      },
      "outputs": [
        {
          "output_type": "display_data",
          "data": {
            "text/plain": [
              "<IPython.core.display.HTML object>"
            ],
            "text/html": [
              "\n",
              "     <input type=\"file\" id=\"files-3ed935d0-718c-4a5e-90aa-04bed9a1c701\" name=\"files[]\" multiple disabled\n",
              "        style=\"border:none\" />\n",
              "     <output id=\"result-3ed935d0-718c-4a5e-90aa-04bed9a1c701\">\n",
              "      Upload widget is only available when the cell has been executed in the\n",
              "      current browser session. Please rerun this cell to enable.\n",
              "      </output>\n",
              "      <script>// Copyright 2017 Google LLC\n",
              "//\n",
              "// Licensed under the Apache License, Version 2.0 (the \"License\");\n",
              "// you may not use this file except in compliance with the License.\n",
              "// You may obtain a copy of the License at\n",
              "//\n",
              "//      http://www.apache.org/licenses/LICENSE-2.0\n",
              "//\n",
              "// Unless required by applicable law or agreed to in writing, software\n",
              "// distributed under the License is distributed on an \"AS IS\" BASIS,\n",
              "// WITHOUT WARRANTIES OR CONDITIONS OF ANY KIND, either express or implied.\n",
              "// See the License for the specific language governing permissions and\n",
              "// limitations under the License.\n",
              "\n",
              "/**\n",
              " * @fileoverview Helpers for google.colab Python module.\n",
              " */\n",
              "(function(scope) {\n",
              "function span(text, styleAttributes = {}) {\n",
              "  const element = document.createElement('span');\n",
              "  element.textContent = text;\n",
              "  for (const key of Object.keys(styleAttributes)) {\n",
              "    element.style[key] = styleAttributes[key];\n",
              "  }\n",
              "  return element;\n",
              "}\n",
              "\n",
              "// Max number of bytes which will be uploaded at a time.\n",
              "const MAX_PAYLOAD_SIZE = 100 * 1024;\n",
              "\n",
              "function _uploadFiles(inputId, outputId) {\n",
              "  const steps = uploadFilesStep(inputId, outputId);\n",
              "  const outputElement = document.getElementById(outputId);\n",
              "  // Cache steps on the outputElement to make it available for the next call\n",
              "  // to uploadFilesContinue from Python.\n",
              "  outputElement.steps = steps;\n",
              "\n",
              "  return _uploadFilesContinue(outputId);\n",
              "}\n",
              "\n",
              "// This is roughly an async generator (not supported in the browser yet),\n",
              "// where there are multiple asynchronous steps and the Python side is going\n",
              "// to poll for completion of each step.\n",
              "// This uses a Promise to block the python side on completion of each step,\n",
              "// then passes the result of the previous step as the input to the next step.\n",
              "function _uploadFilesContinue(outputId) {\n",
              "  const outputElement = document.getElementById(outputId);\n",
              "  const steps = outputElement.steps;\n",
              "\n",
              "  const next = steps.next(outputElement.lastPromiseValue);\n",
              "  return Promise.resolve(next.value.promise).then((value) => {\n",
              "    // Cache the last promise value to make it available to the next\n",
              "    // step of the generator.\n",
              "    outputElement.lastPromiseValue = value;\n",
              "    return next.value.response;\n",
              "  });\n",
              "}\n",
              "\n",
              "/**\n",
              " * Generator function which is called between each async step of the upload\n",
              " * process.\n",
              " * @param {string} inputId Element ID of the input file picker element.\n",
              " * @param {string} outputId Element ID of the output display.\n",
              " * @return {!Iterable<!Object>} Iterable of next steps.\n",
              " */\n",
              "function* uploadFilesStep(inputId, outputId) {\n",
              "  const inputElement = document.getElementById(inputId);\n",
              "  inputElement.disabled = false;\n",
              "\n",
              "  const outputElement = document.getElementById(outputId);\n",
              "  outputElement.innerHTML = '';\n",
              "\n",
              "  const pickedPromise = new Promise((resolve) => {\n",
              "    inputElement.addEventListener('change', (e) => {\n",
              "      resolve(e.target.files);\n",
              "    });\n",
              "  });\n",
              "\n",
              "  const cancel = document.createElement('button');\n",
              "  inputElement.parentElement.appendChild(cancel);\n",
              "  cancel.textContent = 'Cancel upload';\n",
              "  const cancelPromise = new Promise((resolve) => {\n",
              "    cancel.onclick = () => {\n",
              "      resolve(null);\n",
              "    };\n",
              "  });\n",
              "\n",
              "  // Wait for the user to pick the files.\n",
              "  const files = yield {\n",
              "    promise: Promise.race([pickedPromise, cancelPromise]),\n",
              "    response: {\n",
              "      action: 'starting',\n",
              "    }\n",
              "  };\n",
              "\n",
              "  cancel.remove();\n",
              "\n",
              "  // Disable the input element since further picks are not allowed.\n",
              "  inputElement.disabled = true;\n",
              "\n",
              "  if (!files) {\n",
              "    return {\n",
              "      response: {\n",
              "        action: 'complete',\n",
              "      }\n",
              "    };\n",
              "  }\n",
              "\n",
              "  for (const file of files) {\n",
              "    const li = document.createElement('li');\n",
              "    li.append(span(file.name, {fontWeight: 'bold'}));\n",
              "    li.append(span(\n",
              "        `(${file.type || 'n/a'}) - ${file.size} bytes, ` +\n",
              "        `last modified: ${\n",
              "            file.lastModifiedDate ? file.lastModifiedDate.toLocaleDateString() :\n",
              "                                    'n/a'} - `));\n",
              "    const percent = span('0% done');\n",
              "    li.appendChild(percent);\n",
              "\n",
              "    outputElement.appendChild(li);\n",
              "\n",
              "    const fileDataPromise = new Promise((resolve) => {\n",
              "      const reader = new FileReader();\n",
              "      reader.onload = (e) => {\n",
              "        resolve(e.target.result);\n",
              "      };\n",
              "      reader.readAsArrayBuffer(file);\n",
              "    });\n",
              "    // Wait for the data to be ready.\n",
              "    let fileData = yield {\n",
              "      promise: fileDataPromise,\n",
              "      response: {\n",
              "        action: 'continue',\n",
              "      }\n",
              "    };\n",
              "\n",
              "    // Use a chunked sending to avoid message size limits. See b/62115660.\n",
              "    let position = 0;\n",
              "    do {\n",
              "      const length = Math.min(fileData.byteLength - position, MAX_PAYLOAD_SIZE);\n",
              "      const chunk = new Uint8Array(fileData, position, length);\n",
              "      position += length;\n",
              "\n",
              "      const base64 = btoa(String.fromCharCode.apply(null, chunk));\n",
              "      yield {\n",
              "        response: {\n",
              "          action: 'append',\n",
              "          file: file.name,\n",
              "          data: base64,\n",
              "        },\n",
              "      };\n",
              "\n",
              "      let percentDone = fileData.byteLength === 0 ?\n",
              "          100 :\n",
              "          Math.round((position / fileData.byteLength) * 100);\n",
              "      percent.textContent = `${percentDone}% done`;\n",
              "\n",
              "    } while (position < fileData.byteLength);\n",
              "  }\n",
              "\n",
              "  // All done.\n",
              "  yield {\n",
              "    response: {\n",
              "      action: 'complete',\n",
              "    }\n",
              "  };\n",
              "}\n",
              "\n",
              "scope.google = scope.google || {};\n",
              "scope.google.colab = scope.google.colab || {};\n",
              "scope.google.colab._files = {\n",
              "  _uploadFiles,\n",
              "  _uploadFilesContinue,\n",
              "};\n",
              "})(self);\n",
              "</script> "
            ]
          },
          "metadata": {}
        },
        {
          "output_type": "stream",
          "name": "stdout",
          "text": [
            "Saving test.csv to test.csv\n",
            "Saving train.csv to train.csv\n"
          ]
        }
      ],
      "source": [
        "from google.colab import files\n",
        "file = files.upload()"
      ]
    },
    {
      "cell_type": "markdown",
      "metadata": {
        "id": "KwrqPGbwqPC4"
      },
      "source": [
        "## Utility functions"
      ]
    },
    {
      "cell_type": "code",
      "execution_count": 98,
      "metadata": {
        "id": "gB0q0sox1UCM"
      },
      "outputs": [],
      "source": [
        "# import pandas as pd\n",
        "# import numpy as np\n",
        "# import csv\n",
        "\n",
        "# from sklearn.utils import shuffle\n",
        "\n",
        "def clean_sentences(sentences):\n",
        "    # preprocessing\n",
        "    # 1. Removing links\n",
        "    pattern = r\"(?i)\\b((?:https?://|www\\d{0,3}[.]|[a-z0-9.\\-]+[.][a-z]{2,4}/)(?:[^\\s()<>]+|\\(([^\\s()<>]+|(\\([^\\s()<>]+\\)))*\\))+(?:\\(([^\\s()<>]+|(\\([^\\s()<>]+\\)))*\\)|[^\\s`!()\\[\\]{};:'\\\".,<>?«»“”‘’]))\"\n",
        "    sentences = [re.sub(pattern, r' ', tweet) for tweet in sentences]\n",
        "    # 2. Removing numbers\n",
        "    sentences = [re.sub(r'\\d+', r'', tweet) for tweet in sentences]\n",
        "    # 3. Replacing hastags and emojis with words and removing punctuation\n",
        "    sentences = [re.sub(r'[_:.]', r' ', emoji.demojize(re.sub(r'#(\\w+)\\b', r'\\1', sentence))) for sentence in sentences]\n",
        "    sentences = [re.sub(r'[^\\w\\s]', '', tweet) for tweet in sentences]\n",
        "    # 4. Removing handles\n",
        "    sentences = [re.sub(r'@[a-z0-9_]{1,15}', r'', tweet) for tweet in sentences]\n",
        "    # 5. lowercasing \n",
        "    sentences = [sentence.lower() for sentence in sentences]\n",
        "    # 6. Contracting elongated words\n",
        "    sentences = [re.sub(r'(.)\\1{2,}', r'\\1', tweet) for tweet in sentences]\n",
        "    # 7. Expanding contractions\n",
        "    sentences = [contractions.fix(tweet) for tweet in sentences]\n",
        "    # 8. Removing all extra spaces\n",
        "    sentences = [' '.join(tweet.split()) for tweet in sentences]\n",
        "    return sentences\n",
        "\n",
        "# filepath = 'train.csv'\n",
        "def pre_processing(filepath, split_size=None, num_classes=2, training_data=True, random_state=0, selected_text=False):\n",
        "    \"\"\"\n",
        "    Returns the training and validation data lists from the input csv path if training_data is True.\n",
        "    Else it returns testing data from the filepath. \n",
        "\n",
        "    This function is specific to the Twitter Sentiment extraction Kaggle dataset.\n",
        "    Link to data: https://www.kaggle.com/competitions/tweet-sentiment-extraction/overview\n",
        "\n",
        "    Parameters:\n",
        "        filepath (string): path to the data\n",
        "        split_size (float): train and test data ratio\n",
        "        num_classes (int): number of classes in the output labels\n",
        "        random_state (int): random_state for sklearn.shuffle\n",
        "        selected_text (bool): choosing selected text or total text from the train data\n",
        "\n",
        "    Returns:\n",
        "        if split_size is not None:\n",
        "        train_sentences (list): A list of strings for training\n",
        "        train_labels (list): A list of integers representing different classes for training\n",
        "        validation_sentences (list): A list of strings for validation\n",
        "        validation_labels (list): A list of integers representing different classes for validation\n",
        "\n",
        "        if split_size is None:\n",
        "        sentences (list): A list of strings\n",
        "        labels (list): A list of integers representing different classes\n",
        "    \"\"\"\n",
        "\n",
        "    assert num_classes == 3 or num_classes == 2, \"num_classes takes only integer values of 2 or 3\"\n",
        "\n",
        "    if training_data == True:\n",
        "        label_col, text_col = 3, 1\n",
        "    else:\n",
        "        label_col, text_col = 2, 1\n",
        "\n",
        "    sentences = []\n",
        "    labels = [] \n",
        "    with open(filepath) as f:\n",
        "        reader = csv.reader(f)\n",
        "        next(reader)\n",
        "        for row in reader:\n",
        "            if len(row[text_col]) <= 0: # Min number of characters\n",
        "                continue\n",
        "            # Appending classes: positive:1, negative:0, neutral:2\n",
        "            if num_classes == 3:\n",
        "                labels.append(0 if row[label_col]=='negative' else 1 if row[label_col]=='positive' else 2)\n",
        "            elif num_classes == 2:\n",
        "                if row[label_col] == 'neutral': continue\n",
        "                labels.append(0 if row[label_col]=='negative' else 1)\n",
        "            else:\n",
        "                raise ValueError(\"num_classes takes only integer values of 2 or 3\")\n",
        "\n",
        "            sentences.append(row[text_col])\n",
        "\n",
        "    # shuffling the data\n",
        "    sentences, labels = shuffle(sentences, labels, random_state=random_state)\n",
        "\n",
        "    sentences = clean_sentences(sentences)\n",
        "    \n",
        "    if split_size is not None:\n",
        "        train_size = int(len(sentences) * split_size)\n",
        "\n",
        "        # splitting the data\n",
        "        train_sentences = sentences[:train_size]\n",
        "        train_labels = labels[:train_size]\n",
        "\n",
        "        validation_sentences = sentences[train_size:]\n",
        "        validation_labels = labels[train_size:]\n",
        "\n",
        "        assert len(np.unique(train_labels)) == len(np.unique(validation_labels)), \"Training or Validation sets have missing labels. Try a different random_state.\"\n",
        "        \n",
        "        return train_sentences, train_labels, validation_sentences, validation_labels\n",
        "    \n",
        "    else:\n",
        "        return sentences, labels\n",
        "\n",
        "# Plot Utility\n",
        "def plot_graphs(history, string):\n",
        "    \"\"\"Plots the train or validation losses and accuracies for each epoch.\"\"\"\n",
        "    plt.plot(history.history[string])\n",
        "    plt.plot(history.history['val_'+string])\n",
        "    plt.xlabel(\"Epochs\")\n",
        "    plt.ylabel(string)\n",
        "    plt.legend([string, 'validation '+string])\n",
        "    plt.title(f'{string.title()} vs Epoch')\n",
        "    plt.show()\n",
        "\n",
        "\n",
        "## Saving entire model\n",
        "def save_model_tokenizer(model, tokenizer, name_tag='my', folder='saved_model'):\n",
        "    subprocess.run(\"mkdir -p saved_model\".split())\n",
        "    \n",
        "    # Saving tokenizer\n",
        "    with open('{}/{}_tokenizer.pickle'.format(folder, name_tag), 'wb') as handle:\n",
        "        pickle.dump(tokenizer, handle, protocol=pickle.HIGHEST_PROTOCOL)\n",
        "\n",
        "    # Saving model\n",
        "    model.save(os.path.join(folder, '{}_model'.format(name_tag)))\n",
        "\n",
        "def text_preprocessing(sentences):\n",
        "    # 1. Hastags to words, Emojis to text, replace '_', ':' and '.' with space ' '\n",
        "    cleaned_sentences = [re.sub(r'[_:.]', r' ', emoji.demojize(re.sub(r'#(\\w+)\\b', r'\\1', sentence))) for sentence in sentences]\n",
        "    # # 2. Removing stop words\n",
        "    # en = spacy.load('en_core_web_sm')\n",
        "    # sw_spacy = en.Defaults.stop_words\n",
        "    # cleaned_sentences = [' '.join([word for word in sentence.split() if word not in sw_spacy]) for sentence in cleaned_sentences]\n",
        "    return cleaned_sentences\n",
        "\n",
        "def transform_tweets(tweets, tokenizer, max_length=35):\n",
        "    sequences = tokenizer.texts_to_sequences(tweets)\n",
        "    padded = pad_sequences(sequences,maxlen=max_length)\n",
        "    return padded\n",
        "\n",
        "\n",
        "class TSAClassifier:\n",
        "    def __init__(self, model_path, tokenizer_path, max_length=35, print_summary=False):\n",
        "        self.model = tf.keras.models.load_model(model_path)\n",
        "        with open(tokenizer_path, 'rb') as handle:\n",
        "            self.tokenizer = pickle.load(handle)\n",
        "        if print_summary == True:\n",
        "            self.model.summary()\n",
        "        self.max_length = max_length\n",
        "    \n",
        "    def predict(self, input_sentences, round_results=True):\n",
        "        input_sentences = self.clean_sentences(input_sentences)\n",
        "        sequences = self.tokenizer.texts_to_sequences(input_sentences)\n",
        "        padded_sequences = pad_sequences(sequences, maxlen=self.max_length)\n",
        "        if round_results:\n",
        "                return np.round(self.model.predict(padded_sequences))#.tolist()\n",
        "        return self.model.predict(padded_sequences)#.tolist()\n",
        "    \n",
        "    @staticmethod\n",
        "    def clean_sentences(sentences):\n",
        "        # preprocessing\n",
        "        # 1. Removing links\n",
        "        pattern = r\"(?i)\\b((?:https?://|www\\d{0,3}[.]|[a-z0-9.\\-]+[.][a-z]{2,4}/)(?:[^\\s()<>]+|\\(([^\\s()<>]+|(\\([^\\s()<>]+\\)))*\\))+(?:\\(([^\\s()<>]+|(\\([^\\s()<>]+\\)))*\\)|[^\\s`!()\\[\\]{};:'\\\".,<>?«»“”‘’]))\"\n",
        "        sentences = [re.sub(pattern, r' ', tweet) for tweet in sentences]\n",
        "        # 2. Removing numbers\n",
        "        sentences = [re.sub(r'\\d+', r'', tweet) for tweet in sentences]\n",
        "        # 3. Replacing hastags and emojis with words and removing punctuation\n",
        "        sentences = [re.sub(r'[_:.]', r' ', emoji.demojize(re.sub(r'#(\\w+)\\b', r'\\1', sentence))) for sentence in sentences]\n",
        "        sentences = [re.sub(r'[^\\w\\s]', '', tweet) for tweet in sentences]\n",
        "        # 4. Removing handles\n",
        "        sentences = [re.sub(r'@[a-z0-9_]{1,15}', r'', tweet) for tweet in sentences]\n",
        "        # 5. lowercasing \n",
        "        sentences = [sentence.lower() for sentence in sentences]\n",
        "        # 6. Contracting elongated words\n",
        "        sentences = [re.sub(r'(.)\\1{2,}', r'\\1', tweet) for tweet in sentences]\n",
        "        # 7. Expanding contractions\n",
        "        sentences = [contractions.fix(tweet) for tweet in sentences]\n",
        "        # 8. Removing all extra spaces\n",
        "        sentences = [' '.join(tweet.split()) for tweet in sentences]\n",
        "        return sentences\n"
      ]
    },
    {
      "cell_type": "code",
      "source": [
        "text = 'soooo hiiiii whyyyy done @elonmusk 3934 #hello I\\'ve worked sooo hard! Gfg, is_ best : for ! Geeks ;'\n",
        "clean_sentences([text])"
      ],
      "metadata": {
        "colab": {
          "base_uri": "https://localhost:8080/"
        },
        "id": "jKX1XhpEDY6_",
        "outputId": "fe09f5d2-be97-4b61-e0e7-8b3533c75717"
      },
      "execution_count": 99,
      "outputs": [
        {
          "output_type": "execute_result",
          "data": {
            "text/plain": [
              "['so hi why done elonmusk hello i have worked so hard gfg is best for geeks']"
            ]
          },
          "metadata": {},
          "execution_count": 99
        }
      ]
    },
    {
      "cell_type": "markdown",
      "metadata": {
        "id": "-acu5_Pys1zw"
      },
      "source": [
        "## Modeling: Twitter data"
      ]
    },
    {
      "cell_type": "markdown",
      "metadata": {
        "id": "KldIfj6TQqE1"
      },
      "source": [
        "### Preparing Data"
      ]
    },
    {
      "cell_type": "code",
      "execution_count": 100,
      "metadata": {
        "id": "Ol-egFem3gBe"
      },
      "outputs": [],
      "source": [
        "# import tensorflow as tf \n",
        "# from tensorflow.keras.preprocessing.text import Tokenizer\n",
        "# from tensorflow.keras.preprocessing.sequence import pad_sequences "
      ]
    },
    {
      "cell_type": "code",
      "execution_count": 101,
      "metadata": {
        "id": "Msfl5noisJaw"
      },
      "outputs": [],
      "source": [
        "# Global Parameters\n",
        "vocab_size = 10000\n",
        "max_length = 35\n",
        "oov_token = '<OOV>'\n",
        "trunc_type = 'post'\n",
        "padding_type = 'post'"
      ]
    },
    {
      "cell_type": "code",
      "execution_count": 102,
      "metadata": {
        "colab": {
          "base_uri": "https://localhost:8080/"
        },
        "id": "oekbLt5s-U93",
        "outputId": "87e2adb3-fad2-4079-ecd0-e9e40fd90fea"
      },
      "outputs": [
        {
          "output_type": "stream",
          "name": "stdout",
          "text": [
            "Training examples: 14726\n",
            "\tPositive examples: 7737\n",
            "\tNegative examples: 6989\n",
            "Validation examples: 1637\n",
            "\tPositive examples: 845\n",
            "\tNegative examples: 792\n",
            "Test examples: 2104\n",
            "\tPositive examples: 1103\n",
            "\tNegative examples: 1001\n",
            "Corpus size: 16100\n"
          ]
        }
      ],
      "source": [
        "filepath = 'train.csv'\n",
        "train_sentences, train_labels, validation_sentences, validation_labels = pre_processing(filepath, split_size=0.9, training_data=True)\n",
        "filepath = 'test.csv'\n",
        "test_sentences, test_labels = pre_processing(filepath, training_data=False)\n",
        "\n",
        "print('Training examples:', len(train_sentences))\n",
        "print('\\tPositive examples:', sum([1 for label in train_labels if label == 1 ]))\n",
        "print('\\tNegative examples:', sum([1 for label in train_labels if label == 0 ]))\n",
        "print('Validation examples:', len(validation_sentences))\n",
        "print('\\tPositive examples:', sum([1 for label in validation_labels if label == 1 ]))\n",
        "print('\\tNegative examples:', sum([1 for label in validation_labels if label == 0 ]))\n",
        "print('Test examples:', len(test_sentences))\n",
        "print('\\tPositive examples:', sum([1 for label in test_labels if label == 1 ]))\n",
        "print('\\tNegative examples:', sum([1 for label in test_labels if label == 0 ]))\n",
        "\n",
        "tokenizer = Tokenizer(num_words=vocab_size, oov_token=oov_token)\n",
        "tokenizer.fit_on_texts(train_sentences)\n",
        "\n",
        "word_index = tokenizer.word_index\n",
        "index_word = tokenizer.index_word\n",
        "print('Corpus size:', len(word_index))\n",
        "\n",
        "# Tokenizing training data\n",
        "num_classes = 2\n",
        "train_sequences = tokenizer.texts_to_sequences(train_sentences)\n",
        "padded_train_sequences = pad_sequences(train_sequences, maxlen=max_length, padding=padding_type, truncating=trunc_type)\n",
        "# train_labels = tf.keras.utils.to_categorical(np.array(train_labels), num_classes=num_classes, dtype='float32')\n",
        "\n",
        "# Tokenizing validation data\n",
        "validation_sequences = tokenizer.texts_to_sequences(validation_sentences)\n",
        "padded_validation_sequences = pad_sequences(validation_sequences, maxlen=max_length, padding=padding_type, truncating=trunc_type)\n",
        "# validation_labels = tf.keras.utils.to_categorical(np.array(validation_labels), num_classes=num_classes, dtype='float32')\n",
        "\n",
        "# Tokenizing test data\n",
        "test_sequences = tokenizer.texts_to_sequences(test_sentences)\n",
        "padded_test_sequences = pad_sequences(test_sequences,  maxlen=max_length, padding=padding_type, truncating=trunc_type)\n",
        "# test_labels = tf.keras.utils.to_categorical(np.array(test_labels), num_classes=num_classes, dtype='float32')\n"
      ]
    },
    {
      "cell_type": "code",
      "source": [
        "import csv\n",
        "with open('sentiment_train_data.csv', 'w') as f:\n",
        "    writer = csv.writer(f)\n",
        "    for text, label in zip(train_sentences, train_labels):\n",
        "        writer.writerow([text, label])\n",
        "\n",
        "with open('sentiment_validation_data.csv', 'w') as f:\n",
        "    writer = csv.writer(f)\n",
        "    for text, label in zip(validation_sentences, validation_labels):\n",
        "        writer.writerow([text, label])"
      ],
      "metadata": {
        "id": "MjOVTXxSq0NW"
      },
      "execution_count": 103,
      "outputs": []
    },
    {
      "cell_type": "code",
      "execution_count": 104,
      "metadata": {
        "id": "mO0xpCmXfRJD"
      },
      "outputs": [],
      "source": [
        "train_labels = np.array(train_labels)\n",
        "validation_labels = np.array(validation_labels)\n",
        "test_labels = np.array(test_labels)"
      ]
    },
    {
      "cell_type": "markdown",
      "metadata": {
        "id": "ksJk5hogSBUX"
      },
      "source": [
        "### Downloading Twitter GloVe Embeddings"
      ]
    },
    {
      "cell_type": "code",
      "execution_count": null,
      "metadata": {
        "colab": {
          "base_uri": "https://localhost:8080/"
        },
        "id": "WuNLUNY8jAkO",
        "outputId": "5caa9011-e6d2-47ba-d343-757dbf1b7826"
      },
      "outputs": [
        {
          "output_type": "stream",
          "name": "stdout",
          "text": [
            "--2023-05-04 11:36:01--  https://nlp.stanford.edu/data/glove.twitter.27B.zip\n",
            "Resolving nlp.stanford.edu (nlp.stanford.edu)... 171.64.67.140\n",
            "Connecting to nlp.stanford.edu (nlp.stanford.edu)|171.64.67.140|:443... connected.\n",
            "HTTP request sent, awaiting response... 301 Moved Permanently\n",
            "Location: https://downloads.cs.stanford.edu/nlp/data/glove.twitter.27B.zip [following]\n",
            "--2023-05-04 11:36:01--  https://downloads.cs.stanford.edu/nlp/data/glove.twitter.27B.zip\n",
            "Resolving downloads.cs.stanford.edu (downloads.cs.stanford.edu)... 171.64.64.22\n",
            "Connecting to downloads.cs.stanford.edu (downloads.cs.stanford.edu)|171.64.64.22|:443... connected.\n",
            "HTTP request sent, awaiting response... 200 OK\n",
            "Length: 1520408563 (1.4G) [application/zip]\n",
            "Saving to: ‘glove.twitter.27B.zip’\n",
            "\n",
            "glove.twitter.27B.z  99%[==================> ]   1.41G  5.07MB/s    eta 1s     "
          ]
        }
      ],
      "source": [
        "!wget https://nlp.stanford.edu/data/glove.twitter.27B.zip"
      ]
    },
    {
      "cell_type": "code",
      "execution_count": null,
      "metadata": {
        "id": "qbn848rZjRKu"
      },
      "outputs": [],
      "source": [
        "!unzip -q glove.twitter.27B.zip"
      ]
    },
    {
      "cell_type": "code",
      "execution_count": null,
      "metadata": {
        "id": "Xlj3xQfea4ws"
      },
      "outputs": [],
      "source": [
        "!du ."
      ]
    },
    {
      "cell_type": "code",
      "execution_count": 105,
      "metadata": {
        "id": "gzuMiOAbkb20"
      },
      "outputs": [],
      "source": [
        "glove_embeddings = ['glove.twitter.27B.25d.txt',\n",
        "                    'glove.twitter.27B.50d.txt',\n",
        "                    'glove.twitter.27B.100d.txt',\n",
        "                    'glove.twitter.27B.200d.txt',\n",
        "                    ]\n",
        "\n",
        "embedding_dim = 200\n",
        "index = 0\n",
        "for i, filename in enumerate(glove_embeddings):\n",
        "    if str(embedding_dim) in filename:\n",
        "        index = i\n",
        "\n",
        "filepath = glove_embeddings[i]\n",
        "\n",
        "embeddings_index = {}\n",
        "with open(filepath) as f:\n",
        "    for line in f:\n",
        "        word, coefs = line.split(maxsplit=1)\n",
        "        coefs = np.fromstring(coefs, \"f\", sep=\" \")\n",
        "        embeddings_index[word] = coefs"
      ]
    },
    {
      "cell_type": "code",
      "execution_count": 106,
      "metadata": {
        "id": "-M0TTZP2lXXo",
        "colab": {
          "base_uri": "https://localhost:8080/"
        },
        "outputId": "af2b671d-9753-460f-9cc5-7b0f7b90b7e7"
      },
      "outputs": [
        {
          "output_type": "execute_result",
          "data": {
            "text/plain": [
              "1193514"
            ]
          },
          "metadata": {},
          "execution_count": 106
        }
      ],
      "source": [
        "len(embeddings_index)"
      ]
    },
    {
      "cell_type": "markdown",
      "metadata": {
        "id": "gj1DA_4CQ-9N"
      },
      "source": [
        "### Creating the Embedding matrix"
      ]
    },
    {
      "cell_type": "code",
      "execution_count": 108,
      "metadata": {
        "id": "6Zys-nRJl9Gq"
      },
      "outputs": [],
      "source": [
        "# vocab_size = 10000\n",
        "# embedding_dim = 50 * 4 # variable exists at code where we load embeddings\n",
        "num_tokens = vocab_size + 1\n",
        "\n",
        "embedding_matrix = np.zeros((num_tokens, embedding_dim))\n",
        "for index in range(2, num_tokens):\n",
        "    word = index_word[index]\n",
        "    embedding_vector = embeddings_index.get(word)\n",
        "    if embedding_vector is not None:\n",
        "        embedding_matrix[index] = embedding_vector"
      ]
    },
    {
      "cell_type": "markdown",
      "metadata": {
        "id": "_s9Q5UDpeJcZ"
      },
      "source": [
        "### Model 4.1: LSTM-CNN Model (GloVe, two classes)"
      ]
    },
    {
      "cell_type": "code",
      "execution_count": 109,
      "metadata": {
        "colab": {
          "base_uri": "https://localhost:8080/"
        },
        "id": "4K8UFv79eJcZ",
        "outputId": "f7a0d2d9-3bc2-45d9-8f70-0fcf692c30b2"
      },
      "outputs": [
        {
          "output_type": "stream",
          "name": "stdout",
          "text": [
            "Model: \"sequential_5\"\n",
            "_________________________________________________________________\n",
            " Layer (type)                Output Shape              Param #   \n",
            "=================================================================\n",
            " embedding_5 (Embedding)     (None, 35, 200)           2000200   \n",
            "                                                                 \n",
            " bidirectional_5 (Bidirectio  (None, 35, 64)           59648     \n",
            " nal)                                                            \n",
            "                                                                 \n",
            " dropout_15 (Dropout)        (None, 35, 64)            0         \n",
            "                                                                 \n",
            " conv1d_5 (Conv1D)           (None, 31, 64)            20544     \n",
            "                                                                 \n",
            " global_average_pooling1d_5   (None, 64)               0         \n",
            " (GlobalAveragePooling1D)                                        \n",
            "                                                                 \n",
            " re_lu_5 (ReLU)              (None, 64)                0         \n",
            "                                                                 \n",
            " dropout_16 (Dropout)        (None, 64)                0         \n",
            "                                                                 \n",
            " dense_10 (Dense)            (None, 24)                1560      \n",
            "                                                                 \n",
            " dropout_17 (Dropout)        (None, 24)                0         \n",
            "                                                                 \n",
            " dense_11 (Dense)            (None, 1)                 25        \n",
            "                                                                 \n",
            "=================================================================\n",
            "Total params: 2,081,977\n",
            "Trainable params: 81,777\n",
            "Non-trainable params: 2,000,200\n",
            "_________________________________________________________________\n",
            "\n",
            "TRAINING MODEL:\n",
            "Epoch 1/15\n",
            "461/461 [==============================] - 27s 47ms/step - loss: 0.4442 - accuracy: 0.8044 - val_loss: 0.3178 - val_accuracy: 0.8656\n",
            "Epoch 2/15\n",
            "461/461 [==============================] - 22s 48ms/step - loss: 0.3106 - accuracy: 0.8810 - val_loss: 0.2968 - val_accuracy: 0.8729\n",
            "Epoch 3/15\n",
            "461/461 [==============================] - 27s 59ms/step - loss: 0.2811 - accuracy: 0.8911 - val_loss: 0.2984 - val_accuracy: 0.8693\n",
            "Epoch 4/15\n",
            "461/461 [==============================] - 19s 42ms/step - loss: 0.2556 - accuracy: 0.9044 - val_loss: 0.3141 - val_accuracy: 0.8882\n",
            "Epoch 5/15\n",
            "461/461 [==============================] - 21s 45ms/step - loss: 0.2349 - accuracy: 0.9116 - val_loss: 0.2765 - val_accuracy: 0.8925\n",
            "Epoch 6/15\n",
            "461/461 [==============================] - 23s 50ms/step - loss: 0.2212 - accuracy: 0.9201 - val_loss: 0.2720 - val_accuracy: 0.8974\n",
            "Epoch 7/15\n",
            "461/461 [==============================] - 19s 42ms/step - loss: 0.1965 - accuracy: 0.9273 - val_loss: 0.3579 - val_accuracy: 0.8809\n",
            "Epoch 8/15\n",
            "461/461 [==============================] - 21s 45ms/step - loss: 0.1770 - accuracy: 0.9330 - val_loss: 0.4202 - val_accuracy: 0.8729\n",
            "Epoch 9/15\n",
            "461/461 [==============================] - 19s 42ms/step - loss: 0.1579 - accuracy: 0.9420 - val_loss: 0.3672 - val_accuracy: 0.8949\n",
            "Epoch 10/15\n",
            "461/461 [==============================] - 22s 48ms/step - loss: 0.1368 - accuracy: 0.9512 - val_loss: 0.5355 - val_accuracy: 0.8632\n",
            "Epoch 11/15\n",
            "461/461 [==============================] - 21s 45ms/step - loss: 0.1295 - accuracy: 0.9529 - val_loss: 0.4162 - val_accuracy: 0.8900\n",
            "Epoch 12/15\n",
            "461/461 [==============================] - 19s 42ms/step - loss: 0.1083 - accuracy: 0.9623 - val_loss: 0.4602 - val_accuracy: 0.8913\n",
            "Epoch 13/15\n",
            "461/461 [==============================] - 23s 49ms/step - loss: 0.1000 - accuracy: 0.9660 - val_loss: 0.4772 - val_accuracy: 0.8870\n",
            "Epoch 14/15\n",
            "461/461 [==============================] - 19s 42ms/step - loss: 0.0893 - accuracy: 0.9692 - val_loss: 0.4742 - val_accuracy: 0.8949\n",
            "Epoch 15/15\n",
            "461/461 [==============================] - 21s 45ms/step - loss: 0.0736 - accuracy: 0.9746 - val_loss: 0.5265 - val_accuracy: 0.8876\n",
            "\n",
            "EVALUATING MODEL ON TEST DATA:\n",
            "66/66 [==============================] - 1s 12ms/step - loss: 0.4979 - accuracy: 0.8978\n"
          ]
        }
      ],
      "source": [
        "def model_four():\n",
        "    # Parameters\n",
        "    lstm_dim = 32\n",
        "    dense_dim = 24\n",
        "    conv_filters = 64\n",
        "    dropout_rate = 0.6\n",
        "\n",
        "    # Model Definition with LSTM\n",
        "    model_lstm_conv = tf.keras.Sequential([\n",
        "        tf.keras.layers.Embedding(num_tokens, embedding_dim, input_length=max_length, \n",
        "                                embeddings_initializer=tf.keras.initializers.Constant(embedding_matrix),\n",
        "                                trainable=False),\n",
        "        tf.keras.layers.Bidirectional(tf.keras.layers.LSTM(lstm_dim, return_sequences=True)),\n",
        "        tf.keras.layers.Dropout(dropout_rate),\n",
        "        # tf.keras.layers.Bidirectional(tf.keras.layers.LSTM(lstm_dim)),\n",
        "        # tf.keras.layers.Dropout(dropout_rate),\n",
        "        tf.keras.layers.Conv1D(conv_filters, 5),\n",
        "        tf.keras.layers.GlobalAveragePooling1D(),\n",
        "        tf.keras.layers.ReLU(),\n",
        "        tf.keras.layers.Dropout(dropout_rate),\n",
        "        tf.keras.layers.Dense(dense_dim, activation='relu'),\n",
        "        tf.keras.layers.Dropout(dropout_rate),\n",
        "        tf.keras.layers.Dense(1, activation='sigmoid'),\n",
        "    ])\n",
        "\n",
        "    # Set the training parameters\n",
        "    model_lstm_conv.compile(loss='binary_crossentropy', optimizer='adam', metrics=['accuracy'])\n",
        "\n",
        "    # Print the model summary\n",
        "    model_lstm_conv.summary()\n",
        "\n",
        "    NUM_EPOCHS = 15\n",
        "\n",
        "    # Train the model\n",
        "    print('\\nTRAINING MODEL:')\n",
        "    history_lstm_conv = model_lstm_conv.fit(padded_train_sequences, train_labels, epochs=NUM_EPOCHS, validation_data=(padded_validation_sequences, validation_labels))\n",
        "\n",
        "\n",
        "    # Evaluating on test data\n",
        "    print('\\nEVALUATING MODEL ON TEST DATA:')\n",
        "    model_lstm_conv.evaluate(padded_test_sequences, test_labels)\n",
        "\n",
        "    return history_lstm_conv, model_lstm_conv\n",
        "\n",
        "history, model = model_four()"
      ]
    },
    {
      "cell_type": "code",
      "execution_count": 110,
      "metadata": {
        "colab": {
          "base_uri": "https://localhost:8080/",
          "height": 927
        },
        "id": "jEgFNpIWk4aJ",
        "outputId": "1159509f-ee49-42fb-b079-b80d90dc36d2"
      },
      "outputs": [
        {
          "output_type": "display_data",
          "data": {
            "text/plain": [
              "<Figure size 640x480 with 1 Axes>"
            ],
            "image/png": "[encoded data removed]"
          },
          "metadata": {}
        },
        {
          "output_type": "display_data",
          "data": {
            "text/plain": [
              "<Figure size 640x480 with 1 Axes>"
            ],
            "image/png": "[encoded data removed]"
          },
          "metadata": {}
        }
      ],
      "source": [
        "# Plot the accuracy and loss history\n",
        "plot_graphs(history, 'accuracy')\n",
        "plot_graphs(history, 'loss')"
      ]
    },
    {
      "cell_type": "code",
      "source": [
        "# from tensorflow.keras.utils import plot_model\n",
        "# import pydot\n",
        "# plot_model(model, show_shapes=True, show_layer_names=True, to_file='sentiment_model.png')"
      ],
      "metadata": {
        "id": "BInaxZ2ixkfX"
      },
      "execution_count": 112,
      "outputs": []
    },
    {
      "cell_type": "code",
      "execution_count": 113,
      "metadata": {
        "colab": {
          "base_uri": "https://localhost:8080/"
        },
        "id": "nICqqpApkuid",
        "outputId": "0b213f0b-ef4e-4e89-914d-21fadd6c4ee2"
      },
      "outputs": [
        {
          "output_type": "stream",
          "name": "stderr",
          "text": [
            "WARNING:absl:Found untraced functions such as _jit_compiled_convolution_op, _update_step_xla, lstm_cell_22_layer_call_fn, lstm_cell_22_layer_call_and_return_conditional_losses, lstm_cell_23_layer_call_fn while saving (showing 5 of 6). These functions will not be directly callable after loading.\n"
          ]
        }
      ],
      "source": [
        "save_model_tokenizer(model, tokenizer, name_tag='sentiment')"
      ]
    },
    {
      "cell_type": "markdown",
      "metadata": {
        "id": "SGb2uxEaNrIt"
      },
      "source": [
        "## Sarcasm Detection"
      ]
    },
    {
      "cell_type": "markdown",
      "metadata": {
        "id": "X6dH_AAAOdpL"
      },
      "source": [
        "### Preparing Data"
      ]
    },
    {
      "cell_type": "code",
      "execution_count": 114,
      "metadata": {
        "id": "8yJtiaGOHNvr",
        "colab": {
          "base_uri": "https://localhost:8080/"
        },
        "outputId": "57bdbffe-1290-483e-d438-65e949404155"
      },
      "outputs": [
        {
          "output_type": "stream",
          "name": "stdout",
          "text": [
            "--2023-05-04 15:40:05--  https://storage.googleapis.com/tensorflow-1-public/course3/sarcasm.json\n",
            "Resolving storage.googleapis.com (storage.googleapis.com)... 142.250.141.128, 142.251.2.128, 2607:f8b0:4023:c03::80, ...\n",
            "Connecting to storage.googleapis.com (storage.googleapis.com)|142.250.141.128|:443... connected.\n",
            "HTTP request sent, awaiting response... 200 OK\n",
            "Length: 5643545 (5.4M) [application/json]\n",
            "Saving to: ‘sarcasm.json’\n",
            "\n",
            "\rsarcasm.json          0%[                    ]       0  --.-KB/s               \rsarcasm.json        100%[===================>]   5.38M  --.-KB/s    in 0.03s   \n",
            "\n",
            "2023-05-04 15:40:05 (172 MB/s) - ‘sarcasm.json’ saved [5643545/5643545]\n",
            "\n"
          ]
        }
      ],
      "source": [
        "# Download the dataset\n",
        "!wget https://storage.googleapis.com/tensorflow-1-public/course3/sarcasm.json"
      ]
    },
    {
      "cell_type": "code",
      "execution_count": 115,
      "metadata": {
        "id": "rh9-YquONyoS",
        "colab": {
          "base_uri": "https://localhost:8080/"
        },
        "outputId": "5719f86c-7305-4f66-8393-3eac95c34d6c"
      },
      "outputs": [
        {
          "output_type": "stream",
          "name": "stdout",
          "text": [
            "Dataset size: 17290\n"
          ]
        }
      ],
      "source": [
        "import json\n",
        "\n",
        "# Load the JSON file\n",
        "with open(\"./sarcasm.json\", 'r') as f:\n",
        "    datastore = json.load(f)\n",
        "\n",
        "# Initialize the lists\n",
        "sentences = []\n",
        "labels = []\n",
        "\n",
        "np.random.seed(0)\n",
        "# Collect sentences and labels into the lists\n",
        "for item in datastore:\n",
        "    if item['is_sarcastic'] == 1 and np.random.choice([0, 1], p=[0.8, 0.2]):\n",
        "        sentences.append(item['headline'])\n",
        "        labels.append(item['is_sarcastic'])\n",
        "    elif item['is_sarcastic'] == 0: \n",
        "        sentences.append(item['headline'])\n",
        "        labels.append(item['is_sarcastic'])\n",
        "\n",
        "sentences = clean_sentences(sentences)\n",
        "print('Dataset size:', len(sentences))\n"
      ]
    },
    {
      "cell_type": "code",
      "execution_count": 116,
      "metadata": {
        "id": "2q7nOK2uOGeM"
      },
      "outputs": [],
      "source": [
        "training_size = int(len(sentences)*0.9)\n",
        "\n",
        "# Split the sentences\n",
        "training_sentences = sentences[0:training_size]\n",
        "testing_sentences = sentences[training_size:]\n",
        "\n",
        "# Split the labels\n",
        "training_labels = labels[0:training_size]\n",
        "testing_labels = labels[training_size:]"
      ]
    },
    {
      "cell_type": "code",
      "source": [
        "train_labels = training_labels\n",
        "validation_labels = testing_labels\n",
        "train_sentences = training_sentences\n",
        "validation_sentences = testing_sentences\n",
        "print('Training examples:', len(train_sentences))\n",
        "print('\\tPositive examples:', sum([1 for label in train_labels if label == 1 ]))\n",
        "print('\\tNegative examples:', sum([1 for label in train_labels if label == 0 ]))\n",
        "print('Validation examples:', len(validation_sentences))\n",
        "print('\\tPositive examples:', sum([1 for label in validation_labels if label == 1 ]))\n",
        "print('\\tNegative examples:', sum([1 for label in validation_labels if label == 0 ]))\n",
        "# print('Test examples:', len(test_sentences))\n",
        "# print('\\tPositive examples:', sum([1 for label in test_labels if label == 1 ]))\n",
        "# print('\\tNegative examples:', sum([1 for label in test_labels if label == 0 ]))"
      ],
      "metadata": {
        "colab": {
          "base_uri": "https://localhost:8080/"
        },
        "id": "YgGfjkFGBCKN",
        "outputId": "ec84426b-e66a-4398-8420-a504014cb5c4"
      },
      "execution_count": 117,
      "outputs": [
        {
          "output_type": "stream",
          "name": "stdout",
          "text": [
            "Training examples: 15561\n",
            "\tPositive examples: 2092\n",
            "\tNegative examples: 13469\n",
            "Validation examples: 1729\n",
            "\tPositive examples: 213\n",
            "\tNegative examples: 1516\n"
          ]
        }
      ]
    },
    {
      "cell_type": "code",
      "source": [
        "training_data = []\n",
        "for headline, label in zip(training_sentences, training_labels):\n",
        "    training_data.append({'headline': headline, 'is_sarcastic': label})\n",
        "with open('sarcasm_training_data.json', 'w') as f:\n",
        "    json.dump(training_data, f)"
      ],
      "metadata": {
        "id": "ZPfGvtlgGet8"
      },
      "execution_count": 118,
      "outputs": []
    },
    {
      "cell_type": "code",
      "source": [
        "validation_data = []\n",
        "for headline, label in zip(testing_sentences, testing_labels):\n",
        "    validation_data.append({'headline': headline, 'is_sarcastic': label})\n",
        "with open('sarcasm_validation_data.json', 'w') as f:\n",
        "    json.dump(validation_data, f)"
      ],
      "metadata": {
        "id": "JbkBQ3G4IXKn"
      },
      "execution_count": 119,
      "outputs": []
    },
    {
      "cell_type": "markdown",
      "metadata": {
        "id": "ptRY-QvNOjMp"
      },
      "source": [
        "### Pre-processing"
      ]
    },
    {
      "cell_type": "code",
      "execution_count": 120,
      "metadata": {
        "id": "1NrHaZAeOTSm"
      },
      "outputs": [],
      "source": [
        "import numpy as np\n",
        "from tensorflow.keras.preprocessing.text import Tokenizer\n",
        "from tensorflow.keras.preprocessing.sequence import pad_sequences\n",
        "\n",
        "vocab_size = 10000\n",
        "max_length = 35\n",
        "trunc_type='post'\n",
        "padding_type='post'\n",
        "oov_tok = \"<OOV>\"\n",
        "\n",
        "# Initialize the Tokenizer class\n",
        "tokenizer = Tokenizer(num_words=vocab_size, oov_token=oov_tok)\n",
        "\n",
        "# Generate the word index dictionary\n",
        "tokenizer.fit_on_texts(training_sentences)\n",
        "word_index = tokenizer.word_index\n",
        "index_word = tokenizer.index_word\n",
        "\n",
        "# Generate and pad the training sequences\n",
        "training_sequences = tokenizer.texts_to_sequences(training_sentences)\n",
        "training_padded = pad_sequences(training_sequences, maxlen=max_length, padding=padding_type, truncating=trunc_type)\n",
        "\n",
        "# Generate and pad the testing sequences\n",
        "testing_sequences = tokenizer.texts_to_sequences(testing_sentences)\n",
        "testing_padded = pad_sequences(testing_sequences, maxlen=max_length, padding=padding_type, truncating=trunc_type)\n",
        "\n",
        "# Convert the labels lists into numpy arrays\n",
        "training_labels = np.array(training_labels)\n",
        "testing_labels = np.array(testing_labels)"
      ]
    },
    {
      "cell_type": "markdown",
      "metadata": {
        "id": "a2ETC3yfOr6Q"
      },
      "source": [
        "### Creating the Embedding matrix"
      ]
    },
    {
      "cell_type": "code",
      "execution_count": 121,
      "metadata": {
        "id": "xXCFtWbQPDJn",
        "colab": {
          "base_uri": "https://localhost:8080/"
        },
        "outputId": "0cfc93f4-1a63-47e3-a49c-e2c920990604"
      },
      "outputs": [
        {
          "output_type": "stream",
          "name": "stdout",
          "text": [
            "Embedding dimension: 200\n"
          ]
        }
      ],
      "source": [
        "# vocab_size = 10000\n",
        "# embedding_dim = 50 # variable exists at code where we load embeddings\n",
        "print('Embedding dimension:', embedding_dim)\n",
        "num_tokens = vocab_size + 1\n",
        "\n",
        "embedding_matrix = np.zeros((num_tokens, embedding_dim))\n",
        "for index in range(2, num_tokens):\n",
        "    word = index_word[index]\n",
        "    embedding_vector = embeddings_index.get(word)\n",
        "    if embedding_vector is not None:\n",
        "        embedding_matrix[index] = embedding_vector"
      ]
    },
    {
      "cell_type": "markdown",
      "source": [
        "### Model 2.1 LSTM-CNN Model (GloVe)"
      ],
      "metadata": {
        "id": "8rqz1OA4y0zw"
      }
    },
    {
      "cell_type": "code",
      "source": [
        "def model_four():\n",
        "    # Parameters\n",
        "    lstm_dim = 32\n",
        "    dense_dim = 24\n",
        "    conv_filters = 64\n",
        "    dropout_rate = 0.6\n",
        "\n",
        "    # Model Definition with LSTM\n",
        "    model_lstm_conv = tf.keras.Sequential([\n",
        "        tf.keras.layers.Embedding(num_tokens, embedding_dim, input_length=max_length, \n",
        "                                embeddings_initializer=tf.keras.initializers.Constant(embedding_matrix),\n",
        "                                trainable=False),\n",
        "        tf.keras.layers.Bidirectional(tf.keras.layers.LSTM(lstm_dim, return_sequences=True)),\n",
        "        tf.keras.layers.Dropout(dropout_rate),\n",
        "        # tf.keras.layers.Bidirectional(tf.keras.layers.LSTM(lstm_dim)),\n",
        "        # tf.keras.layers.Dropout(dropout_rate),\n",
        "        tf.keras.layers.Conv1D(conv_filters, 5),\n",
        "        tf.keras.layers.GlobalAveragePooling1D(),\n",
        "        tf.keras.layers.ReLU(),\n",
        "        tf.keras.layers.Dropout(dropout_rate),\n",
        "        tf.keras.layers.Dense(dense_dim, activation='relu'),\n",
        "        tf.keras.layers.Dropout(dropout_rate),\n",
        "        tf.keras.layers.Dense(1, activation='sigmoid'),\n",
        "    ])\n",
        "\n",
        "    # Set the training parameters\n",
        "    # model_lstm_conv.compile(loss='binary_crossentropy', optimizer='adam', metrics=['accuracy'])\n",
        "    model_lstm_conv.compile(loss='binary_crossentropy',optimizer='adam',metrics=['accuracy', tf.keras.metrics.Recall(), tf.keras.metrics.Precision()])\n",
        "\n",
        "    # Print the model summary\n",
        "    model_lstm_conv.summary()\n",
        "\n",
        "    NUM_EPOCHS = 6\n",
        "\n",
        "    # Train the model\n",
        "    print('\\nTRAINING MODEL:')\n",
        "    # history_lstm_conv = model_lstm_conv.fit(padded_train_sequences, train_labels, epochs=NUM_EPOCHS, validation_data=(padded_validation_sequences, validation_labels))\n",
        "    history_lstm_conv = model_lstm_conv.fit(training_padded, training_labels, epochs=NUM_EPOCHS, validation_data=(testing_padded, testing_labels))\n",
        "\n",
        "    return history_lstm_conv, model_lstm_conv\n",
        "\n",
        "history, model = model_four()"
      ],
      "metadata": {
        "colab": {
          "base_uri": "https://localhost:8080/"
        },
        "id": "5V6DrJBwzDpK",
        "outputId": "6806ce99-2407-4f95-803f-3899adba9559"
      },
      "execution_count": 122,
      "outputs": [
        {
          "output_type": "stream",
          "name": "stdout",
          "text": [
            "Model: \"sequential_6\"\n",
            "_________________________________________________________________\n",
            " Layer (type)                Output Shape              Param #   \n",
            "=================================================================\n",
            " embedding_6 (Embedding)     (None, 35, 200)           2000200   \n",
            "                                                                 \n",
            " bidirectional_6 (Bidirectio  (None, 35, 64)           59648     \n",
            " nal)                                                            \n",
            "                                                                 \n",
            " dropout_18 (Dropout)        (None, 35, 64)            0         \n",
            "                                                                 \n",
            " conv1d_6 (Conv1D)           (None, 31, 64)            20544     \n",
            "                                                                 \n",
            " global_average_pooling1d_6   (None, 64)               0         \n",
            " (GlobalAveragePooling1D)                                        \n",
            "                                                                 \n",
            " re_lu_6 (ReLU)              (None, 64)                0         \n",
            "                                                                 \n",
            " dropout_19 (Dropout)        (None, 64)                0         \n",
            "                                                                 \n",
            " dense_12 (Dense)            (None, 24)                1560      \n",
            "                                                                 \n",
            " dropout_20 (Dropout)        (None, 24)                0         \n",
            "                                                                 \n",
            " dense_13 (Dense)            (None, 1)                 25        \n",
            "                                                                 \n",
            "=================================================================\n",
            "Total params: 2,081,977\n",
            "Trainable params: 81,777\n",
            "Non-trainable params: 2,000,200\n",
            "_________________________________________________________________\n",
            "\n",
            "TRAINING MODEL:\n",
            "Epoch 1/6\n",
            "487/487 [==============================] - 33s 59ms/step - loss: 0.3953 - accuracy: 0.8516 - recall_2: 0.1458 - precision_2: 0.3688 - val_loss: 0.2521 - val_accuracy: 0.8971 - val_recall_2: 0.2300 - val_precision_2: 0.7778\n",
            "Epoch 2/6\n",
            "487/487 [==============================] - 24s 50ms/step - loss: 0.2733 - accuracy: 0.8995 - recall_2: 0.4039 - precision_2: 0.7272 - val_loss: 0.2254 - val_accuracy: 0.9057 - val_recall_2: 0.4977 - val_precision_2: 0.6543\n",
            "Epoch 3/6\n",
            "487/487 [==============================] - 24s 50ms/step - loss: 0.2347 - accuracy: 0.9162 - recall_2: 0.5315 - precision_2: 0.7744 - val_loss: 0.2271 - val_accuracy: 0.9138 - val_recall_2: 0.4225 - val_precision_2: 0.7759\n",
            "Epoch 4/6\n",
            "487/487 [==============================] - 25s 50ms/step - loss: 0.2077 - accuracy: 0.9267 - recall_2: 0.5884 - precision_2: 0.8147 - val_loss: 0.2361 - val_accuracy: 0.9080 - val_recall_2: 0.3521 - val_precision_2: 0.7812\n",
            "Epoch 5/6\n",
            "487/487 [==============================] - 24s 50ms/step - loss: 0.1805 - accuracy: 0.9357 - recall_2: 0.6525 - precision_2: 0.8328 - val_loss: 0.2191 - val_accuracy: 0.9144 - val_recall_2: 0.5634 - val_precision_2: 0.6857\n",
            "Epoch 6/6\n",
            "487/487 [==============================] - 25s 51ms/step - loss: 0.1561 - accuracy: 0.9445 - recall_2: 0.7041 - precision_2: 0.8579 - val_loss: 0.2277 - val_accuracy: 0.9156 - val_recall_2: 0.5211 - val_precision_2: 0.7161\n"
          ]
        }
      ]
    },
    {
      "cell_type": "code",
      "source": [
        "# Plot the accuracy and loss history\n",
        "plot_graphs(history, 'accuracy')\n",
        "plot_graphs(history, 'loss')"
      ],
      "metadata": {
        "id": "Cdq5XebRzjyo",
        "colab": {
          "base_uri": "https://localhost:8080/",
          "height": 927
        },
        "outputId": "66eb4a44-85f4-4081-ae8f-46b0958512e1"
      },
      "execution_count": 123,
      "outputs": [
        {
          "output_type": "display_data",
          "data": {
            "text/plain": [
              "<Figure size 640x480 with 1 Axes>"
            ],
            "image/png": "[encoded data removed]"
          },
          "metadata": {}
        },
        {
          "output_type": "display_data",
          "data": {
            "text/plain": [
              "<Figure size 640x480 with 1 Axes>"
            ],
            "image/png": "[encoded data removed]"
          },
          "metadata": {}
        }
      ]
    },
    {
      "cell_type": "code",
      "source": [
        "save_model_tokenizer(model, tokenizer, name_tag='sarcasm')"
      ],
      "metadata": {
        "id": "0NoS_i3puLga",
        "colab": {
          "base_uri": "https://localhost:8080/"
        },
        "outputId": "20478806-8391-4adc-c13c-fac3155960cf"
      },
      "execution_count": 124,
      "outputs": [
        {
          "output_type": "stream",
          "name": "stderr",
          "text": [
            "WARNING:absl:Found untraced functions such as _jit_compiled_convolution_op, _update_step_xla, lstm_cell_25_layer_call_fn, lstm_cell_25_layer_call_and_return_conditional_losses, lstm_cell_26_layer_call_fn while saving (showing 5 of 6). These functions will not be directly callable after loading.\n"
          ]
        }
      ]
    },
    {
      "cell_type": "code",
      "execution_count": null,
      "metadata": {
        "id": "Yc8BnWKeRRoL"
      },
      "outputs": [],
      "source": [
        "# model.save_weights('./checkpoints/my_checkpoint')"
      ]
    },
    {
      "cell_type": "code",
      "execution_count": 125,
      "metadata": {
        "id": "sg8iWGUHpwpu",
        "colab": {
          "base_uri": "https://localhost:8080/",
          "height": 364
        },
        "outputId": "dc849ae3-a0dd-4d43-b2f1-40fc64780152"
      },
      "outputs": [
        {
          "output_type": "stream",
          "name": "stdout",
          "text": [
            "tar: Removing leading `/' from member names\n",
            "/content/saved_model/\n",
            "/content/saved_model/sarcasm_tokenizer.pickle\n",
            "/content/saved_model/sarcasm_model/\n",
            "/content/saved_model/sarcasm_model/variables/\n",
            "/content/saved_model/sarcasm_model/variables/variables.data-00000-of-00001\n",
            "/content/saved_model/sarcasm_model/variables/variables.index\n",
            "/content/saved_model/sarcasm_model/saved_model.pb\n",
            "/content/saved_model/sarcasm_model/assets/\n",
            "/content/saved_model/sarcasm_model/fingerprint.pb\n",
            "/content/saved_model/sarcasm_model/keras_metadata.pb\n",
            "/content/saved_model/sentiment_tokenizer.pickle\n",
            "/content/saved_model/sentiment_model/\n",
            "/content/saved_model/sentiment_model/variables/\n",
            "/content/saved_model/sentiment_model/variables/variables.data-00000-of-00001\n",
            "/content/saved_model/sentiment_model/variables/variables.index\n",
            "/content/saved_model/sentiment_model/saved_model.pb\n",
            "/content/saved_model/sentiment_model/assets/\n",
            "/content/saved_model/sentiment_model/fingerprint.pb\n",
            "/content/saved_model/sentiment_model/keras_metadata.pb\n"
          ]
        },
        {
          "output_type": "display_data",
          "data": {
            "text/plain": [
              "<IPython.core.display.Javascript object>"
            ],
            "application/javascript": [
              "\n",
              "    async function download(id, filename, size) {\n",
              "      if (!google.colab.kernel.accessAllowed) {\n",
              "        return;\n",
              "      }\n",
              "      const div = document.createElement('div');\n",
              "      const label = document.createElement('label');\n",
              "      label.textContent = `Downloading \"${filename}\": `;\n",
              "      div.appendChild(label);\n",
              "      const progress = document.createElement('progress');\n",
              "      progress.max = size;\n",
              "      div.appendChild(progress);\n",
              "      document.body.appendChild(div);\n",
              "\n",
              "      const buffers = [];\n",
              "      let downloaded = 0;\n",
              "\n",
              "      const channel = await google.colab.kernel.comms.open(id);\n",
              "      // Send a message to notify the kernel that we're ready.\n",
              "      channel.send({})\n",
              "\n",
              "      for await (const message of channel.messages) {\n",
              "        // Send a message to notify the kernel that we're ready.\n",
              "        channel.send({})\n",
              "        if (message.buffers) {\n",
              "          for (const buffer of message.buffers) {\n",
              "            buffers.push(buffer);\n",
              "            downloaded += buffer.byteLength;\n",
              "            progress.value = downloaded;\n",
              "          }\n",
              "        }\n",
              "      }\n",
              "      const blob = new Blob(buffers, {type: 'application/binary'});\n",
              "      const a = document.createElement('a');\n",
              "      a.href = window.URL.createObjectURL(blob);\n",
              "      a.download = filename;\n",
              "      div.appendChild(a);\n",
              "      a.click();\n",
              "      div.remove();\n",
              "    }\n",
              "  "
            ]
          },
          "metadata": {}
        },
        {
          "output_type": "display_data",
          "data": {
            "text/plain": [
              "<IPython.core.display.Javascript object>"
            ],
            "application/javascript": [
              "download(\"download_47c563fa-62a7-43dd-a230-f19ff639a65e\", \"tweet_classification_models.tar.gz\", 113280858)"
            ]
          },
          "metadata": {}
        }
      ],
      "source": [
        "# !zip -r /content/tweet_classification_models.zip /content/saved_model\n",
        "!tar -czvf /content/tweet_classification_models.tar.gz /content/saved_model\n",
        "\n",
        "from google.colab import files\n",
        "files.download(\"/content/tweet_classification_models.tar.gz\")"
      ]
    },
    {
      "cell_type": "code",
      "source": [
        "!tar -czvf /content/all_data.tar.gz /content/sentiment_train_data.csv\\\n",
        "/content/sentiment_validation_data.csv\\\n",
        "/content/sarcasm_training_data.json\\\n",
        "/content/sarcasm_validation_data.json\n",
        "\n",
        "files.download(\"/content/all_data.tar.gz\")"
      ],
      "metadata": {
        "id": "JgLkHNXgNH00",
        "colab": {
          "base_uri": "https://localhost:8080/",
          "height": 121
        },
        "outputId": "d8bf4464-b60c-47dd-c054-3f0badb86ca4"
      },
      "execution_count": 139,
      "outputs": [
        {
          "output_type": "stream",
          "name": "stdout",
          "text": [
            "tar: Removing leading `/' from member names\n",
            "/content/sentiment_train_data.csv\n",
            "tar: Removing leading `/' from hard link targets\n",
            "/content/sentiment_validation_data.csv\n",
            "/content/sarcasm_training_data.json\n",
            "/content/sarcasm_validation_data.json\n"
          ]
        },
        {
          "output_type": "display_data",
          "data": {
            "text/plain": [
              "<IPython.core.display.Javascript object>"
            ],
            "application/javascript": [
              "\n",
              "    async function download(id, filename, size) {\n",
              "      if (!google.colab.kernel.accessAllowed) {\n",
              "        return;\n",
              "      }\n",
              "      const div = document.createElement('div');\n",
              "      const label = document.createElement('label');\n",
              "      label.textContent = `Downloading \"${filename}\": `;\n",
              "      div.appendChild(label);\n",
              "      const progress = document.createElement('progress');\n",
              "      progress.max = size;\n",
              "      div.appendChild(progress);\n",
              "      document.body.appendChild(div);\n",
              "\n",
              "      const buffers = [];\n",
              "      let downloaded = 0;\n",
              "\n",
              "      const channel = await google.colab.kernel.comms.open(id);\n",
              "      // Send a message to notify the kernel that we're ready.\n",
              "      channel.send({})\n",
              "\n",
              "      for await (const message of channel.messages) {\n",
              "        // Send a message to notify the kernel that we're ready.\n",
              "        channel.send({})\n",
              "        if (message.buffers) {\n",
              "          for (const buffer of message.buffers) {\n",
              "            buffers.push(buffer);\n",
              "            downloaded += buffer.byteLength;\n",
              "            progress.value = downloaded;\n",
              "          }\n",
              "        }\n",
              "      }\n",
              "      const blob = new Blob(buffers, {type: 'application/binary'});\n",
              "      const a = document.createElement('a');\n",
              "      a.href = window.URL.createObjectURL(blob);\n",
              "      a.download = filename;\n",
              "      div.appendChild(a);\n",
              "      a.click();\n",
              "      div.remove();\n",
              "    }\n",
              "  "
            ]
          },
          "metadata": {}
        },
        {
          "output_type": "display_data",
          "data": {
            "text/plain": [
              "<IPython.core.display.Javascript object>"
            ],
            "application/javascript": [
              "download(\"download_683b60e7-5628-445e-9a10-553ada6d2e19\", \"all_data.tar.gz\", 907868)"
            ]
          },
          "metadata": {}
        }
      ]
    },
    {
      "cell_type": "code",
      "source": [
        "!du saved_model"
      ],
      "metadata": {
        "colab": {
          "base_uri": "https://localhost:8080/"
        },
        "id": "bn3dPal2fuCS",
        "outputId": "cc5e8aac-23e3-4ca8-9c63-ebb31647579c"
      },
      "execution_count": 127,
      "outputs": [
        {
          "output_type": "stream",
          "name": "stdout",
          "text": [
            "8796\tsaved_model/sarcasm_model/variables\n",
            "4\tsaved_model/sarcasm_model/assets\n",
            "132268\tsaved_model/sarcasm_model\n",
            "8796\tsaved_model/sentiment_model/variables\n",
            "4\tsaved_model/sentiment_model/assets\n",
            "127988\tsaved_model/sentiment_model\n",
            "261660\tsaved_model\n"
          ]
        }
      ]
    },
    {
      "cell_type": "markdown",
      "source": [
        "## Combined Model performance "
      ],
      "metadata": {
        "id": "UFg2088Xx2Dh"
      }
    },
    {
      "cell_type": "code",
      "source": [
        "# Note: Make sure the paths to the model and Sentiment data are correct below in the 'load_model' function\n",
        "# and 'filepath' variables"
      ],
      "metadata": {
        "id": "d7jQ0Wyz5iCt"
      },
      "execution_count": null,
      "outputs": []
    },
    {
      "cell_type": "code",
      "source": [
        "import emoji\n",
        "# import snscrape.modules.twitter as sntwitter\n",
        "\n",
        "import os\n",
        "import sys\n",
        "import re\n",
        "import pickle\n",
        "import json\n",
        "\n",
        "import numpy as np\n",
        "import tensorflow as tf \n",
        "from tensorflow.keras.preprocessing.text import Tokenizer\n",
        "from tensorflow.keras.preprocessing.sequence import pad_sequences "
      ],
      "metadata": {
        "id": "Kmp9VKjnyZMG"
      },
      "execution_count": 128,
      "outputs": []
    },
    {
      "cell_type": "code",
      "source": [
        "class TSAClassifier:\n",
        "    def __init__(self, model_path, tokenizer_path, max_length=35, print_summary=False):\n",
        "        self.model = tf.keras.models.load_model(model_path)\n",
        "        with open(tokenizer_path, 'rb') as handle:\n",
        "            self.tokenizer = pickle.load(handle)\n",
        "        if print_summary == True:\n",
        "            self.model.summary()\n",
        "        self.max_length = max_length\n",
        "    \n",
        "    def predict(self, input_sentences, round_results=True):\n",
        "        input_sentences = self.clean_sentences(input_sentences)\n",
        "        sequences = self.tokenizer.texts_to_sequences(input_sentences)\n",
        "        padded_sequences = pad_sequences(sequences, maxlen=self.max_length)\n",
        "        if round_results:\n",
        "                return np.round(self.model.predict(padded_sequences))#.tolist()\n",
        "        return self.model.predict(padded_sequences)#.tolist()\n",
        "    \n",
        "    @staticmethod\n",
        "    def clean_sentences(sentences):\n",
        "        # preprocessing\n",
        "        # 1. Removing links\n",
        "        pattern = r\"(?i)\\b((?:https?://|www\\d{0,3}[.]|[a-z0-9.\\-]+[.][a-z]{2,4}/)(?:[^\\s()<>]+|\\(([^\\s()<>]+|(\\([^\\s()<>]+\\)))*\\))+(?:\\(([^\\s()<>]+|(\\([^\\s()<>]+\\)))*\\)|[^\\s`!()\\[\\]{};:'\\\".,<>?«»“”‘’]))\"\n",
        "        sentences = [re.sub(pattern, r' ', tweet) for tweet in sentences]\n",
        "        # 2. Removing numbers\n",
        "        sentences = [re.sub(r'\\d+', r'', tweet) for tweet in sentences]\n",
        "        # 3. Replacing hastags and emojis with words and removing punctuation\n",
        "        sentences = [re.sub(r'[_:.]', r' ', emoji.demojize(re.sub(r'#(\\w+)\\b', r'\\1', sentence))) for sentence in sentences]\n",
        "        sentences = [re.sub(r'[^\\w\\s]', '', tweet) for tweet in sentences]\n",
        "        # 4. Removing handles\n",
        "        sentences = [re.sub(r'@[a-z0-9_]{1,15}', r'', tweet) for tweet in sentences]\n",
        "        # 5. lowercasing \n",
        "        sentences = [sentence.lower() for sentence in sentences]\n",
        "        # 6. Contracting elongated words\n",
        "        sentences = [re.sub(r'(.)\\1{2,}', r'\\1', tweet) for tweet in sentences]\n",
        "        # 7. Expanding contractions\n",
        "        sentences = [contractions.fix(tweet) for tweet in sentences]\n",
        "        # 8. Removing all extra spaces\n",
        "        sentences = [' '.join(tweet.split()) for tweet in sentences]\n",
        "        return sentences\n",
        "\n",
        "def load_model():\n",
        "    model_path = os.path.join(os.getcwd(), 'saved_model', 'sentiment_model')\n",
        "    tokenizer_path = os.path.join(os.getcwd(), 'saved_model', 'sentiment_tokenizer.pickle')\n",
        "\n",
        "    sentiment_model = TSAClassifier(model_path, tokenizer_path, max_length=35)\n",
        "\n",
        "    model_path = os.path.join(os.getcwd(), 'saved_model', 'sarcasm_model')\n",
        "    tokenizer_path = os.path.join(os.getcwd(), 'saved_model', 'sarcasm_tokenizer.pickle')\n",
        "\n",
        "    sarcasm_model = TSAClassifier(model_path, tokenizer_path, max_length=35)\n",
        "\n",
        "    return sentiment_model, sarcasm_model\n",
        "\n",
        "\n",
        "def load_sentiment_data(filepath):\n",
        "    sentences = []\n",
        "    labels = [] \n",
        "    with open(filepath) as f:\n",
        "        reader = csv.reader(f)\n",
        "        next(reader)\n",
        "        for row in reader:\n",
        "            labels.append(int(row[1]))\n",
        "            sentences.append(row[0])\n",
        "\n",
        "    sentences = clean_sentences(sentences)\n",
        "\n",
        "    return sentences, labels\n",
        "\n",
        "def load_sarcasm_data(filepath):\n",
        "    with open(filepath, 'r') as f:\n",
        "        datastore = json.load(f)\n",
        "\n",
        "    # Initialize the lists\n",
        "    sentences = []\n",
        "    labels = []\n",
        "\n",
        "    # Collect sentences and labels into the lists\n",
        "    for item in datastore:\n",
        "        sentences.append(item['headline'])\n",
        "        labels.append(int(item['is_sarcastic']))\n",
        "\n",
        "    sentences = clean_sentences(sentences)\n",
        "\n",
        "    return sentences, labels"
      ],
      "metadata": {
        "id": "CadAkMpBya5p"
      },
      "execution_count": 129,
      "outputs": []
    },
    {
      "cell_type": "code",
      "source": [
        "sentiment_model, sarcasm_model = load_model()"
      ],
      "metadata": {
        "id": "7Y1R9731yiHN"
      },
      "execution_count": 130,
      "outputs": []
    },
    {
      "cell_type": "code",
      "source": [
        "# Loading Sentiment data (saved train and validation data)\n",
        "filepath = 'sentiment_train_data.csv'\n",
        "train_sentences, train_labels = load_sentiment_data(filepath)\n",
        "filepath = 'sentiment_validation_data.csv'\n",
        "validation_sentences, validation_labels = load_sentiment_data(filepath)"
      ],
      "metadata": {
        "id": "_WppV_jFJekr"
      },
      "execution_count": 131,
      "outputs": []
    },
    {
      "cell_type": "code",
      "source": [
        "# Checking examples\n",
        "index = 4\n",
        "print(validation_sentences[index])\n",
        "print(validation_labels[index], type(validation_labels[index]))"
      ],
      "metadata": {
        "id": "EOGz54F42jkw",
        "colab": {
          "base_uri": "https://localhost:8080/"
        },
        "outputId": "04978528-9b0a-465c-f3d1-e12e90edfba1"
      },
      "execution_count": 132,
      "outputs": [
        {
          "output_type": "stream",
          "name": "stdout",
          "text": [
            "stellar you look great\n",
            "1 <class 'int'>\n"
          ]
        }
      ]
    },
    {
      "cell_type": "code",
      "source": [
        "# # Loading Sarcasm data (saved train and validation data)\n",
        "# filepath = 'sarcasm_training_data.json'\n",
        "# train_sentences, train_labels = load_sarcasm_data(filepath)\n",
        "# filepath = 'sarcasm_validation_data.json'\n",
        "# validation_sentences, validation_labels = load_sarcasm_data(filepath)"
      ],
      "metadata": {
        "id": "9pVKOOJ9MGBb"
      },
      "execution_count": 133,
      "outputs": []
    },
    {
      "cell_type": "code",
      "execution_count": 134,
      "metadata": {
        "id": "N_y_rhPWNXRW",
        "colab": {
          "base_uri": "https://localhost:8080/"
        },
        "outputId": "5b44f198-50c8-4f99-fdbc-cfb402ba52d8"
      },
      "outputs": [
        {
          "output_type": "stream",
          "name": "stdout",
          "text": [
            "52/52 [==============================] - 2s 26ms/step\n",
            "52/52 [==============================] - 3s 22ms/step\n",
            "Sentiment Prediction: [1. 1. 1. ... 1. 0. 1.] 0.45415647921760394\n",
            "Sarcasm Prediction: [0. 0. 1. ... 1. 0. 1.] 0.24877750611246943\n",
            "Combined Prediction: [1 1 0 ... 0 0 0] 0.44865525672371637\n"
          ]
        }
      ],
      "source": [
        "# Use this to check accuracy on validation set of Sentiment data. You can change\n",
        "# variables to check for appropriate data you need from above cells.\n",
        "tweet_list = validation_sentences\n",
        "tweet_labels = validation_labels\n",
        "\n",
        "\n",
        "sentiment_preds = np.squeeze(sentiment_model.predict(tweet_list, round_results=True))\n",
        "sarcasm_preds = np.squeeze(sarcasm_model.predict(tweet_list, round_results=True))\n",
        "\n",
        "if sentiment_preds.shape == ():\n",
        "    sentiment_preds, sarcasm_preds = [int(sentiment_preds)], [int(sarcasm_preds)]\n",
        "    # combined_preds = sentiment_preds ^ sarcasm_preds\n",
        "combined_preds = np.array([int(i)^int(j) for i, j in zip(sentiment_preds, sarcasm_preds)])\n",
        "\n",
        "print('Sentiment Prediction:', sentiment_preds, np.sum(sentiment_preds)/len(sentiment_preds))\n",
        "print('Sarcasm Prediction:', sarcasm_preds, np.sum(sarcasm_preds)/len(sarcasm_preds))\n",
        "print('Combined Prediction:', combined_preds, np.sum(combined_preds)/len(combined_preds))"
      ]
    },
    {
      "cell_type": "code",
      "source": [
        "def accuracy(preds, labels):\n",
        "    count = 0\n",
        "    for i, j in zip(preds, labels):\n",
        "        if int(i) == int(j): count += 1\n",
        "    return count / len(preds)"
      ],
      "metadata": {
        "id": "zBB-BTPYmpi1"
      },
      "execution_count": 135,
      "outputs": []
    },
    {
      "cell_type": "code",
      "source": [
        "# Accuracy\n",
        "print('Sentiment model accuracy:', accuracy(sentiment_preds, tweet_labels))\n",
        "print('Combined model accuracy:', accuracy(combined_preds, tweet_labels))"
      ],
      "metadata": {
        "id": "BtUinVmw3exQ",
        "colab": {
          "base_uri": "https://localhost:8080/"
        },
        "outputId": "37d3edcf-2c0f-410e-f763-8ae27f2133d0"
      },
      "execution_count": 136,
      "outputs": [
        {
          "output_type": "stream",
          "name": "stdout",
          "text": [
            "Sentiment model accuracy: 0.7603911980440098\n",
            "Combined model accuracy: 0.6204156479217604\n"
          ]
        }
      ]
    },
    {
      "cell_type": "code",
      "source": [
        "from sklearn.metrics import confusion_matrix, ConfusionMatrixDisplay\n",
        "cm = confusion_matrix(sentiment_preds, tweet_labels)\n",
        "ConfusionMatrixDisplay(cm).plot()"
      ],
      "metadata": {
        "id": "KbIjX0By4QlT",
        "colab": {
          "base_uri": "https://localhost:8080/",
          "height": 466
        },
        "outputId": "d24edf58-df75-40d3-f51a-ccd57d3170dc"
      },
      "execution_count": 138,
      "outputs": [
        {
          "output_type": "execute_result",
          "data": {
            "text/plain": [
              "<sklearn.metrics._plot.confusion_matrix.ConfusionMatrixDisplay at 0x7fb20cf5a290>"
            ]
          },
          "metadata": {},
          "execution_count": 138
        },
        {
          "output_type": "display_data",
          "data": {
            "text/plain": [
              "<Figure size 640x480 with 2 Axes>"
            ],
            "image/png": "[encoded data removed]"
          },
          "metadata": {}
        }
      ]
    },
    {
      "cell_type": "code",
      "source": [],
      "metadata": {
        "id": "VE2Mtzs0grd9"
      },
      "execution_count": null,
      "outputs": []
    }
  ],
  "metadata": {
    "colab": {
      "provenance": []
    },
    "gpuClass": "standard",
    "kernelspec": {
      "display_name": "Python 3",
      "name": "python3"
    },
    "language_info": {
      "name": "python"
    }
  },
  "nbformat": 4,
  "nbformat_minor": 0
}